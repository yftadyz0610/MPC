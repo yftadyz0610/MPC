{
 "cells": [
  {
   "cell_type": "markdown",
   "id": "3c197bd5",
   "metadata": {
    "pycharm": {
     "name": "#%% md\n"
    }
   },
   "source": [
    "# Config"
   ]
  },
  {
   "cell_type": "code",
   "execution_count": null,
   "id": "2d2ffb82",
   "metadata": {
    "pycharm": {
     "name": "#%%\n"
    }
   },
   "outputs": [],
   "source": [
    "# Label\n",
    "# 0: Physical\n",
    "# 1: Mental"
   ]
  },
  {
   "cell_type": "code",
   "execution_count": 3,
   "id": "d0fef5d5",
   "metadata": {
    "pycharm": {
     "name": "#%%\n"
    }
   },
   "outputs": [],
   "source": [
    "import pandas as pd\n",
    "import numpy as npy\n",
    "import tqdm\n",
    "from collections import defaultdict\n",
    "import joblib\n",
    "import time\n",
    "import json\n",
    "import traceback"
   ]
  },
  {
   "cell_type": "code",
   "execution_count": 4,
   "id": "47fb042c",
   "metadata": {
    "pycharm": {
     "name": "#%%\n"
    }
   },
   "outputs": [],
   "source": [
    "workdir='./'\n",
    "import sys\n",
    "sys.path.append(workdir)\n",
    "import os\n",
    "os.chdir(workdir)"
   ]
  },
  {
   "cell_type": "markdown",
   "id": "db245738",
   "metadata": {
    "pycharm": {
     "name": "#%% md\n"
    }
   },
   "source": [
    "## SentiWordNet"
   ]
  },
  {
   "cell_type": "code",
   "execution_count": 27,
   "id": "a228245c",
   "metadata": {
    "pycharm": {
     "name": "#%%\n"
    }
   },
   "outputs": [],
   "source": [
    "sentinet=pd.read_csv('SentiWordNet3.csv',dtype={'ID':str})\n",
    "sentinet=sentinet.drop(['Unnamed: 0','PosScore','NegScore'],axis=1)"
   ]
  },
  {
   "cell_type": "code",
   "execution_count": 28,
   "id": "92bf2ddd",
   "metadata": {
    "pycharm": {
     "name": "#%%\n"
    }
   },
   "outputs": [
    {
     "data": {
      "text/html": [
       "<div>\n",
       "<style scoped>\n",
       "    .dataframe tbody tr th:only-of-type {\n",
       "        vertical-align: middle;\n",
       "    }\n",
       "\n",
       "    .dataframe tbody tr th {\n",
       "        vertical-align: top;\n",
       "    }\n",
       "\n",
       "    .dataframe thead th {\n",
       "        text-align: right;\n",
       "    }\n",
       "</style>\n",
       "<table border=\"1\" class=\"dataframe\">\n",
       "  <thead>\n",
       "    <tr style=\"text-align: right;\">\n",
       "      <th></th>\n",
       "      <th>POS</th>\n",
       "      <th>ID</th>\n",
       "      <th>SynsetTerms</th>\n",
       "      <th>Gloss</th>\n",
       "    </tr>\n",
       "  </thead>\n",
       "  <tbody>\n",
       "    <tr>\n",
       "      <th>0</th>\n",
       "      <td>a</td>\n",
       "      <td>00001740</td>\n",
       "      <td>able#1</td>\n",
       "      <td>(usually followed by `to') having the necessar...</td>\n",
       "    </tr>\n",
       "    <tr>\n",
       "      <th>1</th>\n",
       "      <td>a</td>\n",
       "      <td>00002098</td>\n",
       "      <td>unable#1</td>\n",
       "      <td>(usually followed by `to') not having the nece...</td>\n",
       "    </tr>\n",
       "    <tr>\n",
       "      <th>2</th>\n",
       "      <td>a</td>\n",
       "      <td>00002312</td>\n",
       "      <td>dorsal#2 abaxial#1</td>\n",
       "      <td>facing away from the axis of an organ or organ...</td>\n",
       "    </tr>\n",
       "    <tr>\n",
       "      <th>3</th>\n",
       "      <td>a</td>\n",
       "      <td>00002527</td>\n",
       "      <td>ventral#2 adaxial#1</td>\n",
       "      <td>nearest to or facing toward the axis of an org...</td>\n",
       "    </tr>\n",
       "    <tr>\n",
       "      <th>4</th>\n",
       "      <td>a</td>\n",
       "      <td>00002730</td>\n",
       "      <td>acroscopic#1</td>\n",
       "      <td>facing or on the side toward the apex</td>\n",
       "    </tr>\n",
       "  </tbody>\n",
       "</table>\n",
       "</div>"
      ],
      "text/plain": [
       "  POS        ID          SynsetTerms  \\\n",
       "0   a  00001740               able#1   \n",
       "1   a  00002098             unable#1   \n",
       "2   a  00002312   dorsal#2 abaxial#1   \n",
       "3   a  00002527  ventral#2 adaxial#1   \n",
       "4   a  00002730         acroscopic#1   \n",
       "\n",
       "                                               Gloss  \n",
       "0  (usually followed by `to') having the necessar...  \n",
       "1  (usually followed by `to') not having the nece...  \n",
       "2  facing away from the axis of an organ or organ...  \n",
       "3  nearest to or facing toward the axis of an org...  \n",
       "4              facing or on the side toward the apex  "
      ]
     },
     "execution_count": 28,
     "metadata": {},
     "output_type": "execute_result"
    }
   ],
   "source": [
    "sentinet.head()"
   ]
  },
  {
   "cell_type": "code",
   "execution_count": null,
   "id": "eaabde17",
   "metadata": {
    "pycharm": {
     "name": "#%%\n"
    }
   },
   "outputs": [],
   "source": [
    "assert sentinet.shape[0]==sentinet.loc[~sentinet['ID'].duplicated()].shape[0]"
   ]
  },
  {
   "cell_type": "code",
   "execution_count": 30,
   "id": "37d5e8ce",
   "metadata": {
    "pycharm": {
     "name": "#%%\n"
    }
   },
   "outputs": [
    {
     "data": {
      "text/html": [
       "<div>\n",
       "<style scoped>\n",
       "    .dataframe tbody tr th:only-of-type {\n",
       "        vertical-align: middle;\n",
       "    }\n",
       "\n",
       "    .dataframe tbody tr th {\n",
       "        vertical-align: top;\n",
       "    }\n",
       "\n",
       "    .dataframe thead th {\n",
       "        text-align: right;\n",
       "    }\n",
       "</style>\n",
       "<table border=\"1\" class=\"dataframe\">\n",
       "  <thead>\n",
       "    <tr style=\"text-align: right;\">\n",
       "      <th></th>\n",
       "      <th>POS</th>\n",
       "      <th>ID</th>\n",
       "      <th>SynsetTerms</th>\n",
       "      <th>Gloss</th>\n",
       "    </tr>\n",
       "  </thead>\n",
       "  <tbody>\n",
       "    <tr>\n",
       "      <th>0</th>\n",
       "      <td>a</td>\n",
       "      <td>00001740</td>\n",
       "      <td>able#1</td>\n",
       "      <td>(usually followed by `to') having the necessar...</td>\n",
       "    </tr>\n",
       "    <tr>\n",
       "      <th>18156</th>\n",
       "      <td>n</td>\n",
       "      <td>00001740</td>\n",
       "      <td>entity#1</td>\n",
       "      <td>that which is perceived or known or inferred t...</td>\n",
       "    </tr>\n",
       "    <tr>\n",
       "      <th>100271</th>\n",
       "      <td>r</td>\n",
       "      <td>00001740</td>\n",
       "      <td>a_cappella#1</td>\n",
       "      <td>without musical accompaniment; they performed ...</td>\n",
       "    </tr>\n",
       "    <tr>\n",
       "      <th>103892</th>\n",
       "      <td>v</td>\n",
       "      <td>00001740</td>\n",
       "      <td>take_a_breath#1 suspire#2 respire#3 breathe#1</td>\n",
       "      <td>draw air into, and expel out of, the lungs; I ...</td>\n",
       "    </tr>\n",
       "  </tbody>\n",
       "</table>\n",
       "</div>"
      ],
      "text/plain": [
       "       POS        ID                                    SynsetTerms  \\\n",
       "0        a  00001740                                         able#1   \n",
       "18156    n  00001740                                       entity#1   \n",
       "100271   r  00001740                                   a_cappella#1   \n",
       "103892   v  00001740  take_a_breath#1 suspire#2 respire#3 breathe#1   \n",
       "\n",
       "                                                    Gloss  \n",
       "0       (usually followed by `to') having the necessar...  \n",
       "18156   that which is perceived or known or inferred t...  \n",
       "100271  without musical accompaniment; they performed ...  \n",
       "103892  draw air into, and expel out of, the lungs; I ...  "
      ]
     },
     "execution_count": 30,
     "metadata": {},
     "output_type": "execute_result"
    }
   ],
   "source": [
    "sentinet.loc[sentinet['ID']=='00001740']"
   ]
  },
  {
   "cell_type": "markdown",
   "id": "1df9414d",
   "metadata": {
    "pycharm": {
     "name": "#%% md\n"
    }
   },
   "source": [
    "    The original \"ID\" has duplicated values. We replace it with a new one."
   ]
  },
  {
   "cell_type": "code",
   "execution_count": 31,
   "id": "7afe6239",
   "metadata": {
    "pycharm": {
     "name": "#%%\n"
    }
   },
   "outputs": [],
   "source": [
    "sentinet=sentinet.drop(['ID'],axis=1)\n",
    "sentinet['id']=[_ for _ in range(sentinet.shape[0])]"
   ]
  },
  {
   "cell_type": "code",
   "execution_count": 32,
   "id": "2e20ce7b",
   "metadata": {
    "pycharm": {
     "name": "#%%\n"
    }
   },
   "outputs": [
    {
     "data": {
      "text/html": [
       "<div>\n",
       "<style scoped>\n",
       "    .dataframe tbody tr th:only-of-type {\n",
       "        vertical-align: middle;\n",
       "    }\n",
       "\n",
       "    .dataframe tbody tr th {\n",
       "        vertical-align: top;\n",
       "    }\n",
       "\n",
       "    .dataframe thead th {\n",
       "        text-align: right;\n",
       "    }\n",
       "</style>\n",
       "<table border=\"1\" class=\"dataframe\">\n",
       "  <thead>\n",
       "    <tr style=\"text-align: right;\">\n",
       "      <th></th>\n",
       "      <th>POS</th>\n",
       "      <th>SynsetTerms</th>\n",
       "      <th>Gloss</th>\n",
       "      <th>id</th>\n",
       "    </tr>\n",
       "  </thead>\n",
       "  <tbody>\n",
       "    <tr>\n",
       "      <th>0</th>\n",
       "      <td>a</td>\n",
       "      <td>able#1</td>\n",
       "      <td>(usually followed by `to') having the necessar...</td>\n",
       "      <td>0</td>\n",
       "    </tr>\n",
       "    <tr>\n",
       "      <th>1</th>\n",
       "      <td>a</td>\n",
       "      <td>unable#1</td>\n",
       "      <td>(usually followed by `to') not having the nece...</td>\n",
       "      <td>1</td>\n",
       "    </tr>\n",
       "    <tr>\n",
       "      <th>2</th>\n",
       "      <td>a</td>\n",
       "      <td>dorsal#2 abaxial#1</td>\n",
       "      <td>facing away from the axis of an organ or organ...</td>\n",
       "      <td>2</td>\n",
       "    </tr>\n",
       "    <tr>\n",
       "      <th>3</th>\n",
       "      <td>a</td>\n",
       "      <td>ventral#2 adaxial#1</td>\n",
       "      <td>nearest to or facing toward the axis of an org...</td>\n",
       "      <td>3</td>\n",
       "    </tr>\n",
       "    <tr>\n",
       "      <th>4</th>\n",
       "      <td>a</td>\n",
       "      <td>acroscopic#1</td>\n",
       "      <td>facing or on the side toward the apex</td>\n",
       "      <td>4</td>\n",
       "    </tr>\n",
       "  </tbody>\n",
       "</table>\n",
       "</div>"
      ],
      "text/plain": [
       "  POS          SynsetTerms                                              Gloss  \\\n",
       "0   a               able#1  (usually followed by `to') having the necessar...   \n",
       "1   a             unable#1  (usually followed by `to') not having the nece...   \n",
       "2   a   dorsal#2 abaxial#1  facing away from the axis of an organ or organ...   \n",
       "3   a  ventral#2 adaxial#1  nearest to or facing toward the axis of an org...   \n",
       "4   a         acroscopic#1              facing or on the side toward the apex   \n",
       "\n",
       "   id  \n",
       "0   0  \n",
       "1   1  \n",
       "2   2  \n",
       "3   3  \n",
       "4   4  "
      ]
     },
     "execution_count": 32,
     "metadata": {},
     "output_type": "execute_result"
    }
   ],
   "source": [
    "sentinet.head()"
   ]
  },
  {
   "cell_type": "code",
   "execution_count": 90,
   "id": "51dda865",
   "metadata": {
    "pycharm": {
     "name": "#%%\n"
    }
   },
   "outputs": [],
   "source": [
    "sentinet.to_csv('Data/SentiWordNet3_new.csv',sep='|')"
   ]
  },
  {
   "cell_type": "code",
   "execution_count": 7,
   "id": "22f82bed",
   "metadata": {
    "pycharm": {
     "name": "#%%\n"
    }
   },
   "outputs": [],
   "source": [
    "sentinet=pd.read_csv('Data/SentiWordNet3_new.csv',sep='|')"
   ]
  },
  {
   "cell_type": "code",
   "execution_count": 8,
   "id": "da781cf5",
   "metadata": {
    "pycharm": {
     "name": "#%%\n"
    }
   },
   "outputs": [],
   "source": [
    "adj=sentinet.loc[(sentinet.POS=='a')]"
   ]
  },
  {
   "cell_type": "code",
   "execution_count": 29,
   "id": "01a67d1c",
   "metadata": {
    "pycharm": {
     "name": "#%%\n"
    }
   },
   "outputs": [
    {
     "data": {
      "text/plain": [
       "(18156, 6)"
      ]
     },
     "execution_count": 29,
     "metadata": {},
     "output_type": "execute_result"
    }
   ],
   "source": [
    "adj.shape"
   ]
  },
  {
   "cell_type": "code",
   "execution_count": 32,
   "id": "a4cdc0c2",
   "metadata": {
    "pycharm": {
     "name": "#%%\n"
    }
   },
   "outputs": [],
   "source": [
    "adv=sentinet.loc[(sentinet.POS=='r')]"
   ]
  },
  {
   "cell_type": "code",
   "execution_count": 9,
   "id": "790fc2eb",
   "metadata": {
    "pycharm": {
     "name": "#%%\n"
    }
   },
   "outputs": [],
   "source": [
    "verb=sentinet.loc[(sentinet.POS=='v')]"
   ]
  },
  {
   "cell_type": "code",
   "execution_count": 30,
   "id": "6ae976e7",
   "metadata": {
    "pycharm": {
     "name": "#%%\n"
    }
   },
   "outputs": [
    {
     "data": {
      "text/plain": [
       "(13767, 5)"
      ]
     },
     "execution_count": 30,
     "metadata": {},
     "output_type": "execute_result"
    }
   ],
   "source": [
    "verb.shape"
   ]
  },
  {
   "cell_type": "code",
   "execution_count": 33,
   "id": "096c71fb",
   "metadata": {
    "pycharm": {
     "name": "#%%\n"
    }
   },
   "outputs": [],
   "source": [
    "noun=sentinet.loc[(sentinet.POS=='n')]"
   ]
  },
  {
   "cell_type": "code",
   "execution_count": 37,
   "id": "c78bbe09",
   "metadata": {
    "pycharm": {
     "name": "#%%\n"
    }
   },
   "outputs": [],
   "source": [
    "sentinet['text']=sentinet['Gloss']\n",
    "sentinet['target']=-1\n",
    "sentinet.to_csv('Data/SentiWordNet3_new.csv',sep='|')"
   ]
  },
  {
   "cell_type": "markdown",
   "id": "5b5c75be",
   "metadata": {
    "pycharm": {
     "name": "#%% md\n"
    }
   },
   "source": [
    "# TestSet"
   ]
  },
  {
   "cell_type": "markdown",
   "id": "3e561c30",
   "metadata": {
    "pycharm": {
     "name": "#%% md\n"
    }
   },
   "source": [
    "## ADJ"
   ]
  },
  {
   "cell_type": "code",
   "execution_count": 34,
   "id": "0573e677",
   "metadata": {
    "pycharm": {
     "name": "#%%\n"
    }
   },
   "outputs": [],
   "source": [
    "testset_a=adj.sample(n=100)"
   ]
  },
  {
   "cell_type": "code",
   "execution_count": null,
   "id": "c59e2509",
   "metadata": {
    "pycharm": {
     "name": "#%%\n",
     "is_executing": true
    }
   },
   "outputs": [],
   "source": [
    "for _id,_w,_gloss in zip(testset_a['id'],testset_a['SynsetTerms'],testset_a['Gloss']):\n",
    "    print('%d\\t%s\\t%s'%(_id,_w,_gloss))"
   ]
  },
  {
   "cell_type": "code",
   "execution_count": 10,
   "id": "df3dd5fa",
   "metadata": {
    "pycharm": {
     "name": "#%%\n"
    }
   },
   "outputs": [],
   "source": [
    "# read annotation result\n",
    "testset_adj=pd.read_csv('anno_adj.csv')[['id','words','gloss','class','subclass']]\n",
    "testset_adj = testset_adj.fillna('unavailable')"
   ]
  },
  {
   "cell_type": "code",
   "execution_count": 44,
   "id": "a1e8b37e",
   "metadata": {
    "pycharm": {
     "name": "#%%\n"
    }
   },
   "outputs": [
    {
     "data": {
      "text/html": [
       "<div>\n",
       "<style scoped>\n",
       "    .dataframe tbody tr th:only-of-type {\n",
       "        vertical-align: middle;\n",
       "    }\n",
       "\n",
       "    .dataframe tbody tr th {\n",
       "        vertical-align: top;\n",
       "    }\n",
       "\n",
       "    .dataframe thead th {\n",
       "        text-align: right;\n",
       "    }\n",
       "</style>\n",
       "<table border=\"1\" class=\"dataframe\">\n",
       "  <thead>\n",
       "    <tr style=\"text-align: right;\">\n",
       "      <th></th>\n",
       "      <th>id</th>\n",
       "      <th>words</th>\n",
       "      <th>gloss</th>\n",
       "      <th>class</th>\n",
       "      <th>subclass</th>\n",
       "    </tr>\n",
       "  </thead>\n",
       "  <tbody>\n",
       "    <tr>\n",
       "      <th>0</th>\n",
       "      <td>17390</td>\n",
       "      <td>washingtonian#3</td>\n",
       "      <td>of or relating to the capital of the United St...</td>\n",
       "      <td>0</td>\n",
       "      <td>unavailable</td>\n",
       "    </tr>\n",
       "    <tr>\n",
       "      <th>1</th>\n",
       "      <td>11460</td>\n",
       "      <td>suggestive#2 significative#1 revelatory#1 indi...</td>\n",
       "      <td>(usually followed by `of') pointing out or rev...</td>\n",
       "      <td>1</td>\n",
       "      <td>unavailable</td>\n",
       "    </tr>\n",
       "    <tr>\n",
       "      <th>2</th>\n",
       "      <td>1133</td>\n",
       "      <td>ferny#1 ferned#1</td>\n",
       "      <td>abounding in or covered with ferns; the ferny ...</td>\n",
       "      <td>0</td>\n",
       "      <td>unavailable</td>\n",
       "    </tr>\n",
       "    <tr>\n",
       "      <th>3</th>\n",
       "      <td>14986</td>\n",
       "      <td>cancroid#1</td>\n",
       "      <td>of or relating to a cancroid</td>\n",
       "      <td>0</td>\n",
       "      <td>unavailable</td>\n",
       "    </tr>\n",
       "    <tr>\n",
       "      <th>4</th>\n",
       "      <td>2873</td>\n",
       "      <td>inefficient#2 ineffective#3</td>\n",
       "      <td>lacking the ability or skill to perform effect...</td>\n",
       "      <td>1</td>\n",
       "      <td>reasoning</td>\n",
       "    </tr>\n",
       "  </tbody>\n",
       "</table>\n",
       "</div>"
      ],
      "text/plain": [
       "      id                                              words  \\\n",
       "0  17390                                    washingtonian#3   \n",
       "1  11460  suggestive#2 significative#1 revelatory#1 indi...   \n",
       "2   1133                                   ferny#1 ferned#1   \n",
       "3  14986                                         cancroid#1   \n",
       "4   2873                        inefficient#2 ineffective#3   \n",
       "\n",
       "                                               gloss  class     subclass  \n",
       "0  of or relating to the capital of the United St...      0  unavailable  \n",
       "1  (usually followed by `of') pointing out or rev...      1  unavailable  \n",
       "2  abounding in or covered with ferns; the ferny ...      0  unavailable  \n",
       "3                       of or relating to a cancroid      0  unavailable  \n",
       "4  lacking the ability or skill to perform effect...      1    reasoning  "
      ]
     },
     "execution_count": 44,
     "metadata": {},
     "output_type": "execute_result"
    }
   ],
   "source": [
    "testset_adj.head()"
   ]
  },
  {
   "cell_type": "markdown",
   "id": "766523a9",
   "metadata": {
    "pycharm": {
     "name": "#%% md\n"
    }
   },
   "source": [
    "## ADV"
   ]
  },
  {
   "cell_type": "code",
   "execution_count": 9,
   "id": "d9c2b816",
   "metadata": {
    "pycharm": {
     "name": "#%%\n"
    }
   },
   "outputs": [],
   "source": [
    "testset_adv=adv.sample(n=100)"
   ]
  },
  {
   "cell_type": "code",
   "execution_count": null,
   "id": "006f0466",
   "metadata": {
    "pycharm": {
     "name": "#%%\n",
     "is_executing": true
    }
   },
   "outputs": [],
   "source": [
    "for _id,_w,_gloss in zip(testset_adv['id'],testset_adv['SynsetTerms'],testset_adv['Gloss']):\n",
    "    print('%d\\t%s\\t%s'%(_id,_w,_gloss))"
   ]
  },
  {
   "cell_type": "markdown",
   "id": "6c9b0171",
   "metadata": {
    "pycharm": {
     "name": "#%% md\n"
    }
   },
   "source": [
    "    From above glosses, we find most of them bear a mental sense. The reason might be an adv word is used to \n",
    "    describe an action, and therefore the meaning of an adv word is related to the mentality that underlies an \n",
    "    action. No need to classify MPC."
   ]
  },
  {
   "cell_type": "markdown",
   "id": "334e4dd8",
   "metadata": {
    "pycharm": {
     "name": "#%% md\n"
    }
   },
   "source": [
    "## Verb"
   ]
  },
  {
   "cell_type": "code",
   "execution_count": 15,
   "id": "94fea504",
   "metadata": {
    "pycharm": {
     "name": "#%%\n"
    }
   },
   "outputs": [],
   "source": [
    "testset_v=verb.sample(n=100)"
   ]
  },
  {
   "cell_type": "code",
   "execution_count": null,
   "id": "38503d6f",
   "metadata": {
    "pycharm": {
     "name": "#%%\n",
     "is_executing": true
    }
   },
   "outputs": [],
   "source": [
    "for _id,_w,_gloss in zip(testset_v['id'],testset_v['SynsetTerms'],testset_v['Gloss']):\n",
    "    print('%d\\t%s\\t%s'%(_id,_w,_gloss))"
   ]
  },
  {
   "cell_type": "code",
   "execution_count": 11,
   "id": "ef0c43ca",
   "metadata": {
    "pycharm": {
     "name": "#%%\n"
    }
   },
   "outputs": [],
   "source": [
    "# read annotation result\n",
    "testset_v=pd.read_csv('anno_verb.csv')[['id','words','gloss','class','subclass']]"
   ]
  },
  {
   "cell_type": "code",
   "execution_count": 12,
   "id": "c4a537a2",
   "metadata": {
    "pycharm": {
     "name": "#%%\n"
    }
   },
   "outputs": [],
   "source": [
    "testset_v = testset_v.fillna('unavailable')"
   ]
  },
  {
   "cell_type": "markdown",
   "id": "1f55305a",
   "metadata": {
    "pycharm": {
     "name": "#%% md\n"
    }
   },
   "source": [
    "## Noun"
   ]
  },
  {
   "cell_type": "code",
   "execution_count": 13,
   "id": "a664a576",
   "metadata": {
    "pycharm": {
     "name": "#%%\n"
    }
   },
   "outputs": [],
   "source": [
    "testset_n=noun.sample(n=100)"
   ]
  },
  {
   "cell_type": "code",
   "execution_count": null,
   "id": "f2f71809",
   "metadata": {
    "pycharm": {
     "name": "#%%\n",
     "is_executing": true
    }
   },
   "outputs": [],
   "source": [
    "for _id,_w,_gloss in zip(testset_n['id'],testset_n['SynsetTerms'],testset_n['Gloss']):\n",
    "    print('%d\\t%s\\t%s'%(_id,_w,_gloss))"
   ]
  },
  {
   "cell_type": "markdown",
   "id": "7a91d65d",
   "metadata": {
    "pycharm": {
     "name": "#%% md\n"
    }
   },
   "source": [
    "    Most noun glosses are related to a concrete entity bearing a physical concept. No need to classify MPC."
   ]
  },
  {
   "cell_type": "code",
   "execution_count": 24,
   "id": "69174f57",
   "metadata": {
    "pycharm": {
     "name": "#%%\n"
    }
   },
   "outputs": [],
   "source": [
    "# get all ids in testset\n",
    "\n",
    "test_ids=set(testset_a['id'].tolist()+testset_v['id'].tolist())\n",
    "\n",
    "sentinet['is_test']=sentinet['id'].apply(lambda x: True if x in test_ids else False)"
   ]
  },
  {
   "cell_type": "code",
   "execution_count": null,
   "id": "f2828cf6",
   "metadata": {
    "pycharm": {
     "name": "#%%\n"
    }
   },
   "outputs": [],
   "source": []
  },
  {
   "cell_type": "markdown",
   "id": "8e65ddd8",
   "metadata": {
    "pycharm": {
     "name": "#%% md\n"
    }
   },
   "source": [
    "# Train (Adj+Verb)"
   ]
  },
  {
   "cell_type": "markdown",
   "id": "41453780",
   "metadata": {
    "pycharm": {
     "name": "#%% md\n"
    }
   },
   "source": [
    "        \n",
    "    In each iteration, about 40 words are selected out for training. Iterations stop if performance converges.\n",
    "    "
   ]
  },
  {
   "cell_type": "code",
   "execution_count": 17,
   "id": "6eab48df",
   "metadata": {
    "pycharm": {
     "name": "#%%\n"
    }
   },
   "outputs": [],
   "source": [
    "K=20 # number of positive samples in each round and negative samples have equal number."
   ]
  },
  {
   "cell_type": "markdown",
   "id": "60e27e78",
   "metadata": {
    "pycharm": {
     "name": "#%% md\n"
    }
   },
   "source": [
    "## Round1"
   ]
  },
  {
   "cell_type": "markdown",
   "id": "1b3f475a",
   "metadata": {
    "pycharm": {
     "name": "#%% md\n"
    }
   },
   "source": [
    "### Setup"
   ]
  },
  {
   "cell_type": "code",
   "execution_count": 25,
   "id": "54b12c0e",
   "metadata": {
    "pycharm": {
     "name": "#%%\n"
    }
   },
   "outputs": [],
   "source": [
    "# use non-test and adj/verb as cand where we pick up glosses for annotation randomly\n",
    "# \n",
    "\n",
    "cand=sentinet.loc[(~sentinet.is_test)&((sentinet.POS=='a')|(sentinet.POS=='v'))].sample(100)"
   ]
  },
  {
   "cell_type": "code",
   "execution_count": null,
   "id": "50a7910f",
   "metadata": {
    "pycharm": {
     "name": "#%%\n",
     "is_executing": true
    }
   },
   "outputs": [],
   "source": [
    "for _id,_w,_p,_gloss in zip(cand['id'],cand['SynsetTerms'],cand['POS'],cand['Gloss']):\n",
    "    print('%d\\t%s\\t%s\\t%s'%(_id,_w,_p,_gloss))"
   ]
  },
  {
   "cell_type": "code",
   "execution_count": null,
   "id": "7e223b30",
   "metadata": {
    "pycharm": {
     "name": "#%%\n"
    }
   },
   "outputs": [],
   "source": [
    "\n",
    "\n",
    "\"\"\"physical1=['','','','','','','','','','',\n",
    "      '','','','','','','','','',\n",
    "     '','','','','','','']\n",
    "mental1=['','','','','','','','','','',\n",
    "      '','','','','','','','','',\n",
    "     '','']\n",
    "train_ids1=[]\"\"\"\n"
   ]
  },
  {
   "cell_type": "code",
   "execution_count": 50,
   "id": "fda75e54",
   "metadata": {
    "pycharm": {
     "name": "#%%\n"
    }
   },
   "outputs": [],
   "source": [
    "# Randomly choose some positive(mental) and negative(physical) words for training. Proportion of samples, 1:1\n",
    "# positive: class=1\n",
    "# negative: class=0\n",
    "\n",
    "train_r1=pd.read_csv('Data/train_v1_r1.csv')\n",
    "train_r1['text']=train_r1['gloss']\n",
    "train_r1['target']=train_r1['class']\n",
    "\n",
    "train_ids1=set(train_r1['id'].tolist())\n",
    "train_r1.to_csv('Data/train_v1_r1_ready.csv')\n"
   ]
  },
  {
   "cell_type": "code",
   "execution_count": 49,
   "id": "b0da5f05",
   "metadata": {
    "pycharm": {
     "name": "#%%\n"
    }
   },
   "outputs": [],
   "source": [
    "sentinet['is_train']=sentinet['id'].apply(lambda x: True if x in train_ids1 else False)"
   ]
  },
  {
   "cell_type": "markdown",
   "id": "81f863f2",
   "metadata": {
    "pycharm": {
     "name": "#%% md\n"
    }
   },
   "source": [
    "    Training is done by `train.py`. Remember setting Config.is_predict=False in `train.py` before training. "
   ]
  },
  {
   "cell_type": "markdown",
   "id": "0c202ea0",
   "metadata": {
    "pycharm": {
     "name": "#%% md\n"
    }
   },
   "source": [
    "### Evaluate"
   ]
  },
  {
   "cell_type": "markdown",
   "id": "12d3eb98",
   "metadata": {
    "pycharm": {
     "name": "#%% md\n"
    }
   },
   "source": [
    "    Predict over the whole sentinet. "
   ]
  },
  {
   "cell_type": "code",
   "execution_count": 51,
   "id": "74236189",
   "metadata": {
    "pycharm": {
     "name": "#%%\n"
    }
   },
   "outputs": [],
   "source": [
    "# get the dataset for prediction\n",
    "sentinet.loc[(sentinet.POS=='a')|(sentinet.POS=='v')].to_csv('Data/SentiWordNet3_new_a_v.csv',sep='|')"
   ]
  },
  {
   "cell_type": "code",
   "execution_count": 15,
   "id": "7c8e85b0",
   "metadata": {
    "pycharm": {
     "name": "#%%\n"
    }
   },
   "outputs": [],
   "source": [
    "sentinet_av=sentinet.loc[(sentinet.POS=='a')|(sentinet.POS=='v')]"
   ]
  },
  {
   "cell_type": "markdown",
   "id": "b59a14f2",
   "metadata": {
    "pycharm": {
     "name": "#%% md\n"
    }
   },
   "source": [
    "    Predicting is done by `train.py`. Remember setting Config.is_predict=True in `train.py`."
   ]
  },
  {
   "cell_type": "code",
   "execution_count": null,
   "id": "4ea3531f",
   "metadata": {
    "pycharm": {
     "name": "#%%\n",
     "is_executing": true
    }
   },
   "outputs": [],
   "source": [
    "pred=npy.load('Data/pred.v1.r1.npy') # load prediction result\n",
    "assert pred.shape[0]==sentinet_av.shape[0]\n",
    "sentinet_av['score']=pred.flatten()\n",
    "sentinet_av['uncertainty']=sentinet_av['score'].apply(lambda x: abs(x-0.5))"
   ]
  },
  {
   "cell_type": "code",
   "execution_count": 76,
   "id": "b32c1e40",
   "metadata": {
    "pycharm": {
     "name": "#%%\n"
    }
   },
   "outputs": [
    {
     "name": "stdout",
     "output_type": "stream",
     "text": [
      "positive::precision 0.586\n",
      "positive::recall 0.447\n",
      "negative::precision 0.704\n",
      "negative::recall 0.806\n",
      "F1: 0.51\n",
      "N F1: 0.75\n"
     ]
    }
   ],
   "source": [
    "# adj\n",
    "\n",
    "testset_adj=testset_adj.merge(sentinet_av[['id','score']],on='id')\n",
    "testset_adj['pred_label']=testset_adj['score'].apply(lambda x: 1 if x>0.5 else 0)\n",
    "testset_adj['target']=testset_adj['class']\n",
    "\n",
    "testset=testset_adj\n",
    "\n",
    "# positive::precision\n",
    "print(\"positive::precision %.3f\"%(testset_adj.loc[(testset_adj.pred_label==1)&(testset_adj.target==1)].shape[0]/testset_adj.loc[(testset_adj.pred_label==1)].shape[0]))\n",
    "print(\"positive::recall %.3f\"%(testset_adj.loc[(testset_adj.pred_label==1)&(testset_adj.target==1)].shape[0]/testset_adj.loc[(testset_adj.target==1)].shape[0]))\n",
    "\n",
    "\n",
    "print(\"negative::precision %.3f\"%(testset_adj.loc[(testset_adj.pred_label==0)&(testset_adj.target==0)].shape[0]/testset_adj.loc[(testset_adj.pred_label==0)].shape[0]))\n",
    "print(\"negative::recall %.3f\"%(testset_adj.loc[(testset_adj.pred_label==0)&(testset_adj.target==0)].shape[0]/testset_adj.loc[(testset_adj.target==0)].shape[0]))\n",
    "\n",
    "pp=testset.loc[(testset.pred_label==1)&(testset.target==1)].shape[0]/testset.loc[(testset.pred_label==1)].shape[0]\n",
    "pr=testset.loc[(testset.pred_label==1)&(testset.target==1)].shape[0]/testset.loc[(testset.target==1)].shape[0]\n",
    "\n",
    "print(\"F1: %.2f\"%(2*pp*pr/(pp+pr)))\n",
    "\n",
    "\n",
    "np=testset.loc[(testset.pred_label==0)&(testset.target==0)].shape[0]/testset.loc[(testset.pred_label==0)].shape[0]\n",
    "nr=testset.loc[(testset.pred_label==0)&(testset.target==0)].shape[0]/testset.loc[(testset.target==0)].shape[0]\n",
    "\n",
    "print(\"N F1: %.2f\"%(2*np*nr/(np+nr)))"
   ]
  },
  {
   "cell_type": "code",
   "execution_count": 89,
   "id": "ae38425d",
   "metadata": {
    "pycharm": {
     "name": "#%%\n"
    }
   },
   "outputs": [
    {
     "name": "stdout",
     "output_type": "stream",
     "text": [
      "positive::precision 0.560\n",
      "positive::recall 0.757\n",
      "negative::precision 0.820\n",
      "negative::recall 0.651\n",
      "F1: 0.64\n",
      "N F1: 0.73\n"
     ]
    }
   ],
   "source": [
    "# verb\n",
    "\n",
    "testset_v=testset_v.merge(sentinet_av[['id','score']],on='id')\n",
    "testset_v['pred_label']=testset_v['score'].apply(lambda x: 1 if x>0.5 else 0)\n",
    "testset_v['target']=testset_v['class']\n",
    "\n",
    "testset=testset_v\n",
    "\n",
    "# positive::precision\n",
    "print(\"positive::precision %.3f\"%(testset.loc[(testset.pred_label==1)&(testset.target==1)].shape[0]/testset.loc[(testset.pred_label==1)].shape[0]))\n",
    "print(\"positive::recall %.3f\"%(testset.loc[(testset.pred_label==1)&(testset.target==1)].shape[0]/testset.loc[(testset.target==1)].shape[0]))\n",
    "\n",
    "\n",
    "print(\"negative::precision %.3f\"%(testset.loc[(testset.pred_label==0)&(testset.target==0)].shape[0]/testset.loc[(testset.pred_label==0)].shape[0]))\n",
    "print(\"negative::recall %.3f\"%(testset.loc[(testset.pred_label==0)&(testset.target==0)].shape[0]/testset.loc[(testset.target==0)].shape[0]))\n",
    "\n",
    "pp=testset.loc[(testset.pred_label==1)&(testset.target==1)].shape[0]/testset.loc[(testset.pred_label==1)].shape[0]\n",
    "pr=testset.loc[(testset.pred_label==1)&(testset.target==1)].shape[0]/testset.loc[(testset.target==1)].shape[0]\n",
    "\n",
    "print(\"F1: %.2f\"%(2*pp*pr/(pp+pr)))\n",
    "\n",
    "\n",
    "np=testset.loc[(testset.pred_label==0)&(testset.target==0)].shape[0]/testset.loc[(testset.pred_label==0)].shape[0]\n",
    "nr=testset.loc[(testset.pred_label==0)&(testset.target==0)].shape[0]/testset.loc[(testset.target==0)].shape[0]\n",
    "\n",
    "print(\"N F1: %.2f\"%(2*np*nr/(np+nr)))"
   ]
  },
  {
   "cell_type": "markdown",
   "id": "d5f0e9dc",
   "metadata": {
    "pycharm": {
     "name": "#%% md\n"
    }
   },
   "source": [
    "### Uncertain"
   ]
  },
  {
   "cell_type": "markdown",
   "id": "e6fb3dc3",
   "metadata": {
    "pycharm": {
     "name": "#%% md\n"
    }
   },
   "source": [
    "    Filter out already chosen glosses and sort the others by uncertainty from the whole predictions."
   ]
  },
  {
   "cell_type": "code",
   "execution_count": null,
   "id": "f30aaed2",
   "metadata": {
    "pycharm": {
     "name": "#%%\n",
     "is_executing": true
    }
   },
   "outputs": [],
   "source": [
    "cand=sentinet_av.loc[(~sentinet_av.is_test)&(~sentinet_av.is_train)].sort_values(by='uncertainty',ascending=True)[:100]\n",
    "\n",
    "for _id,_w,_p,_gloss,_s in zip(cand['id'],cand['SynsetTerms'],cand['POS'],cand['Gloss'],cand['score']):\n",
    "    print('%d\\t%s\\t%s\\t%s\\t%.4f'%(_id,_w,_p,_gloss,_s))"
   ]
  },
  {
   "cell_type": "markdown",
   "id": "59bf17f4",
   "metadata": {
    "pycharm": {
     "name": "#%% md\n"
    }
   },
   "source": [
    "## Round2"
   ]
  },
  {
   "cell_type": "markdown",
   "id": "7ea90b1e",
   "metadata": {
    "pycharm": {
     "name": "#%% md\n"
    }
   },
   "source": [
    "### Setup"
   ]
  },
  {
   "cell_type": "code",
   "execution_count": 96,
   "id": "32a0228d",
   "metadata": {
    "pycharm": {
     "name": "#%%\n"
    }
   },
   "outputs": [],
   "source": [
    "# Choose training samples from those most uncertain words in round1. Proportion of samples, 1:1\n",
    "# positive: class=1\n",
    "# negative: class=0\n",
    "\n",
    "train_r2=pd.read_csv('Data/train_v1_r2.csv')\n",
    "#train_r2['text']=train_r2['gloss'] \n",
    "#train_r2['target']=train_r2['class']\n",
    "\n",
    "train=pd.concat([train_r1[['id','text','target']],train_r2[['id','text','target']]])\n",
    "\n",
    "train_ids=set(train['id'].tolist())\n",
    "\n",
    "sentinet['is_train']=sentinet['id'].apply(lambda x: True if x in train_ids else False)\n",
    "\n",
    "train.to_csv('Data/train_v1_r1_r2.csv')"
   ]
  },
  {
   "cell_type": "markdown",
   "id": "e7c1140d",
   "metadata": {
    "pycharm": {
     "name": "#%% md\n"
    }
   },
   "source": [
    "    Training is done by `train.py`. Remember setting Config.is_predict=False in `train.py` before training. "
   ]
  },
  {
   "cell_type": "markdown",
   "id": "1b5ddde3",
   "metadata": {
    "pycharm": {
     "name": "#%% md\n"
    }
   },
   "source": [
    "### Evaluate"
   ]
  },
  {
   "cell_type": "code",
   "execution_count": null,
   "id": "dfe16c50",
   "metadata": {
    "pycharm": {
     "name": "#%%\n",
     "is_executing": true
    }
   },
   "outputs": [],
   "source": [
    "# Predict over the whole sentinet. Filter out already chosen glosses and sort the others by uncertainty.\n",
    "\n",
    "# Predicting is done by `train.py`. Remember setting Config.is_predict=True in `train.py`.\n",
    "\n",
    "pred=npy.load('Data/pred.v1.r2.2.npy') # load prediction result\n",
    "assert pred.shape[0]==sentinet_av.shape[0]\n",
    "sentinet_av['score']=pred.flatten()\n",
    "sentinet_av['uncertainty']=sentinet_av['score'].apply(lambda x: abs(x-0.5))"
   ]
  },
  {
   "cell_type": "code",
   "execution_count": 98,
   "id": "3c3bd912",
   "metadata": {
    "pycharm": {
     "name": "#%%\n"
    }
   },
   "outputs": [
    {
     "name": "stdout",
     "output_type": "stream",
     "text": [
      "positive::precision 0.682\n",
      "positive::recall 0.789\n",
      "negative::precision 0.857\n",
      "negative::recall 0.774\n",
      "F1: 0.73\n",
      "N F1: 0.81\n"
     ]
    }
   ],
   "source": [
    "# adj\n",
    "try:\n",
    "    testset_adj=testset_adj.drop(['score'],axis=1)\n",
    "except:\n",
    "    pass\n",
    "testset_adj=testset_adj.merge(sentinet_av[['id','score']],on='id')\n",
    "testset_adj['pred_label']=testset_adj['score'].apply(lambda x: 1 if x>0.5 else 0)\n",
    "testset_adj['target']=testset_adj['class']\n",
    "\n",
    "testset=testset_adj\n",
    "\n",
    "# positive::precision\n",
    "print(\"positive::precision %.3f\"%(testset_adj.loc[(testset_adj.pred_label==1)&(testset_adj.target==1)].shape[0]/testset_adj.loc[(testset_adj.pred_label==1)].shape[0]))\n",
    "print(\"positive::recall %.3f\"%(testset_adj.loc[(testset_adj.pred_label==1)&(testset_adj.target==1)].shape[0]/testset_adj.loc[(testset_adj.target==1)].shape[0]))\n",
    "\n",
    "\n",
    "print(\"negative::precision %.3f\"%(testset_adj.loc[(testset_adj.pred_label==0)&(testset_adj.target==0)].shape[0]/testset_adj.loc[(testset_adj.pred_label==0)].shape[0]))\n",
    "print(\"negative::recall %.3f\"%(testset_adj.loc[(testset_adj.pred_label==0)&(testset_adj.target==0)].shape[0]/testset_adj.loc[(testset_adj.target==0)].shape[0]))\n",
    "\n",
    "pp=testset.loc[(testset.pred_label==1)&(testset.target==1)].shape[0]/testset.loc[(testset.pred_label==1)].shape[0]\n",
    "pr=testset.loc[(testset.pred_label==1)&(testset.target==1)].shape[0]/testset.loc[(testset.target==1)].shape[0]\n",
    "\n",
    "print(\"F1: %.2f\"%(2*pp*pr/(pp+pr)))\n",
    "\n",
    "\n",
    "np=testset.loc[(testset.pred_label==0)&(testset.target==0)].shape[0]/testset.loc[(testset.pred_label==0)].shape[0]\n",
    "nr=testset.loc[(testset.pred_label==0)&(testset.target==0)].shape[0]/testset.loc[(testset.target==0)].shape[0]\n",
    "\n",
    "print(\"N F1: %.2f\"%(2*np*nr/(np+nr)))"
   ]
  },
  {
   "cell_type": "code",
   "execution_count": 99,
   "id": "a31a491e",
   "metadata": {
    "pycharm": {
     "name": "#%%\n"
    }
   },
   "outputs": [
    {
     "name": "stdout",
     "output_type": "stream",
     "text": [
      "positive::precision 0.611\n",
      "positive::recall 0.892\n",
      "negative::precision 0.913\n",
      "negative::recall 0.667\n",
      "F1: 0.73\n",
      "N F1: 0.77\n"
     ]
    }
   ],
   "source": [
    "# verb\n",
    "try:\n",
    "    testset_v=testset_v.drop(['score'],axis=1)\n",
    "except:\n",
    "    pass\n",
    "\n",
    "testset_v=testset_v.merge(sentinet_av[['id','score']],on='id')\n",
    "testset_v['pred_label']=testset_v['score'].apply(lambda x: 1 if x>0.5 else 0)\n",
    "testset_v['target']=testset_v['class']\n",
    "\n",
    "testset=testset_v\n",
    "\n",
    "# positive::precision\n",
    "print(\"positive::precision %.3f\"%(testset.loc[(testset.pred_label==1)&(testset.target==1)].shape[0]/testset.loc[(testset.pred_label==1)].shape[0]))\n",
    "print(\"positive::recall %.3f\"%(testset.loc[(testset.pred_label==1)&(testset.target==1)].shape[0]/testset.loc[(testset.target==1)].shape[0]))\n",
    "\n",
    "\n",
    "print(\"negative::precision %.3f\"%(testset.loc[(testset.pred_label==0)&(testset.target==0)].shape[0]/testset.loc[(testset.pred_label==0)].shape[0]))\n",
    "print(\"negative::recall %.3f\"%(testset.loc[(testset.pred_label==0)&(testset.target==0)].shape[0]/testset.loc[(testset.target==0)].shape[0]))\n",
    "\n",
    "pp=testset.loc[(testset.pred_label==1)&(testset.target==1)].shape[0]/testset.loc[(testset.pred_label==1)].shape[0]\n",
    "pr=testset.loc[(testset.pred_label==1)&(testset.target==1)].shape[0]/testset.loc[(testset.target==1)].shape[0]\n",
    "\n",
    "print(\"F1: %.2f\"%(2*pp*pr/(pp+pr)))\n",
    "\n",
    "\n",
    "np=testset.loc[(testset.pred_label==0)&(testset.target==0)].shape[0]/testset.loc[(testset.pred_label==0)].shape[0]\n",
    "nr=testset.loc[(testset.pred_label==0)&(testset.target==0)].shape[0]/testset.loc[(testset.target==0)].shape[0]\n",
    "\n",
    "print(\"N F1: %.2f\"%(2*np*nr/(np+nr)))"
   ]
  },
  {
   "cell_type": "markdown",
   "id": "4d83175e",
   "metadata": {
    "pycharm": {
     "name": "#%% md\n"
    }
   },
   "source": [
    "### Uncertainty"
   ]
  },
  {
   "cell_type": "code",
   "execution_count": 92,
   "id": "14848f10",
   "metadata": {
    "pycharm": {
     "name": "#%%\n"
    }
   },
   "outputs": [
    {
     "name": "stdout",
     "output_type": "stream",
     "text": [
      "10135\tprocessed#1\ta\tsubjected to a special process or treatment; prepared ergot; processed cheeses are easy to spread\t0.5000\n",
      "105778\tevangelize#2 evangelise#2\tv\tconvert to Christianity; The missionaries evangelized the Pacific Islanders\t0.5000\n",
      "9958\tunpolished#1\ta\tnot carefully reworked or perfected or made smooth by polishing; dull unpolished shoes\t0.5000\n",
      "12378\tbullate#1\ta\tof leaves; appearing puckered as if blistered\t0.5000\n",
      "8648\ttransmundane#1\ta\texisting or extending beyond the physical world; whatever of transmundane...insight...we may carry- William James\t0.5000\n",
      "6669\thigh-rise#1\ta\tused of buildings of many stories equipped with elevators; tall; avenues lined with high-rise apartment buildings\t0.5000\n",
      "10555\tnonrandom#1\ta\tnot random\t0.5000\n",
      "115080\tdeal#13\tv\tsell; deal hashish\t0.5000\n",
      "109152\tstation#1 send#5 post#4 place#14\tv\tassign to a station\t0.5000\n",
      "104153\timpregnate#3\tv\tfertilize and cause to grow; the egg was impregnated\t0.5000\n",
      "8325\texpeditionary#1\ta\t(used of military forces) designed for military operations abroad; the French expeditionary force in Indochina\t0.5000\n",
      "4163\tinfra_dig#1\ta\tbeneath your dignity; considered helping with the dishes to be infra dig\t0.5000\n",
      "106976\tthrow#15 fuddle#3 fox#2 discombobulate#2 confuse#2 confound#1 befuddle#1 bedevil#2\tv\tbe confusing or perplexing to; cause to be unable to think clearly; These questions confuse even the experts; This question completely threw me; This question befuddled even the teacher\t0.5000\n",
      "6291\tunregretting#1 unregretful#1\ta\tfeeling no regret; was completely unregretful about what had happened\t0.5000\n",
      "11528\tdelicate#7\ta\tof an instrument or device; capable of registering minute differences or changes precisely; almost undetectable with even the most delicate instruments\t0.5001\n",
      "8240\tlyrical#1\ta\tsuitable for or suggestive of singing\t0.4999\n",
      "18143\tsintered#1\ta\tformed into a mass by heat and pressure\t0.4999\n",
      "4167\tpresidential#2\ta\tbefitting a president; criticized the candidate for not looking presidential\t0.5001\n",
      "7690\tsimilar#3 like#1\ta\tresembling or similar; having the same or some of the same characteristics; often used in combination; suits of like design; a limited circle of like minds; members of the cat family have like dispositions; as like as two peas in a pod; doglike devotion; a dreamlike quality\t0.4999\n",
      "6070\tspecial#1 peculiar#2 particular#1\ta\tunique or specific to a person or thing or category; the particular demands of the job; has a particular preference for Chinese art; a peculiar bond of sympathy between them; an expression peculiar to Canadians; rights peculiar to the rich; the special features of a computer; my own special chair\t0.5001\n",
      "114254\tchurch#1\tv\tperform a special church rite or service for; church a woman after childbirth\t0.5001\n",
      "10091\tsoftheaded#1 screwball#1 half-baked#1 crazy#2\ta\tfoolish; totally unsound; a crazy scheme; half-baked ideas; a screwball proposal without a prayer of working\t0.4999\n",
      "5536\tintroductory#2 basic#3\ta\tserving as a base or starting point; a basic course in Russian; basic training for raw recruits; a set of basic tools; an introductory art course\t0.5001\n",
      "110668\tfrazzle#1 fray#1\tv\twear away by rubbing; The friction frayed the sleeve\t0.5001\n",
      "12824\tflexuous#1\ta\thaving turns or windings; the flexuous bed of the stream\t0.5001\n",
      "115159\tpension_off#2 pension#1\tv\tgrant a pension to\t0.4999\n",
      "6217\till-tempered#1 grumpy#1 grouchy#1 fussy#1 cross#2 crabby#1 crabbed#1 bad-tempered#1\ta\tannoyed and irritable\t0.4999\n",
      "105730\tunthaw#1 unfreeze#1 thaw#1 melt#2 dissolve#9 dethaw#1\tv\tbecome or cause to become soft or liquid; The sun melted the ice; the ice thawed; the ice cream melted; The heat melted the wax; The giant iceberg dissolved over the years during the global warming phase; dethaw the meat\t0.5001\n",
      "12371\tstreamlined#2 sleek#2 flowing#1 aerodynamic#2\ta\tdesigned or arranged to offer the least resistant to fluid flow; a streamlined convertible\t0.4999\n",
      "3664\tflat#2\ta\thaving a relatively broad surface in relation to depth or thickness; flat computer monitors\t0.5001\n",
      "114969\tchange_owners#1 change_hands#1\tv\tbe transferred to another owner; This restaurant changed hands twice last year\t0.5001\n",
      "3198\tdeconsecrated#1\ta\tdivested of consecration\t0.4999\n",
      "114296\ttransfer#8 remove#5\tv\tshift the position or location of, as for business, legal, educational, or military purposes; He removed his children to the countryside; Remove the troops to the forest surrounding the city; remove a case to another court\t0.5001\n",
      "9555\tpatriotic#1 loyal#2\ta\tinspired by love for your country\t0.4999\n",
      "6064\tuniversal#2\ta\tapplicable to or common to all members of a group or set; the play opened to universal acclaim; rap enjoys universal appeal among teenage boys\t0.4999\n",
      "16822\tocclusive#1\ta\ttending to occlude\t0.4999\n",
      "6184\tnaughty#2\ta\tbadly behaved; a naughty boy\t0.5001\n",
      "2773\tsingle#1 individual#1\ta\tbeing or characteristic of a single thing or person; individual drops of rain; please mark the individual pages; they went their individual ways\t0.5001\n",
      "105638\tgerminate#3\tv\tcause to grow or sprout; the plentiful rain germinated my plants\t0.4999\n",
      "112689\tseethe#2 boil#5\tv\tbe in an agitated emotional state; The customer was seething with anger\t0.4999\n",
      "5904\tsocial#6\ta\tmarked by friendly companionship with others; a social cup of coffee\t0.4999\n",
      "5886\tpotted#2\ta\tpreserved in a pot or can or jar; potted meat; potted shrimp\t0.5001\n",
      "6482\theavy#1\ta\tof comparatively great physical weight or density; a heavy load; lead is a heavy metal; heavy mahogany furniture\t0.5001\n",
      "3027\tdispensed#1\ta\tdistributed or weighted out in carefully determined portions; medicines dispensed to the sick\t0.5002\n",
      "105500\tdialyze#1 dialyse#1\tv\tseparate by dialysis\t0.5002\n",
      "7524\toffshore#2\ta\tat some distance from the shore; offshore oil reserves; an offshore island\t0.5002\n",
      "13552\ttough#7\ta\tresistant to cutting or chewing\t0.5002\n",
      "12830\twiggly#1 sinuous#1 sinuate#1\ta\tcurved or curving in and out; wiggly lines\t0.5002\n",
      "1542\tsemidark#1\ta\tpartially devoid of light or brightness; semidark room\t0.5002\n",
      "109139\tplace#15\tv\tfinish second or better in a horse or dog race; he bet $2 on number six to place\t0.5002\n",
      "106109\tflush#7\tv\tcause to flow or flood with or as if with water; flush the meadows\t0.4998\n",
      "114920\tfind#10\tv\tobtain through effort or management; She found the time and energy to take care of her aging parents; We found the money to send our sons to college\t0.5002\n",
      "111660\tditch#5\tv\tcrash or crash-land; ditch a car; ditch a plane\t0.4998\n",
      "13261\tchoice#2\ta\tappealing to refined taste; choice wine\t0.4998\n",
      "12486\tstoneless#1\ta\t(of fruits having stones) having the stone removed; stoneless dried dates\t0.5002\n",
      "12737\toverfed#1\ta\ttoo well nourished\t0.4998\n",
      "13854\tutopian#2\ta\tcharacterized by or aspiring to impracticable perfection; the dim utopian future; utopian idealists; recognized the utopian nature of his hopes\t0.4998\n",
      "9789\tpagan#1 heathenish#1 heathen#1 ethnic#2\ta\tnot acknowledging the God of Christianity and Judaism and Islam\t0.4998\n",
      "13368\ttenuous#2\ta\tvery thin in gauge or diameter; a tenuous thread\t0.5002\n",
      "861\tmounted#1\ta\tassembled for use; especially by being attached to a support\t0.5002\n",
      "15141\tcolonial#2\ta\tof animals who live in colonies, such as ants\t0.4998\n",
      "4131\ttough#9 problematical#2 problematic#2 knotty#1 elusive#4 baffling#1\ta\tmaking great mental demands; hard to comprehend or solve or believe; a baffling problem; I faced the knotty problem of what to have for breakfast; a problematic situation at home\t0.4998\n",
      "14376\tcursorial#1\ta\t(of limbs and feet) adapted for running\t0.4998\n",
      "4115\tvestigial#1 rudimentary#3\ta\tnot fully developed in mature animals; rudimentary wings\t0.4997\n",
      "9223\tdisoriented#2 anomic#1 alienated#1\ta\tsocially disoriented; anomic loners musing over their fate; we live in an age of rootless alienated people\t0.4997\n",
      "11220\tparabolical#2 parabolic#2\ta\thaving the form of a parabola\t0.4997\n",
      "1006\tuntouchable#5 unprocurable#1 unobtainable#1 inaccessible#2\ta\tnot capable of being obtained; a rare work, today almost inaccessible; timber is virtually unobtainable in the islands; untouchable resources buried deep within the earth\t0.4997\n",
      "116688\tbait#2\tv\tlure, entice, or entrap with bait\t0.4997\n",
      "110342\tstratify#4\tv\tform, arrange, or deposit in layers; The fish are stratified in barrels; The rock was stratified by the force of the water; A statistician stratifies the list of names according to the addresses\t0.5003\n",
      "13045\tsupportive#1\ta\tfurnishing support or assistance; a supportive family network; his family was supportive of his attempts to be a writer\t0.4997\n",
      "6440\tsickly#1 sallow#1\ta\tunhealthy looking\t0.4997\n",
      "108775\tdemur#2\tv\tenter a demurrer\t0.5003\n",
      "3270\tself-satisfied#2 self-complacent#1 complacent#1\ta\tcontented to a fault with oneself or one's actions; he had become complacent after years of success; his self-satisfied dignity\t0.5003\n",
      "13632\tdreamless#1\ta\tuntroubled by dreams; a sound and dreamless sleep\t0.5003\n",
      "12707\tcriterional#1 criterial#1\ta\tserving as a basis for evaluation\t0.5003\n",
      "13759\tsectioned#1 sectional#2\ta\tconsisting of or divided into sections; a sectional sofa; sectioned plates\t0.4997\n",
      "8757\tnorth-central#2\ta\tsituated in the northern part of a centrally located area in some geographical region; the north-central part of Russia\t0.5003\n",
      "115909\ttinker#2\tv\twork as a tinker or tinkerer\t0.4997\n",
      "12792\tmouthlike#1\ta\tof an opening that resembles a mouth\t0.4997\n",
      "107766\tturn#24 call_on#1\tv\thave recourse to or make an appeal or request for help or information to; She called on her Representative to help her; She turned to her relatives for help\t0.4997\n",
      "13082\ttemptable#1\ta\tsusceptible to temptation\t0.5003\n",
      "10444\twhite#3\ta\tfree from moral blemish or impurity; unsullied; in shining white armor\t0.5004\n",
      "112978\tslobber_over#1 drool_over#1\tv\tenvy without restraint\t0.5004\n",
      "111384\tdrive#9\tv\tcause to move rapidly by striking or throwing with force; drive the ball far out into the field\t0.4996\n",
      "2193\tgreyish-white#1 grey-white#1 grayish-white#1 gray-white#1\ta\tof white tinged with grey\t0.4996\n",
      "973\thomoecious#1 autoecious#1\ta\tof parasites especially rust fungi; completing the entire life cycle on a single host; autoecious rust fungi\t0.5004\n",
      "2548\tuncousinly#1\ta\tnot befitting a cousin\t0.4996\n",
      "107709\thit#17\tv\tpay unsolicited and usually unwanted sexual attention to; He tries to hit on women in bars\t0.4996\n",
      "14102\tunwell#1 under_the_weather#1 sickly#2 seedy#3 poorly#1 peaked#1 indisposed#1 ailing#1\ta\tsomewhat ill or prone to illness; my poor ailing grandmother; feeling a bit indisposed today; you look a little peaked; feeling poorly; a sickly child; is unwell and can't come to work\t0.5004\n",
      "112818\tsuffer#3\tv\texperience (emotional) pain; Every time her husband gets drunk, she suffers\t0.5004\n",
      "5937\toval-fruited#1\ta\tbearing oval fruit\t0.5004\n",
      "108658\tplacard#2 bill#3\tv\tpublicize or announce by placards\t0.5004\n",
      "112916\tabreact#1\tv\tdischarge bad feelings or tension through verbalization\t0.4996\n",
      "9762\tpersonal#4\ta\tintimately concerning a person's body or physical being; personal hygiene\t0.4996\n",
      "8664\trequisite#1 required#1 needful#1 needed#1\ta\tnecessary for relief or supply; provided them with all things needful\t0.5004\n",
      "15658\torwellian#1\ta\tof or relating to the works of George Orwell (especially his picture of a future totalitarian state)\t0.5004\n",
      "8192\tunripened#1 unripe#1 immature#3 green#3\ta\tnot fully developed or mature; not ripe; unripe fruit; fried green tomatoes; green wood\t0.4996\n",
      "104314\tsalve#2\tv\tapply a salve to, usually for the purpose of healing\t0.4996\n",
      "7994\tlikeable#2 likable#2\ta\teasy to like; agreeable; an attractive and likable young man\t0.5004\n",
      "116767\tqueen#1\tv\tpromote to a queen, as of a pawn in chess\t0.5004\n"
     ]
    }
   ],
   "source": [
    "# Filter out already chosen glosses and sort the others by uncertainty from the whole predictions.\n",
    "\n",
    "cand=sentinet_av.loc[(~sentinet_av.is_test)&(~sentinet_av.is_train)].sort_values(by='uncertainty',ascending=True)[:100]\n",
    "\n",
    "for _id,_w,_p,_gloss,_s in zip(cand['id'],cand['SynsetTerms'],cand['POS'],cand['Gloss'],cand['score']):\n",
    "    print('%d\\t%s\\t%s\\t%s\\t%.4f'%(_id,_w,_p,_gloss,_s))\n",
    "\n"
   ]
  },
  {
   "cell_type": "markdown",
   "id": "fbd2253a",
   "metadata": {
    "pycharm": {
     "name": "#%% md\n"
    }
   },
   "source": [
    "## Round3"
   ]
  },
  {
   "cell_type": "code",
   "execution_count": 101,
   "id": "8f89c9a5",
   "metadata": {
    "pycharm": {
     "name": "#%%\n"
    }
   },
   "outputs": [],
   "source": [
    "# -------- SetUp -------- #\n",
    "\n",
    "# Choose training samples from those most uncertain words in round1. Proportion of samples, 1:1\n",
    "# positive: class=1\n",
    "# negative: class=0\n",
    "\n",
    "train_cur=pd.read_csv('Data/train_v1_r3.csv')\n",
    "\n",
    "train_last=pd.read_csv('Data/train_v1_r1_r2.csv')\n",
    "\n",
    "train=pd.concat([train_cur[['id','text','target']],train_last[['id','text','target']]])\n",
    "\n",
    "train_ids=set(train['id'].tolist())\n",
    "\n",
    "sentinet['is_train']=sentinet['id'].apply(lambda x: True if x in train_ids else False)\n",
    "\n",
    "train.to_csv('Data/train_v1_r1tor3.csv')"
   ]
  },
  {
   "cell_type": "code",
   "execution_count": null,
   "id": "218b46e5",
   "metadata": {
    "pycharm": {
     "name": "#%%\n",
     "is_executing": true
    }
   },
   "outputs": [],
   "source": [
    "# -------- Evaluate -------- #\n",
    "\n",
    "# Predict over the whole sentinet. Filter out already chosen glosses and sort the others by uncertainty.\n",
    "\n",
    "# Predicting is done by `train.py`. Remember setting Config.is_predict=True in `train.py`.\n",
    "\n",
    "pred=npy.load('Data/pred.v1.r3.1.npy') # load prediction result\n",
    "assert pred.shape[0]==sentinet_av.shape[0]\n",
    "sentinet_av['score']=pred.flatten()\n",
    "sentinet_av['uncertainty']=sentinet_av['score'].apply(lambda x: abs(x-0.5))\n",
    "\n",
    "\n",
    "\n",
    "# -- adj -- #\n",
    "print('# -- adj -- #')\n",
    "try:\n",
    "    testset_adj=testset_adj.drop(['score'],axis=1)\n",
    "except:\n",
    "    pass\n",
    "testset_adj=testset_adj.merge(sentinet_av[['id','score']],on='id')\n",
    "testset_adj['pred_label']=testset_adj['score'].apply(lambda x: 1 if x>0.5 else 0)\n",
    "testset_adj['target']=testset_adj['class']\n",
    "\n",
    "testset=testset_adj\n",
    "\n",
    "# positive::precision\n",
    "print(\"positive::precision %.3f\"%(testset_adj.loc[(testset_adj.pred_label==1)&(testset_adj.target==1)].shape[0]/testset_adj.loc[(testset_adj.pred_label==1)].shape[0]))\n",
    "print(\"positive::recall %.3f\"%(testset_adj.loc[(testset_adj.pred_label==1)&(testset_adj.target==1)].shape[0]/testset_adj.loc[(testset_adj.target==1)].shape[0]))\n",
    "\n",
    "\n",
    "print(\"negative::precision %.3f\"%(testset_adj.loc[(testset_adj.pred_label==0)&(testset_adj.target==0)].shape[0]/testset_adj.loc[(testset_adj.pred_label==0)].shape[0]))\n",
    "print(\"negative::recall %.3f\"%(testset_adj.loc[(testset_adj.pred_label==0)&(testset_adj.target==0)].shape[0]/testset_adj.loc[(testset_adj.target==0)].shape[0]))\n",
    "\n",
    "pp=testset.loc[(testset.pred_label==1)&(testset.target==1)].shape[0]/testset.loc[(testset.pred_label==1)].shape[0]\n",
    "pr=testset.loc[(testset.pred_label==1)&(testset.target==1)].shape[0]/testset.loc[(testset.target==1)].shape[0]\n",
    "\n",
    "print(\"F1: %.2f\"%(2*pp*pr/(pp+pr)))\n",
    "\n",
    "\n",
    "np=testset.loc[(testset.pred_label==0)&(testset.target==0)].shape[0]/testset.loc[(testset.pred_label==0)].shape[0]\n",
    "nr=testset.loc[(testset.pred_label==0)&(testset.target==0)].shape[0]/testset.loc[(testset.target==0)].shape[0]\n",
    "\n",
    "print(\"N F1: %.2f\"%(2*np*nr/(np+nr)))\n",
    "\n",
    "\n",
    "\n",
    "# -- verb -- #\n",
    "print('# -- verb -- #')\n",
    "try:\n",
    "    testset_v=testset_v.drop(['score'],axis=1)\n",
    "except:\n",
    "    pass\n",
    "\n",
    "testset_v=testset_v.merge(sentinet_av[['id','score']],on='id')\n",
    "testset_v['pred_label']=testset_v['score'].apply(lambda x: 1 if x>0.5 else 0)\n",
    "testset_v['target']=testset_v['class']\n",
    "\n",
    "testset=testset_v\n",
    "\n",
    "# positive::precision\n",
    "print(\"positive::precision %.3f\"%(testset.loc[(testset.pred_label==1)&(testset.target==1)].shape[0]/testset.loc[(testset.pred_label==1)].shape[0]))\n",
    "print(\"positive::recall %.3f\"%(testset.loc[(testset.pred_label==1)&(testset.target==1)].shape[0]/testset.loc[(testset.target==1)].shape[0]))\n",
    "\n",
    "\n",
    "print(\"negative::precision %.3f\"%(testset.loc[(testset.pred_label==0)&(testset.target==0)].shape[0]/testset.loc[(testset.pred_label==0)].shape[0]))\n",
    "print(\"negative::recall %.3f\"%(testset.loc[(testset.pred_label==0)&(testset.target==0)].shape[0]/testset.loc[(testset.target==0)].shape[0]))\n",
    "\n",
    "pp=testset.loc[(testset.pred_label==1)&(testset.target==1)].shape[0]/testset.loc[(testset.pred_label==1)].shape[0]\n",
    "pr=testset.loc[(testset.pred_label==1)&(testset.target==1)].shape[0]/testset.loc[(testset.target==1)].shape[0]\n",
    "\n",
    "print(\"F1: %.2f\"%(2*pp*pr/(pp+pr)))\n",
    "\n",
    "\n",
    "np=testset.loc[(testset.pred_label==0)&(testset.target==0)].shape[0]/testset.loc[(testset.pred_label==0)].shape[0]\n",
    "nr=testset.loc[(testset.pred_label==0)&(testset.target==0)].shape[0]/testset.loc[(testset.target==0)].shape[0]\n",
    "\n",
    "print(\"N F1: %.2f\"%(2*np*nr/(np+nr)))"
   ]
  },
  {
   "cell_type": "code",
   "execution_count": 104,
   "id": "ac7a0904",
   "metadata": {
    "pycharm": {
     "name": "#%%\n"
    }
   },
   "outputs": [
    {
     "name": "stdout",
     "output_type": "stream",
     "text": [
      "3363\tformulaic#1\ta\tcharacterized by or in accordance with some formula\t0.5000\n",
      "11854\thyperopic#1 hypermetropic#1\ta\tabnormal ability to focus of distant objects\t0.5000\n",
      "113344\tmill_around#2 mill_about#2 mill#1\tv\tmove about in a confused manner\t0.5000\n",
      "993\teasy#11\ta\tless in demand and therefore readily obtainable; commodities are easy this quarter\t0.5000\n",
      "117655\tfog_up#1\tv\tget foggy; The windshield fogged up\t0.5000\n",
      "10114\tdelayed#1\ta\tnot as far along as normal in development\t0.5000\n",
      "115770\twithdraw#2 retire#2\tv\twithdraw from active participation; He retired from chess\t0.5000\n",
      "112489\tsymphonize#1 symphonise#1\tv\tplay or sound together, in harmony\t0.5000\n",
      "8666\tunneeded#1 unnecessary#1\ta\tnot necessary\t0.5000\n",
      "597\tderivational#1\ta\tcharacterized by inflections indicating a semantic relation between a word and its base; the morphological relation between `sing' and `singer' and `song' is derivational\t0.5000\n",
      "116932\trid_of#1 obviate#1 eliminate#2\tv\tdo away with\t0.5000\n",
      "6104\tunstinting#1 unstinted#1 unsparing#1 too-generous#1 overgenerous#1 munificent#1 lavish#1\ta\tvery generous; distributed gifts with a lavish hand; the critics were lavish in their praise; a munificent gift; his father gave him a half-dollar and his mother a quarter and he thought them munificent; prodigal praise; unsparing generosity; his unstinted devotion; called for unstinting aid to Britain\t0.5000\n",
      "4079\ttotaled#1\ta\tused of automobiles; completely demolished; the insurance adjuster declared the automobile totaled\t0.5001\n",
      "113349\tdrift#6\tv\tmove in an unhurried fashion; The unknown young man drifted among the invited guests\t0.5001\n",
      "4361\tsupreme#2 sovereign#2\ta\tgreatest in status or authority or power; a supreme tribunal\t0.4999\n",
      "10978\temancipative#1\ta\ttending to set free\t0.5001\n",
      "115156\tpresent#6 award#1\tv\tgive, especially as an honor or reward; bestow honors and prizes at graduation\t0.5001\n",
      "109704\tstay#11 quell#2 appease#2\tv\tovercome or allay; quell my hunger\t0.4999\n",
      "773\tweaponless#1\ta\twithout a weapon\t0.4999\n",
      "100\tunobliging#1 unaccommodating#1\ta\tnot accommodating; the unaccommodating bus driver pulled out while she was banging on the door\t0.5001\n",
      "106500\tdizzy#1\tv\tmake dizzy or giddy; a dizzying pace\t0.4999\n",
      "109709\tplump_out#2 plump#3 flesh_out#1 fill_out#5 fatten_up#1 fatten_out#1 fatten#1 fat#1\tv\tmake fat or plump; We will plump out that poor starving child\t0.4999\n",
      "104240\ttrample#2\tv\tinjure by trampling or as if by trampling; The passerby was trampled by an elephant\t0.5001\n",
      "116144\tvote#3\tv\texpress a choice or opinion; I vote that we all go home; She voted for going to the Chinese restaurant\t0.5001\n",
      "6942\tunhurried#1\ta\trelaxed and leisurely; without hurry or haste; people strolling about in an unhurried way; an unhurried walk; spoke in a calm and unhurried voice\t0.5001\n",
      "108070\tooh#1 aah#1\tv\texpress admiration and pleasure by uttering `ooh' or `aah'; They oohed and aahed when they unwrapped the presents\t0.5002\n",
      "516\tslain#1\ta\tkilled; `slain' is formal or literary as in slain warriors; a picture of St. George and the slain dragon\t0.4998\n",
      "108026\tcondemn#2\tv\tdeclare or judge unfit for use or habitation; The building was condemned by the inspector\t0.4998\n",
      "105033\tmagnify#3 enlarge#2 blow_up#2\tv\tmake large; blow up an image\t0.4998\n",
      "103975\treawaken#1\tv\tawaken once again\t0.4998\n",
      "11668\tsexy#1\ta\tmarked by or tending to arouse sexual desire or interest; feeling sexy; sexy clothes; sexy poses; a sexy book; sexy jokes\t0.5002\n",
      "13819\tbehind#1\ta\thaving the lower score or lagging position in a contest; behind by two points; the 8th inning found the home team trailing\t0.5002\n",
      "114189\tyaw#2\tv\tdeviate erratically from a set course; the yawing motion of the ship\t0.5002\n",
      "115845\trename#2\tv\tname again or anew; He was renamed Minister of the Interior\t0.5002\n",
      "2680\texplosive#1\ta\tserving to explode or characterized by explosion or sudden outburst; an explosive device; explosive gas; explosive force; explosive violence; an explosive temper\t0.5002\n",
      "116556\ttake_care#3 see#14 look#6 attend#2\tv\ttake charge of or deal with; Could you see about lunch?; I must attend to this matter; She took care of this business\t0.4998\n",
      "4994\tpatchy#1\ta\tirregular or uneven in quality, texture, etc.; a patchy essay; patchy fog\t0.4998\n",
      "117373\tbifurcate#1\tv\tsplit or divide into two\t0.5002\n",
      "17079\tartistic#1\ta\trelating to or characteristic of art or artists; his artistic background\t0.4998\n",
      "6954\tunclassifiable#1\ta\tnot possible to classify\t0.5002\n",
      "8590\tsitting#2\ta\tnot moving and therefore easy to attack; a sitting target\t0.4998\n",
      "108845\tsend#3 post#11 mail#2\tv\tcause to be directed or transmitted to another place; send me your latest results; I'll mail you the paper when it's written\t0.4998\n",
      "2947\tuncompleted#2\ta\tnot caught or not caught within bounds; an uncompleted pass\t0.4998\n",
      "606\tsore#3 mad#1 huffy#2\ta\troused to anger; stayed huffy a good while- Mark Twain; she gets mad when you wake her up so early; mad at his friend; sore over a remark\t0.4998\n",
      "115588\tsoak#4 pawn#1 hock#1\tv\tleave as a guarantee in return for money; pawn your grandfather's gold watch\t0.4998\n",
      "116512\tundertake#5 take_in_charge#1\tv\taccept as a charge\t0.4998\n",
      "115025\tdownload#1\tv\ttransfer a file or program from a central computer to a smaller computer or to a computer at a remote location\t0.5002\n",
      "111148\tintermix#1 intermingle#1 immingle#1 blend#1\tv\tcombine into one; blend the nuts and raisins together; he blends in with the crowd; We don't intermingle much\t0.4997\n",
      "11459\trevealing#2\ta\tshowing or making known; her dress was scanty and revealing\t0.4997\n",
      "15760\tputrid#1\ta\tof or relating to or attended by putrefaction; putrid decomposition\t0.5003\n",
      "103978\tattack#6\tv\tbegin to injure; The cancer cells are attacking his liver; Rust is attacking the metal\t0.5003\n",
      "112469\trehearse#1 practise#1 practice#3\tv\tengage in a rehearsal (of)\t0.4997\n",
      "106712\tdesorb#1\tv\tgo away from the surface to which (a substance) is adsorbed\t0.4997\n",
      "113394\tinfiltrate#3\tv\tpass into or through by filtering or permeating; the substance infiltrated the material\t0.4997\n",
      "5912\tfriendly#3\ta\teasy to understand or use; user-friendly computers; a consumer-friendly policy; a reader-friendly novel\t0.4997\n",
      "114399\tsmash#4\tv\thit violently; She smashed her car against the guard rail\t0.5003\n",
      "111475\ttick_over#1 idle#1\tv\trun disconnected or idle; the engine is idling\t0.4997\n",
      "104299\tpoultice#1 plaster#6\tv\tdress by covering with a therapeutic substance\t0.4997\n",
      "117053\tinhabit#2\tv\tbe present in; sweet memories inhabit this house\t0.4997\n",
      "113115\tcut#18\tv\tstop filming; cut a movie scene\t0.4997\n",
      "107587\tadjure#2\tv\tcommand solemnly\t0.5003\n",
      "9874\tcontrived#1\ta\tshowing effects of planning or manipulation; a novel with a contrived ending\t0.4997\n",
      "6231\tvinegary#2 vinegarish#2\ta\thaving a sour disposition; ill-tempered\t0.5003\n",
      "3287\tcontinent#1\ta\thaving control over urination and defecation\t0.5004\n",
      "116488\twoo#2 solicit#2 romance#1 court#1\tv\tmake amorous advances towards; John is courting Mary\t0.4996\n",
      "12563\tevery_last#1\ta\t(used as intensive) every; every last one of you\t0.4996\n",
      "115572\tsacrifice#1 give#16\tv\tendure the loss of; He gave his life for his children; I gave two sons to the war\t0.5004\n",
      "104029\tcrack_up#3 break_up#19\tv\tlaugh unrestrainedly\t0.5004\n",
      "116774\twork#8\tv\toperate in a certain place, area, or specialty; She works the night clubs; The salesman works the Midwest; This artist works mostly in acrylics\t0.5004\n",
      "15483\tinferential#1 illative#1\ta\trelating to or having the nature of illation or inference; the illative faculty of the mind\t0.5004\n",
      "116034\ttend#3\tv\tmanage or run; tend a store\t0.5004\n",
      "4931\tsibylline#2 qabalistic#1 kabbalistic#1 cryptical#2 cryptic#2 cabalistic#1\ta\thaving a secret or hidden meaning; cabalistic symbols engraved in stone; cryptic writings; thoroughly sibylline in most of his pronouncements- John Gunther\t0.4996\n",
      "117251\tshadow#3 overshadow#2 dwarf#1\tv\tmake appear small by comparison; This year's debt dwarfs that of last year\t0.4996\n",
      "4397\tmellow#5 high#7\ta\tslightly and pleasantly intoxicated from alcohol or a drug (especially marijuana)\t0.4996\n",
      "17847\tresponsive#1 antiphonal#1\ta\tcontaining or using responses; alternating; responsive reading; antiphonal laughter\t0.5004\n",
      "116469\thave_a_go#1 give_it_a_try#2\tv\tmake an attempt at something; I never sat on a horse before but I'll give it a go\t0.4996\n",
      "11658\tsettled#1\ta\testablished or decided beyond dispute or doubt; with details of the wedding settled she could now sleep at night\t0.4996\n",
      "5374\tprestissimo#1\ta\t(of tempo) as fast as possible\t0.5004\n",
      "114400\tclose#10\tv\tchange one's body stance so that the forward shoulder and foot are closer to the intended point of impact\t0.5004\n",
      "109763\tburn_up#2 burn_off#1 burn#14\tv\tuse up (energy); burn off calories through vigorous exercise\t0.4995\n",
      "117608\tflare#1 flame_up#1 burn_up#1 blaze_up#1\tv\tburn brightly; Every star seemed to flare with new intensity\t0.5005\n",
      "229\tdegenerative#1\ta\t(of illness) marked by gradual deterioration of organs and cells along with loss of function; degenerative diseases of old age\t0.5005\n",
      "107821\tchallenge#3\tv\task for identification; The illegal immigrant was challenged by the border guard\t0.5005\n",
      "108124\tsubmit#2 state#2 put_forward#1 posit#2\tv\tput before; I submit to you that the accused is guilty\t0.5005\n",
      "109589\tpub-crawl#1 bar_hop#1\tv\tgo from one pub to the next and get progressively more drunk; he pub-crawled around Birmingham\t0.5005\n",
      "113132\tpull_up#1 haul_up#1 draw_up#5\tv\tcome to a halt after driving somewhere; The Rolls pulled up on pour front lawn; The chauffeur hauled up in front of us\t0.5005\n",
      "114700\tstudy#3 consider#2\tv\tgive careful consideration to; consider the possibility of moving\t0.5005\n",
      "13480\tunweary#1 unwearied#1 untired#1\ta\twith unreduced energy\t0.4995\n",
      "1126\tunbeneficed#1\ta\tnot having a benefice\t0.4995\n",
      "4058\tsought_after#1 in_demand#1 desired#1 coveted#1\ta\tgreatly desired\t0.4995\n",
      "14016\tyearned-for#1 wished-for#1 longed-for#1\ta\tgreatly desired\t0.4995\n",
      "113101\tmigrate#2\tv\tmove periodically or seasonally; birds migrate in the Winter; The workers migrate to where the crops need harvesting\t0.5005\n",
      "111648\tsever#2 lop#1 discerp#2\tv\tcut off from a whole; His head was severed from his body; The soul discerped from the body\t0.4995\n",
      "13826\tthrown#1\ta\tcaused to fall to the ground; the thrown rider got back on his horse; a thrown wrestler; a ball player thrown for a loss\t0.4995\n",
      "13718\ttwinning#1 biparous#1\ta\tproducing two offspring at a time\t0.5005\n",
      "4269\tdiscriminatory#3 discriminative#1\ta\tcapable of making fine distinctions\t0.5006\n",
      "115045\tobtain#1\tv\tcome into possession of; How did you obtain the visa?\t0.4994\n",
      "104809\tclear-cut#1\tv\tremove all the trees at one time; clear-cut an acre of forest\t0.5006\n",
      "107514\tattribute#2 assign#8\tv\tdecide as to where something belongs in a scheme; The biologist assigned the mushroom to the proper class\t0.4994\n",
      "106439\tgreen#1\tv\tturn or become green; The trees are greening\t0.4994\n"
     ]
    }
   ],
   "source": [
    "# Filter out already chosen glosses and sort the others by uncertainty from the whole predictions.\n",
    "\n",
    "cand=sentinet_av.loc[(~sentinet_av.is_test)&(~sentinet_av.is_train)].sort_values(by='uncertainty',ascending=True)[:100]\n",
    "\n",
    "for _id,_w,_p,_gloss,_s in zip(cand['id'],cand['SynsetTerms'],cand['POS'],cand['Gloss'],cand['score']):\n",
    "    print('%d\\t%s\\t%s\\t%s\\t%.4f'%(_id,_w,_p,_gloss,_s))"
   ]
  },
  {
   "cell_type": "markdown",
   "id": "3d8f2e6b",
   "metadata": {
    "pycharm": {
     "name": "#%% md\n"
    }
   },
   "source": [
    "## Round4"
   ]
  },
  {
   "cell_type": "code",
   "execution_count": 13,
   "id": "825aa2b2",
   "metadata": {
    "pycharm": {
     "name": "#%%\n"
    }
   },
   "outputs": [],
   "source": [
    "# -------- SetUp -------- #\n",
    "\n",
    "# Choose training samples from those most uncertain words in round1. Proportion of samples, 1:1\n",
    "# positive: class=1\n",
    "# negative: class=0\n",
    "\n",
    "train_cur=pd.read_csv('Data/train_v1_r4.csv')\n",
    "\n",
    "train_last=pd.read_csv('Data/train_v1_r1tor3.csv')\n",
    "\n",
    "train=pd.concat([train_cur[['id','text','target']],train_last[['id','text','target']]])\n",
    "\n",
    "train_ids=set(train['id'].tolist())\n",
    "\n",
    "sentinet['is_train']=sentinet['id'].apply(lambda x: True if x in train_ids else False)\n",
    "\n",
    "train.to_csv('Data/train_v1_r1tor4.csv')"
   ]
  },
  {
   "cell_type": "code",
   "execution_count": null,
   "id": "e89e71b3",
   "metadata": {
    "pycharm": {
     "name": "#%%\n",
     "is_executing": true
    }
   },
   "outputs": [],
   "source": [
    "# -------- Evaluate -------- #\n",
    "\n",
    "# Predict over the whole sentinet. Filter out already chosen glosses and sort the others by uncertainty.\n",
    "\n",
    "# Predicting is done by `train.py`. Remember setting Config.is_predict=True in `train.py`.\n",
    "\n",
    "pred=npy.load('Data/pred.v1.r4.1.npy') # load prediction result\n",
    "assert pred.shape[0]==sentinet_av.shape[0]\n",
    "sentinet_av['score']=pred.flatten()\n",
    "sentinet_av['uncertainty']=sentinet_av['score'].apply(lambda x: abs(x-0.5))\n",
    "\n",
    "\n",
    "\n",
    "# -- adj -- #\n",
    "print('# -- adj -- #')\n",
    "try:\n",
    "    testset_adj=testset_adj.drop(['score'],axis=1)\n",
    "except:\n",
    "    pass\n",
    "testset_adj=testset_adj.merge(sentinet_av[['id','score']],on='id')\n",
    "testset_adj['pred_label']=testset_adj['score'].apply(lambda x: 1 if x>0.5 else 0)\n",
    "testset_adj['target']=testset_adj['class']\n",
    "\n",
    "testset=testset_adj\n",
    "\n",
    "# positive::precision\n",
    "print(\"positive::precision %.3f\"%(testset_adj.loc[(testset_adj.pred_label==1)&(testset_adj.target==1)].shape[0]/testset_adj.loc[(testset_adj.pred_label==1)].shape[0]))\n",
    "print(\"positive::recall %.3f\"%(testset_adj.loc[(testset_adj.pred_label==1)&(testset_adj.target==1)].shape[0]/testset_adj.loc[(testset_adj.target==1)].shape[0]))\n",
    "\n",
    "\n",
    "print(\"negative::precision %.3f\"%(testset_adj.loc[(testset_adj.pred_label==0)&(testset_adj.target==0)].shape[0]/testset_adj.loc[(testset_adj.pred_label==0)].shape[0]))\n",
    "print(\"negative::recall %.3f\"%(testset_adj.loc[(testset_adj.pred_label==0)&(testset_adj.target==0)].shape[0]/testset_adj.loc[(testset_adj.target==0)].shape[0]))\n",
    "\n",
    "pp=testset.loc[(testset.pred_label==1)&(testset.target==1)].shape[0]/testset.loc[(testset.pred_label==1)].shape[0]\n",
    "pr=testset.loc[(testset.pred_label==1)&(testset.target==1)].shape[0]/testset.loc[(testset.target==1)].shape[0]\n",
    "\n",
    "print(\"F1: %.2f\"%(2*pp*pr/(pp+pr)))\n",
    "\n",
    "\n",
    "np=testset.loc[(testset.pred_label==0)&(testset.target==0)].shape[0]/testset.loc[(testset.pred_label==0)].shape[0]\n",
    "nr=testset.loc[(testset.pred_label==0)&(testset.target==0)].shape[0]/testset.loc[(testset.target==0)].shape[0]\n",
    "\n",
    "print(\"N F1: %.2f\"%(2*np*nr/(np+nr)))\n",
    "\n",
    "\n",
    "\n",
    "# -- verb -- #\n",
    "print('# -- verb -- #')\n",
    "try:\n",
    "    testset_v=testset_v.drop(['score'],axis=1)\n",
    "except:\n",
    "    pass\n",
    "\n",
    "testset_v=testset_v.merge(sentinet_av[['id','score']],on='id')\n",
    "testset_v['pred_label']=testset_v['score'].apply(lambda x: 1 if x>0.5 else 0)\n",
    "testset_v['target']=testset_v['class']\n",
    "\n",
    "testset=testset_v\n",
    "\n",
    "# positive::precision\n",
    "print(\"positive::precision %.3f\"%(testset.loc[(testset.pred_label==1)&(testset.target==1)].shape[0]/testset.loc[(testset.pred_label==1)].shape[0]))\n",
    "print(\"positive::recall %.3f\"%(testset.loc[(testset.pred_label==1)&(testset.target==1)].shape[0]/testset.loc[(testset.target==1)].shape[0]))\n",
    "\n",
    "\n",
    "print(\"negative::precision %.3f\"%(testset.loc[(testset.pred_label==0)&(testset.target==0)].shape[0]/testset.loc[(testset.pred_label==0)].shape[0]))\n",
    "print(\"negative::recall %.3f\"%(testset.loc[(testset.pred_label==0)&(testset.target==0)].shape[0]/testset.loc[(testset.target==0)].shape[0]))\n",
    "\n",
    "pp=testset.loc[(testset.pred_label==1)&(testset.target==1)].shape[0]/testset.loc[(testset.pred_label==1)].shape[0]\n",
    "pr=testset.loc[(testset.pred_label==1)&(testset.target==1)].shape[0]/testset.loc[(testset.target==1)].shape[0]\n",
    "\n",
    "print(\"F1: %.2f\"%(2*pp*pr/(pp+pr)))\n",
    "\n",
    "\n",
    "np=testset.loc[(testset.pred_label==0)&(testset.target==0)].shape[0]/testset.loc[(testset.pred_label==0)].shape[0]\n",
    "nr=testset.loc[(testset.pred_label==0)&(testset.target==0)].shape[0]/testset.loc[(testset.target==0)].shape[0]\n",
    "\n",
    "print(\"N F1: %.2f\"%(2*np*nr/(np+nr)))"
   ]
  },
  {
   "cell_type": "code",
   "execution_count": null,
   "id": "45372778",
   "metadata": {
    "pycharm": {
     "name": "#%%\n",
     "is_executing": true
    }
   },
   "outputs": [],
   "source": [
    "# -------- Evaluate -------- #\n",
    "\n",
    "# Predict over the whole sentinet. Filter out already chosen glosses and sort the others by uncertainty.\n",
    "\n",
    "# Predicting is done by `train.py`. Remember setting Config.is_predict=True in `train.py`.\n",
    "\n",
    "pred=npy.load('Data/pred.v1.r4.2.npy') # load prediction result\n",
    "assert pred.shape[0]==sentinet_av.shape[0]\n",
    "sentinet_av['score']=pred.flatten()\n",
    "sentinet_av['uncertainty']=sentinet_av['score'].apply(lambda x: abs(x-0.5))\n",
    "\n",
    "\n",
    "\n",
    "# -- adj -- #\n",
    "print('# -- adj -- #')\n",
    "try:\n",
    "    testset_adj=testset_adj.drop(['score'],axis=1)\n",
    "except:\n",
    "    pass\n",
    "testset_adj=testset_adj.merge(sentinet_av[['id','score']],on='id')\n",
    "testset_adj['pred_label']=testset_adj['score'].apply(lambda x: 1 if x>0.5 else 0)\n",
    "testset_adj['target']=testset_adj['class']\n",
    "\n",
    "testset=testset_adj\n",
    "\n",
    "# positive::precision\n",
    "print(\"positive::precision %.3f\"%(testset_adj.loc[(testset_adj.pred_label==1)&(testset_adj.target==1)].shape[0]/testset_adj.loc[(testset_adj.pred_label==1)].shape[0]))\n",
    "print(\"positive::recall %.3f\"%(testset_adj.loc[(testset_adj.pred_label==1)&(testset_adj.target==1)].shape[0]/testset_adj.loc[(testset_adj.target==1)].shape[0]))\n",
    "\n",
    "\n",
    "print(\"negative::precision %.3f\"%(testset_adj.loc[(testset_adj.pred_label==0)&(testset_adj.target==0)].shape[0]/testset_adj.loc[(testset_adj.pred_label==0)].shape[0]))\n",
    "print(\"negative::recall %.3f\"%(testset_adj.loc[(testset_adj.pred_label==0)&(testset_adj.target==0)].shape[0]/testset_adj.loc[(testset_adj.target==0)].shape[0]))\n",
    "\n",
    "pp=testset.loc[(testset.pred_label==1)&(testset.target==1)].shape[0]/testset.loc[(testset.pred_label==1)].shape[0]\n",
    "pr=testset.loc[(testset.pred_label==1)&(testset.target==1)].shape[0]/testset.loc[(testset.target==1)].shape[0]\n",
    "\n",
    "print(\"F1: %.2f\"%(2*pp*pr/(pp+pr)))\n",
    "\n",
    "\n",
    "np=testset.loc[(testset.pred_label==0)&(testset.target==0)].shape[0]/testset.loc[(testset.pred_label==0)].shape[0]\n",
    "nr=testset.loc[(testset.pred_label==0)&(testset.target==0)].shape[0]/testset.loc[(testset.target==0)].shape[0]\n",
    "\n",
    "print(\"N F1: %.2f\"%(2*np*nr/(np+nr)))\n",
    "\n",
    "\n",
    "\n",
    "# -- verb -- #\n",
    "print('# -- verb -- #')\n",
    "try:\n",
    "    testset_v=testset_v.drop(['score'],axis=1)\n",
    "except:\n",
    "    pass\n",
    "\n",
    "testset_v=testset_v.merge(sentinet_av[['id','score']],on='id')\n",
    "testset_v['pred_label']=testset_v['score'].apply(lambda x: 1 if x>0.5 else 0)\n",
    "testset_v['target']=testset_v['class']\n",
    "\n",
    "testset=testset_v\n",
    "\n",
    "# positive::precision\n",
    "print(\"positive::precision %.3f\"%(testset.loc[(testset.pred_label==1)&(testset.target==1)].shape[0]/testset.loc[(testset.pred_label==1)].shape[0]))\n",
    "print(\"positive::recall %.3f\"%(testset.loc[(testset.pred_label==1)&(testset.target==1)].shape[0]/testset.loc[(testset.target==1)].shape[0]))\n",
    "\n",
    "\n",
    "print(\"negative::precision %.3f\"%(testset.loc[(testset.pred_label==0)&(testset.target==0)].shape[0]/testset.loc[(testset.pred_label==0)].shape[0]))\n",
    "print(\"negative::recall %.3f\"%(testset.loc[(testset.pred_label==0)&(testset.target==0)].shape[0]/testset.loc[(testset.target==0)].shape[0]))\n",
    "\n",
    "pp=testset.loc[(testset.pred_label==1)&(testset.target==1)].shape[0]/testset.loc[(testset.pred_label==1)].shape[0]\n",
    "pr=testset.loc[(testset.pred_label==1)&(testset.target==1)].shape[0]/testset.loc[(testset.target==1)].shape[0]\n",
    "\n",
    "print(\"F1: %.2f\"%(2*pp*pr/(pp+pr)))\n",
    "\n",
    "\n",
    "np=testset.loc[(testset.pred_label==0)&(testset.target==0)].shape[0]/testset.loc[(testset.pred_label==0)].shape[0]\n",
    "nr=testset.loc[(testset.pred_label==0)&(testset.target==0)].shape[0]/testset.loc[(testset.target==0)].shape[0]\n",
    "\n",
    "print(\"N F1: %.2f\"%(2*np*nr/(np+nr)))"
   ]
  },
  {
   "cell_type": "code",
   "execution_count": 19,
   "id": "e735fc66",
   "metadata": {
    "pycharm": {
     "name": "#%%\n"
    }
   },
   "outputs": [
    {
     "name": "stdout",
     "output_type": "stream",
     "text": [
      "187\tactive#1\ta\ttending to become more severe or wider in scope; active tuberculosis\t0.5000\n",
      "116283\twed#2 tie#7 splice#2 marry#2\tv\tperform a marriage ceremony; The minister married us on Saturday; We were wed the following week; The couple got spliced on Hawaii\t0.5000\n",
      "15657\torphic#1\ta\tascribed to Orpheus or characteristic of ideas in works ascribed to Orpheus\t0.5000\n",
      "5572\tlame#2 halting#1 halt#1 gimpy#1 game#1 crippled#1\ta\tdisabled in the feet or legs; a crippled soldier; a game leg\t0.5000\n",
      "109637\tprocure#2 pimp#1 pander#2\tv\tarrange for sexual partners for others\t0.5000\n",
      "106287\tpollute#1 foul#2 contaminate#1\tv\tmake impure; The industrial wastes polluted the lake\t0.4999\n",
      "10741\tstrong#7\ta\tof verbs not having standard (or regular) inflection; `sing' is a strong verb\t0.5001\n",
      "10122\toccasional#2 episodic#2\ta\toccurring or appearing at usually irregular intervals; episodic in his affections; occasional headaches\t0.5001\n",
      "106016\tburn_out#1 blow_out#1 blow#21\tv\tmelt, break, or become otherwise unusable; The lightbulbs blew out; The fuse blew\t0.5001\n",
      "9763\tphysiological#2 physiologic#1\ta\tof or consistent with an organism's normal functioning; physiologic functions; physiological processes\t0.5001\n",
      "106790\tupgrade#5\tv\tgive better travel conditions to; The airline upgraded me when I arrived late and Coach Class was full\t0.4999\n",
      "108512\tdub#2\tv\tprovide (movies) with a soundtrack of a foreign language\t0.4999\n",
      "13846\tserviceable#2\ta\tcapable of being put to good use; a serviceable kitchen gadget\t0.5001\n",
      "16238\tphilosophical#1 philosophic#1\ta\tof or relating to philosophy or philosophers; philosophical writing; a considerable knowledge of philosophical terminology\t0.4999\n",
      "109715\tteetotal#1\tv\tpractice teetotalism and abstain from the consumption of alcoholic beverages\t0.5001\n",
      "17896\tsomalian#1 somali#1\ta\tof or relating to the African republic of Somalia or its people or their language and culture; Somali coffee is excellent\t0.4999\n",
      "6362\tsympathetic#6 harmonic#4\ta\trelating to vibrations that occur as a result of vibrations in a nearby body; sympathetic vibration\t0.5002\n",
      "104156\tcross-fertilize#1 cross-fertilise#1\tv\tundergo cross-fertilization; become fertile\t0.4998\n",
      "114846\thoney#1\tv\tsweeten with honey\t0.4998\n",
      "13007\tsuperior#5\ta\thaving an orbit farther from the sun than the Earth's orbit; Mars and Jupiter are the closest in of the superior planets\t0.5002\n",
      "105563\tcome#6\tv\tbe found or available; These shoes come in three colors; The furniture comes unassembled\t0.4998\n",
      "109148\tdemobilize#2 demobilise#2 demob#1\tv\tretire from military service\t0.4998\n",
      "11729\till-proportioned#1\ta\tlacking pleasing proportions\t0.4998\n",
      "104491\tmodulate#5\tv\tvary the frequency, amplitude, phase, or other characteristic of (electromagnetic waves)\t0.5002\n",
      "110026\trub_off#1 rub_down#1 corrade#1 abrase#1 abrade#1\tv\twear away\t0.4998\n",
      "12497\toutgoing#3 forthcoming#1 extroverted#2\ta\tat ease in talking to others\t0.4998\n",
      "4186\tstraight#13 neat#6 full-strength#1\ta\twithout water; took his whiskey neat\t0.5002\n",
      "13981\tvolunteer#1 unpaid#2\ta\twithout payment; the soup kitchen was run primarily by unpaid helpers; a volunteer fire department\t0.5002\n",
      "111216\ttie_up#3\tv\trestrain from moving or operating normally; Traffic is tied up for miles around the bridge where the accident occurred\t0.4998\n",
      "9551\tmade-up#1\ta\thaving been paved\t0.4998\n",
      "9552\tsealed#5\ta\thaving been paved\t0.4998\n",
      "9025\tchildly#1 childlike#1\ta\tbefitting a young child; childlike charm\t0.4997\n",
      "109965\tpat#1 chuck#3\tv\tpat or squeeze fondly or playfully, especially under the chin\t0.4997\n",
      "112782\tinfuriate#1 incense#2 exasperate#2\tv\tmake furious\t0.4997\n",
      "9057\topened#2\ta\tmade open or clear; the newly opened road\t0.5003\n",
      "7453\tmirthless#1\ta\tlacking mirth\t0.5003\n",
      "115270\tbuy_into#1\tv\tbuy stocks or shares of a company\t0.5003\n",
      "11233\tcuspidated#1 cuspidate#1 cuspidal#1 cusped#1 cuspated#1 cuspate#1\ta\thaving cusps or points\t0.4997\n",
      "8953\tofficial#5\ta\t(of a church) given official status as a national or state institution\t0.5003\n",
      "115543\tretool#2\tv\tprovide (a workshop or factory) with new tools\t0.5003\n",
      "116865\tpig_it#1 pig#1\tv\tlive like a pig, in squalor\t0.4996\n",
      "117274\ttake#38 hold#18 contain#5\tv\tbe capable of holding or containing; This box won't take all the items; The flask holds one gallon\t0.4996\n",
      "2420\tkosher#1 cosher#1\ta\tconforming to dietary laws; kosher meat; a kosher kitchen\t0.5004\n",
      "114105\tspiral#1 gyrate#1 coil#1\tv\tto wind or move in a spiral course; the muscles and nerves of his fine drawn body were coiling for action; black smoke coiling up into the sky; the young people gyrated on the dance floor\t0.5004\n",
      "115401\tdeposit#2 bank#6\tv\tput into a bank account; She deposits her paycheck every month\t0.4996\n",
      "106631\tverbify#1\tv\tmake into a verb; 'mouse' has been verbified by computer users\t0.4996\n",
      "5790\ttansy-smelling#1 tansy-scented#1\ta\tsmelling of tansy\t0.4996\n",
      "17439\tarithmetical#1 arithmetic#1\ta\trelating to or involving arithmetic; arithmetical computations\t0.5004\n",
      "116284\tsolemnize#2 solemnise#2\tv\tperform (the wedding ceremony) with proper ceremonies\t0.5005\n",
      "113381\tboggle#1\tv\tstartle with amazement or fear\t0.5005\n",
      "113977\tconvene#1\tv\tmeet formally; The council convened last week\t0.4995\n",
      "18049\tanaphylactic#1\ta\trelated to the hypersensitivity known as anaphylaxis; anaphylactic shock\t0.5005\n",
      "9234\tstupefying#2\ta\tmaking physically stupid or dull or insensible; a stupefying blow to the head; the stupefying effects of hemp\t0.5005\n",
      "105485\tsteep#2 infuse#4\tv\tlet sit in a liquid to extract a flavor or to cleanse; steep the blossoms in oil; steep the fruit in alcohol\t0.4995\n",
      "106947\tdrop#18\tv\tomit (a letter or syllable) in speaking or writing;  New Englanders drop their post-vocalic r's\t0.5005\n",
      "104676\tupdate#1\tv\tmodernize or bring up to date; We updated the kitchen in the old house\t0.4995\n",
      "9028\tjunior#3\ta\tincluding or intended for youthful persons; a junior sports league; junior fashions\t0.5005\n",
      "110768\tsqueeze#9 press#5 contract#3 constrict#1 compress#2 compact#4\tv\tsqueeze or press together; she compressed her lips; the spasm contracted the muscle\t0.5005\n",
      "114556\texpose#5 disclose#2\tv\tdisclose to view as by removing a cover; The curtain rose to disclose a stunning set\t0.4995\n",
      "109299\tnail#7 complete#4\tv\tcomplete a pass\t0.5005\n",
      "9257\trecusant#1 dissentient#1\ta\t(of Catholics) refusing to attend services of the Church of England\t0.4995\n",
      "5302\texotic#2\ta\tstrikingly strange or unusual; an exotic hair style; protons, neutrons, electrons and all their exotic variants; the exotic landscape of a dead planet\t0.4994\n",
      "104098\tpedicure#1\tv\tcare for one's feet by cutting and shaping the nails, etc.\t0.5006\n",
      "13565\tthickened#2 calloused#1 callous#2\ta\thaving calluses; having skin made tough and thick through wear; calloused skin; with a workman's callous hands\t0.4994\n",
      "108167\tplight#1 engage#5 betroth#1 affiance#1\tv\tgive to in marriage\t0.5006\n",
      "7386\tinvasive#1\ta\trelating to a technique in which the body is entered by puncture or incision\t0.5006\n",
      "112070\tdraw#19\tv\tengage in drawing; He spent the day drawing in the garden\t0.5006\n",
      "15912\tsyntagmatic#1\ta\trelated as members of a syntagma; syntagmatic word associations\t0.4994\n",
      "14482\tancestral#2\ta\tof or belonging to or inherited from an ancestor\t0.4994\n",
      "6405\tanicteric#2\ta\tnot affected by jaundice\t0.5006\n",
      "13795\tupmarket#1\ta\tdesigned for consumers with high incomes; he turned up in well-cut clothes...and upmarket felt hats- New Yorker\t0.5006\n",
      "5413\tlanky#2 gangly#2 gangling#2\ta\ttall and thin\t0.5006\n",
      "110776\tuncompress#1 decompress#1\tv\trestore to its uncompressed form; decompress data\t0.4994\n",
      "6581\tstratified#1 ranked#1 graded#1\ta\tarranged in a sequence of grades or ranks; stratified areas of the distribution\t0.4994\n",
      "2509\tfar-flung#2\ta\tremote; far-flung corners of the Empire\t0.5007\n",
      "112317\tsuperscribe#1\tv\twrite on the top or outside; superscribe one's name and address\t0.4993\n",
      "11005\tbrilliant#6 bright#8\ta\tclear and sharp and ringing; the bright sound of the trumpet section; the brilliant sound of the trumpets\t0.4993\n",
      "8556\tmotorized#1 motorised#1 motored#1\ta\tequipped with a motor or motors; a motorized wheelchair\t0.5007\n",
      "17955\ttutorial#1\ta\tof or relating to tutors or tutoring; tutorial sessions\t0.4993\n",
      "109629\toverfeed#1\tv\tfeed excessively\t0.5007\n",
      "112499\timprovize#1 improvise#1 extemporize#2 extemporise#1 ad-lib#1\tv\tperform without preparation; he extemporized a speech at the wedding\t0.4992\n",
      "7334\tponderous#3\ta\tlabored and dull; a ponderous speech\t0.4992\n",
      "112308\tchalk#1\tv\twrite, draw, or trace with chalk\t0.4992\n",
      "112146\tpreform#1\tv\tform into a shape resembling the final, desired one\t0.5008\n",
      "11582\tpestiferous#1 dirty#5\ta\tcontaminated with infecting organisms; dirty wounds; obliged to go into infected rooms- Jane Austen\t0.5008\n",
      "109173\ttake_up_arms#1 take_arms#1 go_to_war#1\tv\tcommence hostilities\t0.4992\n",
      "12202\thundred-and-fifth#1 105th#1\ta\tthe ordinal number of one hundred five in counting order\t0.4992\n",
      "104349\tsnap_back#1\tv\trecover quickly; After the surgery, the patient snapped back in a few days\t0.5008\n",
      "12132\tbillion#2\ta\tdenoting a quantity consisting of one million million items or units in Great Britain\t0.4992\n",
      "110318\tdrop_anchor#1 cast_anchor#1 anchor#2\tv\tsecure a vessel with an anchor; We anchored at Baltimore\t0.4992\n",
      "15617\tmotivational#1\ta\tof or relating to motivation\t0.4992\n",
      "7780\tblank#3\ta\tnot charged with a bullet; a blank cartridge\t0.4992\n",
      "113917\ttransship#1\tv\ttransfer for further transportation from one ship or conveyance to another\t0.4992\n",
      "113065\tkite#4\tv\tfly a kite; Kids were kiting in the park; They kited the Red Dragon model\t0.4992\n",
      "109597\ttuck_in#1 tuck_away#1 put_away#6\tv\teat up; usually refers to a considerable quantity of food; My son tucked in a whole pizza\t0.4992\n",
      "113640\tcanter#2\tv\tgo at a canter, of horses\t0.4992\n",
      "106309\tammonify#1\tv\ttreat with ammonia; cause to undergo ammonification\t0.5009\n",
      "1572\tself-luminous#1\ta\thaving in itself the property of emitting light\t0.4991\n",
      "104389\troll#9\tv\texecute a roll, in tumbling; The gymnasts rolled and jumped\t0.4991\n",
      "104243\ttrouble#5 pain#1 ail#2\tv\tcause bodily suffering to and make sick or indisposed\t0.4991\n",
      "115395\tinsufflate#1\tv\tbreathe or blow onto as a ritual or sacramental act, especially so as to symbolize the action of the Holy Spirit\t0.5009\n",
      "107093\tcast_around#1 cast_about#1 beat_about#1\tv\tsearch anxiously\t0.4991\n",
      "113453\ttroop#1 promenade#1 parade#2\tv\tmarch in a procession; the veterans paraded down the street\t0.4991\n",
      "114165\twince#1 squinch#2 shrink#2 recoil#1 quail#1 funk#1 flinch#1 cringe#1\tv\tdraw back, as with fear or pain; she flinched when they showed the slaughtering of the calf\t0.5009\n",
      "9271\tinside#1\ta\trelating to or being on the side closer to the center or within a defined space; he reached into his inside jacket pocket; inside out; an inside pitch is between home plate and the batter\t0.5009\n",
      "17980\tzairese#1 zairean#1\ta\tof or relating to or characteristic of Zaire or its people; Zairean elections\t0.5009\n",
      "1520\tlamplit#1\ta\tlighted by a lamp; our lamplit mountain retreat\t0.5009\n",
      "114234\tget_away#1 escape#1 break_loose#2\tv\trun away from confinement; The convicted murderer escaped from a high security prison\t0.4991\n",
      "114885\tkeep#19\tv\thave as a supply; I always keep batteries in the freezer; keep food for a week in the pantry; She keeps a sixpack and a week's worth of supplies in the refrigerator\t0.4991\n",
      "1684\trough#5 fierce#4 boisterous#3\ta\tviolently agitated and turbulent; boisterous winds and waves; the fierce thunders roar me their music- Ezra Pound; rough weather; rough seas\t0.4990\n",
      "107068\tparse#1\tv\tanalyze syntactically by assigning a constituent structure to (a sentence)\t0.5010\n",
      "114862\tblock#6\tv\tinterrupt the normal function of by means of anesthesia; block a nerve; block a muscle\t0.4990\n",
      "12165\ttwenty-sixth#1 26th#1\ta\tcoming next after the twenty-fifth in position\t0.4990\n",
      "104779\tintercalate#1\tv\tinsert (days) in a calendar\t0.4990\n",
      "112314\tcalligraph#1\tv\twrite beautifully and ornamentally\t0.4990\n",
      "2435\tclear#4\ta\tallowing light to pass through; clear water; clear plastic bags; clear glass; the air is clear and clean\t0.4990\n",
      "17376\tmichelangelesque#1\ta\tin the manner of Michelangelo\t0.4990\n",
      "10101\tmicroscopic#3\ta\textremely precise with great attention to details; examined it with microscopic care\t0.4990\n",
      "1507\tuncrystallized#2 uncrystallised#2 amorphous#3\ta\twithout real or apparent crystalline form; an amorphous mineral; amorphous structure\t0.5010\n",
      "3079\tcompleted#2\ta\t(of a marriage) completed by the first act of sexual intercourse after the ceremony\t0.4990\n",
      "111663\tquarter#3\tv\tdivide into quarters; quarter an apple\t0.4990\n",
      "12761\ttremulous#1 quavering#1\ta\t(of the voice) quivering as from weakness or fear; the old lady's quavering voice; spoke timidly in a tremulous voice\t0.5010\n",
      "7852\tshort-range#2\ta\tlimited to short distances; short-range planes; a short-range shot\t0.5010\n",
      "107645\tchat_up#2\tv\ttalk to someone with the aim of persuading him\t0.5010\n",
      "10722\trecorded#2\ta\t(of securities) having the owner's name entered in a register; recorded holders of a stock\t0.5010\n",
      "116252\tcrucify#1\tv\tkill by nailing onto a cross; Jesus Christ was crucified\t0.4990\n",
      "5187\terectile#2 cavernous#2\ta\tfilled with vascular sinuses and capable of becoming distended and rigid as the result of being filled with blood; erectile tissue; the penis is an erectile organ\t0.4990\n",
      "15218\tdiagonalizable#1\ta\tcapable of being transformed into a diagonal matrix\t0.5010\n",
      "113496\tstand_out#3\tv\tsteer away from shore, of ships\t0.4990\n",
      "113980\tflock#2 constellate#2 cluster#1 clump#2\tv\tcome together as in a cluster or flock; The poets constellate in this town every summer\t0.5011\n",
      "113186\tpush_up#1\tv\tpush upward\t0.4989\n",
      "7092\tindustrialized#1 industrialised#1\ta\tmade industrial; converted to industrialism; industrialized areas\t0.4989\n",
      "113960\tmake#37\tv\treach in time; We barely made the plane\t0.5011\n",
      "109600\tpick_up#15 peck#2\tv\teat by pecking at, like a bird\t0.4989\n",
      "12619\twhipping#1 snappy#2\ta\tsmart and fashionable; snappy conversation; some sharp and whipping lines\t0.4989\n",
      "11870\tred-blind#1 protanopic#1\ta\tinability to see the color red or to distinguish red and bluish-green\t0.5011\n",
      "113199\troll#13\tv\tmove, rock, or sway from side to side; The ship rolled on the heavy seas\t0.4989\n",
      "109393\tblaze_away#2 blaze#2\tv\tshoot rapidly and repeatedly; He blazed away at the men\t0.4989\n",
      "108627\tlift#5\tv\tmake audible; He lifted a war whoop\t0.5011\n",
      "111475\ttick_over#1 idle#1\tv\trun disconnected or idle; the engine is idling\t0.5011\n",
      "109665\tdry-nurse#1\tv\ttake care of an infant without breastfeeding it\t0.5011\n",
      "109133\tumpire#1 referee#1\tv\tbe a referee or umpire in a sports competition\t0.4989\n",
      "117608\tflare#1 flame_up#1 burn_up#1 blaze_up#1\tv\tburn brightly; Every star seemed to flare with new intensity\t0.4989\n",
      "111898\ttrench#2\tv\tfortify by surrounding with trenches; He trenched his military camp\t0.4989\n",
      "106660\trun_out#7 give_out#3 fail#10\tv\tprove insufficient; The water supply for the town failed after a long drought\t0.5011\n",
      "2677\tfire-retardant#1 fire-resistive#1 fire-resisting#1 fire-resistant#1\ta\tdifficult to burn\t0.4989\n",
      "16247\tphenomenal#1\ta\tof or relating to a phenomenon; phenomenal science\t0.4989\n",
      "110680\tkick_up#1\tv\tcause to rise by kicking; kick up dust\t0.4989\n",
      "16748\tscriptural#2\ta\twritten or relating to writing\t0.5011\n",
      "110406\ttrim#7 snip#2 prune#1 lop#2 dress#11 cut_back#3 crop#6 clip#4\tv\tcultivate, tend, and cut back the growth of; dress the plants in the garden\t0.5011\n",
      "16734\tbimorphemic#1\ta\tconsisting of two morphemes; the bimorphemic word `rays'\t0.5011\n",
      "117299\tdrag_out#1 drag_on#1\tv\tlast unnecessarily long\t0.5011\n",
      "14879\tbibliomaniacal#1\ta\tcharacteristic of or characterized by or noted for bibliomania\t0.4988\n",
      "1225\tunbanded#1\ta\tnot identified with a band; an unbanded bird\t0.5012\n",
      "113418\tstroll#1 saunter#1\tv\twalk leisurely and with no apparent aim\t0.5012\n",
      "103958\toversleep#1\tv\tsleep longer than intended\t0.5012\n",
      "113503\ttree#1 corner#2\tv\tforce a person or an animal into a position from which he cannot escape\t0.4988\n",
      "7023\tdeveloped#3\ta\t(of real estate) made more useful and profitable as by building or laying out roads; condominiums were built on the developed site\t0.4988\n",
      "112299\tportray#2 limn#2 depict#3\tv\tmake a portrait of; Goya wanted to portray his mistress, the Duchess of Alba\t0.4988\n",
      "4751\tdisillusioned#1\ta\tfreed from illusion\t0.4988\n",
      "16630\tontological#1\ta\tof or relating to ontology; ontological speculations\t0.5012\n",
      "7039\tinbred#1\ta\tproduced by inbreeding\t0.5012\n",
      "104345\tinvalid#2 incapacitate#2 handicap#1 disable#2\tv\tinjure permanently; He was disabled in a car accident\t0.4988\n",
      "106634\ttranspose#2 transplant#4 transfer#9\tv\ttransfer from one place or period to another; The ancient Greek story was transplanted into Modern America\t0.4988\n",
      "110851\tsnap#9\tv\tput in play with a snap; snap a football\t0.4988\n",
      "114319\tbring_about#1\tv\tcause to move into the opposite direction; they brought about the boat when they saw a storm approaching\t0.4988\n",
      "104023\tfleer#1\tv\tto smirk contemptuously\t0.4988\n",
      "113873\tturn_back#1 double_back#1 backtrack#1\tv\tretrace one's course; The hikers got into a storm and had to turn back\t0.5012\n",
      "104177\tfoal#1\tv\tgive birth to a foal; the mare foaled\t0.4988\n",
      "114313\tturn_over#6 turn#10\tv\tcause to move around a center so as to show another side of; turn a page of a book\t0.4988\n",
      "106376\tspot#6\tv\tmark with a spot or spots so as to allow easy recognition; spot the areas that one should clearly identify\t0.5013\n",
      "12344\tsuperfine#1\ta\tof extremely fine size or texture; superfine sugar; a superfine file\t0.5013\n",
      "114155\tstep_on_it#1 speed#1 rush_along#1 rush#1 race#1 pelt_along#1 hotfoot#1 hie#1 hasten#2 cannonball_along#1 bucket_along#1 belt_along#1\tv\tmove fast; He rushed down the hall to receive his guests; The cars raced down the street\t0.4987\n",
      "12901\tfeudatory#2\ta\towing feudal allegiance to or being subject to a sovereign; it remained feudatory to India until 1365\t0.5013\n",
      "5948\tair-filled#1\ta\tfull of air\t0.4987\n",
      "107495\tfactor_analyze#1 factor_analyse#1\tv\tto perform a factor analysis of correlational data\t0.5013\n",
      "14017\tsought-after#1 sought#2\ta\tbeing searched for; the most sought-after item was the silver candelabrum\t0.4987\n",
      "105331\tpitch#12 gear#1\tv\tset the level or character of; She pitched her speech to the teenagers in the audience\t0.5013\n",
      "16326\tsociocultural#1\ta\trelating to both social and cultural matters\t0.4987\n",
      "104193\tspay#1 neuter#1 castrate#4 alter#5\tv\tremove the ovaries of; Is your cat spayed?\t0.4987\n",
      "11412\tscalable#1\ta\tcapable of being scaled; possible to scale; the scalable slope of a mountain\t0.4987\n",
      "12226\ttrillionth#1\ta\tthe ordinal number of one trillion in counting order\t0.5014\n",
      "105364\tbottleneck#2\tv\tbecome narrow, like a bottleneck; Right by the bridge, the road bottlenecks\t0.4986\n",
      "113770\tfall#24\tv\tdrop oneself to a lower or less erect position; She fell back in her chair; He fell to his knees\t0.4986\n",
      "117029\tcrowd#2\tv\tfill or occupy to the point of overflowing; The students crowded the auditorium\t0.4986\n",
      "3760\tmass-produced#1\ta\tproduced in quantity often by assembly-line techniques\t0.4986\n",
      "104433\tgive#44\tv\tproffer (a body part); She gave her hand to her little sister\t0.4986\n",
      "4540\twestern#2\ta\tof or characteristic of regions of the United States west of the Mississippi River; a Western ranch\t0.5014\n",
      "272\tagglutinative#2 agglutinate#1\ta\tunited as if by glue\t0.5014\n",
      "114645\tsee#19\tv\tobserve as if with an eye; The camera saw the burglary and recorded it\t0.5014\n",
      "110614\tstring#5\tv\tstring together; tie or fasten with a string; string the package\t0.5014\n",
      "103979\tulcerate#2\tv\taffect with an ulcer; Her stomach was ulcerated\t0.4986\n",
      "7357\tshut-in#1 introvertish#1\ta\tsomewhat introverted\t0.5015\n",
      "110208\tretie#1\tv\ttie again or anew; retie the string and make it strong enough now\t0.4985\n",
      "17219\tparasympathomimetic#1\ta\thaving an effect similar to that resulting from stimulation of the parasympathetic nervous system; parasympathomimetic drugs slow the heart rate\t0.4985\n",
      "113919\tcarry_over#4 carry_forward#1\tv\ttransfer from one time period to the next\t0.5015\n",
      "10695\tdoped#1\ta\ttreated or impregnated with a foreign substance\t0.4985\n",
      "110587\ttee#2\tv\tconnect with a tee; tee two pipes\t0.5015\n",
      "106724\tincandesce#1\tv\tcause to become incandescent or glow; the lamp was incandesced\t0.4985\n",
      "116558\tshepherd#2\tv\ttend as a shepherd, as of sheep or goats\t0.4985\n"
     ]
    }
   ],
   "source": [
    "# Filter out already chosen glosses and sort the others by uncertainty from the whole predictions.\n",
    "\n",
    "cand=sentinet_av.loc[(~sentinet_av.is_test)&(~sentinet_av.is_train)].sort_values(by='uncertainty',ascending=True)[:200]\n",
    "\n",
    "for _id,_w,_p,_gloss,_s in zip(cand['id'],cand['SynsetTerms'],cand['POS'],cand['Gloss'],cand['score']):\n",
    "    print('%d\\t%s\\t%s\\t%s\\t%.4f'%(_id,_w,_p,_gloss,_s))"
   ]
  },
  {
   "cell_type": "markdown",
   "id": "a9d8f054",
   "metadata": {
    "pycharm": {
     "name": "#%% md\n"
    }
   },
   "source": [
    "## Round5"
   ]
  },
  {
   "cell_type": "code",
   "execution_count": null,
   "id": "a94b442b",
   "metadata": {
    "pycharm": {
     "name": "#%%\n"
    }
   },
   "outputs": [],
   "source": [
    "# focus ONLY on verb"
   ]
  },
  {
   "cell_type": "code",
   "execution_count": 20,
   "id": "7d6d69d5",
   "metadata": {
    "pycharm": {
     "name": "#%%\n"
    }
   },
   "outputs": [],
   "source": [
    "# -------- SetUp -------- #\n",
    "\n",
    "# Choose training samples from those most uncertain words in round1. Proportion of samples, 1:1\n",
    "# positive: class=1\n",
    "# negative: class=0\n",
    "\n",
    "train_cur=pd.read_csv('Data/train_v1_r5.csv')\n",
    "\n",
    "train_last=pd.read_csv('Data/train_v1_r1tor4.csv')\n",
    "\n",
    "train=pd.concat([train_cur[['id','text','target']],train_last[['id','text','target']]])\n",
    "\n",
    "train_ids=set(train['id'].tolist())\n",
    "\n",
    "sentinet['is_train']=sentinet['id'].apply(lambda x: True if x in train_ids else False)\n",
    "\n",
    "train.to_csv('Data/train_v1_r1tor5.csv')"
   ]
  },
  {
   "cell_type": "code",
   "execution_count": null,
   "id": "a15bd6f9",
   "metadata": {
    "pycharm": {
     "name": "#%%\n",
     "is_executing": true
    }
   },
   "outputs": [],
   "source": [
    "# -------- Evaluate -------- #\n",
    "\n",
    "# Predict over the whole sentinet. Filter out already chosen glosses and sort the others by uncertainty.\n",
    "\n",
    "# Predicting is done by `train.py`. Remember setting Config.is_predict=True in `train.py`.\n",
    "\n",
    "pred=npy.load('Data/pred.v1.r5.1.npy') # load prediction result\n",
    "assert pred.shape[0]==sentinet_av.shape[0]\n",
    "sentinet_av['score']=pred.flatten()\n",
    "sentinet_av['uncertainty']=sentinet_av['score'].apply(lambda x: abs(x-0.5))\n",
    "\n",
    "\n",
    "\n",
    "# -- adj -- #\n",
    "print('# -- adj -- #')\n",
    "try:\n",
    "    testset_adj=testset_adj.drop(['score'],axis=1)\n",
    "except:\n",
    "    pass\n",
    "testset_adj=testset_adj.merge(sentinet_av[['id','score']],on='id')\n",
    "testset_adj['pred_label']=testset_adj['score'].apply(lambda x: 1 if x>0.5 else 0)\n",
    "testset_adj['target']=testset_adj['class']\n",
    "\n",
    "testset=testset_adj\n",
    "\n",
    "# positive::precision\n",
    "print(\"positive::precision %.3f\"%(testset_adj.loc[(testset_adj.pred_label==1)&(testset_adj.target==1)].shape[0]/testset_adj.loc[(testset_adj.pred_label==1)].shape[0]))\n",
    "print(\"positive::recall %.3f\"%(testset_adj.loc[(testset_adj.pred_label==1)&(testset_adj.target==1)].shape[0]/testset_adj.loc[(testset_adj.target==1)].shape[0]))\n",
    "\n",
    "\n",
    "print(\"negative::precision %.3f\"%(testset_adj.loc[(testset_adj.pred_label==0)&(testset_adj.target==0)].shape[0]/testset_adj.loc[(testset_adj.pred_label==0)].shape[0]))\n",
    "print(\"negative::recall %.3f\"%(testset_adj.loc[(testset_adj.pred_label==0)&(testset_adj.target==0)].shape[0]/testset_adj.loc[(testset_adj.target==0)].shape[0]))\n",
    "\n",
    "pp=testset.loc[(testset.pred_label==1)&(testset.target==1)].shape[0]/testset.loc[(testset.pred_label==1)].shape[0]\n",
    "pr=testset.loc[(testset.pred_label==1)&(testset.target==1)].shape[0]/testset.loc[(testset.target==1)].shape[0]\n",
    "\n",
    "print(\"F1: %.2f\"%(2*pp*pr/(pp+pr)))\n",
    "\n",
    "\n",
    "np=testset.loc[(testset.pred_label==0)&(testset.target==0)].shape[0]/testset.loc[(testset.pred_label==0)].shape[0]\n",
    "nr=testset.loc[(testset.pred_label==0)&(testset.target==0)].shape[0]/testset.loc[(testset.target==0)].shape[0]\n",
    "\n",
    "print(\"N F1: %.2f\"%(2*np*nr/(np+nr)))\n",
    "\n",
    "\n",
    "\n",
    "# -- verb -- #\n",
    "print('# -- verb -- #')\n",
    "try:\n",
    "    testset_v=testset_v.drop(['score'],axis=1)\n",
    "except:\n",
    "    pass\n",
    "\n",
    "testset_v=testset_v.merge(sentinet_av[['id','score']],on='id')\n",
    "testset_v['pred_label']=testset_v['score'].apply(lambda x: 1 if x>0.5 else 0)\n",
    "testset_v['target']=testset_v['class']\n",
    "\n",
    "testset=testset_v\n",
    "\n",
    "# positive::precision\n",
    "print(\"positive::precision %.3f\"%(testset.loc[(testset.pred_label==1)&(testset.target==1)].shape[0]/testset.loc[(testset.pred_label==1)].shape[0]))\n",
    "print(\"positive::recall %.3f\"%(testset.loc[(testset.pred_label==1)&(testset.target==1)].shape[0]/testset.loc[(testset.target==1)].shape[0]))\n",
    "\n",
    "\n",
    "print(\"negative::precision %.3f\"%(testset.loc[(testset.pred_label==0)&(testset.target==0)].shape[0]/testset.loc[(testset.pred_label==0)].shape[0]))\n",
    "print(\"negative::recall %.3f\"%(testset.loc[(testset.pred_label==0)&(testset.target==0)].shape[0]/testset.loc[(testset.target==0)].shape[0]))\n",
    "\n",
    "pp=testset.loc[(testset.pred_label==1)&(testset.target==1)].shape[0]/testset.loc[(testset.pred_label==1)].shape[0]\n",
    "pr=testset.loc[(testset.pred_label==1)&(testset.target==1)].shape[0]/testset.loc[(testset.target==1)].shape[0]\n",
    "\n",
    "print(\"F1: %.2f\"%(2*pp*pr/(pp+pr)))\n",
    "\n",
    "\n",
    "np=testset.loc[(testset.pred_label==0)&(testset.target==0)].shape[0]/testset.loc[(testset.pred_label==0)].shape[0]\n",
    "nr=testset.loc[(testset.pred_label==0)&(testset.target==0)].shape[0]/testset.loc[(testset.target==0)].shape[0]\n",
    "\n",
    "print(\"N F1: %.2f\"%(2*np*nr/(np+nr)))"
   ]
  },
  {
   "cell_type": "code",
   "execution_count": 22,
   "id": "b8f0b30f",
   "metadata": {
    "pycharm": {
     "name": "#%%\n"
    }
   },
   "outputs": [
    {
     "name": "stdout",
     "output_type": "stream",
     "text": [
      "9613\tmint#1\ta\tas if new; in mint condition\t0.5001\n",
      "13162\tsympathetic#4 likeable#1 likable#1 appealing#2\ta\t(of characters in literature or drama) evoking empathic or sympathetic feelings; the sympathetic characters in the play\t0.5001\n",
      "109007\them#2\tv\tutter `hem' or `ahem'\t0.4999\n",
      "5639\tunpermed#1\ta\tnot having had a permanent wave; smooth glossy unpermed hair\t0.4998\n",
      "8983\tspick-and-span#1 spic-and-span#1 brand-new#1 bran-new#1\ta\tconspicuously new; shiny brand-new shoes; a spick-and-span novelty\t0.4996\n",
      "109004\tcarry#17\tv\tpass on a communication; The news was carried to every village in the province\t0.4995\n",
      "17071\tmediatorial#1\ta\tof or relating to a mediator or the duties of a mediator\t0.4995\n",
      "107074\tname#9 diagnose#1\tv\tdetermine or distinguish the nature of a problem or an illness through a diagnostic analysis\t0.4995\n",
      "16849\tbaptistic#1\ta\tof or pertaining to or characteristic of the Baptist church; Baptistis baptismal practices\t0.5005\n",
      "16912\texponential#1\ta\tof or involving exponents; exponential growth\t0.4994\n",
      "2737\tnoncommissioned#1\ta\t(of military officers) appointed from enlisted personnel\t0.4994\n",
      "104149\tinseminate#2 fertilize#3 fertilise#3 fecundate#2\tv\tintroduce semen into (a female)\t0.5006\n",
      "494\tuntransferable#1 unassignable#1 nontransferable#1\ta\tincapable of being transferred\t0.4994\n",
      "15820\tself-limited#1\ta\trelating to a disease that tends to run a definite course without treatment\t0.5007\n",
      "116729\tcharm#2 becharm#1\tv\tcontrol by magic spells, as by practicing witchcraft\t0.5007\n",
      "115189\tunderspend#1\tv\tspend less than the whole of (a budget, for example)\t0.5007\n",
      "4556\tkillable#1\ta\tfit to kill, especially for food\t0.5008\n",
      "107494\tanalyze#3 analyse#2\tv\tbreak down into components or essential features; analyze today's financial market\t0.4992\n",
      "5075\tspent#1 exhausted#2\ta\tdepleted of energy, force, or strength; impossible to grow tobacco on the exhausted soil; the exhausted food sources; exhausted oil wells\t0.4991\n",
      "16455\tritual#2\ta\tof or relating to or employed in social rites or rituals; a ritual dance of Haiti; sedate little colonial tribe with its ritual tea parties- Nadine Gordimer\t0.4991\n",
      "7305\texasperating#2 exacerbating#1 aggravating#1\ta\tmaking worse\t0.5009\n",
      "16418\tnonlexical#1\ta\tnot relating to words; nonlexical morphemes\t0.5009\n",
      "104104\ttart_up#2\tv\tdress up in a cheap and provocative way\t0.5009\n",
      "2306\tgay#4 braw#1 brave#3\ta\tbrightly colored and showy; girls decked out in brave new dresses; brave banners flying; `braw' is a Scottish word; a dress a bit too gay for her years; birds with gay plumage\t0.4990\n",
      "11535\tnociceptive#1\ta\tcaused by or in response to pain; a nociceptive spinal reflex\t0.5010\n",
      "7654\thot#6\ta\trecently stolen or smuggled; hot merchandise; a hot car\t0.4990\n",
      "10698\tuntreated#2\ta\tnot subjected to chemical or physical treatment; an untreated fabric\t0.5010\n",
      "12140\tsecond#1 2nd#1 2d#1\ta\tcoming next after the first in position in space or time or degree or magnitude\t0.5012\n",
      "17055\tmutative#1\ta\tof or pertaining to or marked by genetic mutation\t0.4988\n",
      "109928\tclap#6\tv\tstrike with the flat of the hand; usually in a friendly way, as in encouragement or greeting\t0.5012\n",
      "13617\theavy-laden#1 care-laden#1\ta\tburdened by cares; all ye that labor and are heavy-laden-Matt.11:28\t0.4988\n",
      "8093\tfemale#1\ta\tbeing the sex (of plant or animal) that produces fertilizable gametes (ova) from which offspring develop; a female heir; female holly trees bear the berries\t0.4987\n",
      "6441\tsore-eyed#1\ta\thaving sore eyes; suffering from pinkeye or conjunctivitis\t0.4987\n",
      "107719\ttweedle#3\tv\tentice through the use of music\t0.5013\n",
      "117328\tmeet#3 converge#1\tv\tbe adjacent or come together; The lines converge at this point\t0.5014\n",
      "14877\tbibliographical#1 bibliographic#1\ta\trelating to or dealing with bibliography\t0.4986\n",
      "4368\tdominant#2\ta\t(of genes) producing the same phenotype whether its allele is identical or dissimilar\t0.4985\n",
      "2790\tflemish-speaking#1\ta\table to communicate in Flemish\t0.4984\n",
      "115889\tusurp#2\tv\ttake the place of; gloom had usurped mirth at the party after the news of the terrorist act broke\t0.4984\n",
      "4268\tdiscerning#4\ta\table to make or detect effects of great subtlety; sensitive; discerning taste; a discerning eye for color\t0.5016\n",
      "6823\thot#1\ta\tused of physical heat; having a high or higher than desirable temperature or giving off heat or feeling or causing a sensation of heat or burning; hot stove; hot water; a hot August day; a hot stuffy room; she's hot and tired; a hot forehead\t0.4984\n",
      "10740\trandomized#1 randomised#1\ta\tset up or distributed in a deliberately random way\t0.5017\n",
      "105662\tstop#11 hold_on#2\tv\tstop and wait, as if awaiting further instructions or developments; Hold on a moment!\t0.4983\n",
      "17730\tnordic#2\ta\trelating to Germany and Scandinavia; Hitler wanted Nordic people to rule Europe\t0.4983\n",
      "6380\torthomolecular#1\ta\tdesignating or relating to a form of treatment of mental disorders that seeks to restore biochemical balance in the body with large doses of vitamins and minerals; orthomolecular medicine; orthomolecular therapy\t0.4981\n",
      "108539\treport#3\tv\tannounce one's presence; I report to work every day at 9 o'clock\t0.5019\n",
      "13593\tstubborn#2 refractory#1\ta\tnot responding to treatment; a stubborn infection; a refractory case of acne; stubborn rust stains\t0.4981\n",
      "11274\tsacred#1\ta\tconcerned with religion or religious purposes; sacred texts; sacred rites; sacred music\t0.4980\n",
      "1077\tstraight-backed#1\ta\thaving a straight back; a straight-backed wooden chair; a slim straight-backed dancer\t0.5021\n",
      "111169\tmarch#7 edge#3 butt_on#1 butt_against#1 butt#1 border#5 adjoin#1 abut#1\tv\tlie adjacent to another or share a boundary; Canada adjoins the U.S.; England marches with Scotland\t0.5022\n",
      "17807\tpuerile#1\ta\tof or characteristic of a child; puerile breathing\t0.5023\n",
      "5936\thigh-yield#1\ta\tyielding a large amount of agricultural or industrial production\t0.4976\n",
      "105154\tpuff_up#1\tv\tmake larger or distend; The estimates were puffed up\t0.5024\n",
      "110602\tunmask#2\tv\ttake the mask off; unmask the imposter\t0.5024\n",
      "107367\tdesign#2\tv\tplan something for a specific role or purpose or effect; This room is not designed for work\t0.5024\n",
      "2500\toutlying#1\ta\trelatively far from a center or middle; outlying settlements\t0.4976\n",
      "109068\tplay#1\tv\tparticipate in games or sport; We played hockey all afternoon; play cards; Pele played for the Brazilian teams in many important matches\t0.4976\n",
      "111192\tskyjack#1\tv\tsubject an aircraft to air piracy; the plane was skyjacked to Uzbekistan\t0.5025\n",
      "16633\tcatholic#1\ta\tof or relating to or supporting Catholicism; the Catholic Church\t0.5025\n",
      "106920\tspring_to_mind#1 come_to_mind#1\tv\tbe remembered; His name comes to mind when you mention the strike\t0.4974\n",
      "106012\tmagnify#1 amplify#1\tv\tincrease in size, volume or significance; Her terror was magnified in her mind\t0.4973\n",
      "109125\tface_off#1 bully_off#1\tv\tstart a game by a face-off\t0.4973\n",
      "112706\tget#29\tv\tevoke an emotional response; Brahms's `Requiem' gets me every time\t0.5028\n",
      "8217\tinsignificant#2\ta\tsignifying nothing; insignificant sounds\t0.4972\n",
      "107702\tput_in#3 cut_in#3 chisel_in#1 chime_in#1 butt_in#1 break_in#2 barge_in#2\tv\tbreak into a conversation; her husband always chimes in, even when he is not involved in the conversation\t0.4972\n",
      "1967\tdenaturized#1 denaturised#1 denatured#1\ta\tchanged in nature or natural quality; denatured alcohol\t0.4971\n",
      "5687\tmunicipal#2\ta\tof or relating to the government of a municipality; international law...only authorizes a belligerent to punish a spy under its municipal law- J.L.kuntz\t0.5029\n",
      "103956\tsnooze#1 drowse#1 doze#1\tv\tsleep lightly or for a short period of time\t0.4971\n",
      "15273\telegiac#1\ta\tresembling or characteristic of or appropriate to an elegy; an elegiac poem on a friend's death\t0.5030\n",
      "1801\tmotor#2 motive#1\ta\tcausing or able to cause motion; a motive force; motive power; motor energy\t0.4970\n",
      "12764\ttottery#1 tottering#1\ta\tunsteady in gait as from infirmity or old age; a tottering skeleton of a horse; a tottery old man\t0.4970\n",
      "1324\ttwelve-sided#1\ta\thaving twelve sides\t0.4970\n",
      "4977\tunhappy#2 dysphoric#1 distressed#2\ta\tgeneralized feeling of distress\t0.5031\n",
      "13975\tnonvolatilizable#1 nonvolatilisable#1 nonvolatile#1\ta\tnot volatilizing readily; a nonvolatile acid\t0.5031\n",
      "11142\tleftmost#1\ta\tfarthest to the left; the leftmost non-zero digit\t0.5031\n",
      "113452\tflounce#1\tv\twalk emphatically\t0.5031\n",
      "108423\tswallow#4\tv\tutter indistinctly; She swallowed the last words of her speech\t0.4967\n",
      "11729\till-proportioned#1\ta\tlacking pleasing proportions\t0.4967\n",
      "4580\tdown#8\ta\tnot functioning (temporarily or permanently); we can't work because the computer is down\t0.5034\n",
      "6654\tbaritone#1\ta\tlower in range than tenor and higher than bass; a baritone voice; baritone oboe\t0.4965\n",
      "111371\tintussuscept#1\tv\tintrovert or invaginate; the intussuscepted gut\t0.5035\n",
      "6314\twooly#1 woolly#1 flocculent#1\ta\thaving a fluffy character or appearance\t0.5036\n",
      "17\thalf-length#2\ta\tabridged to half its original length\t0.4963\n",
      "5953\tfilled#1\ta\t(usually followed by `with' or used as a combining form) generously supplied with; theirs was a house filled with laughter; a large hall filled with rows of desks; fog-filled air\t0.5037\n",
      "1045\tsick#7 macabre#1 gruesome#1 grisly#1 grim#2 ghastly#1\ta\tshockingly repellent; inspiring horror; ghastly wounds; the grim aftermath of the bombing; the grim task of burying the victims; a grisly murder; gruesome evidence of human sacrifice; macabre tales of war and plague in the Middle ages; macabre tortures conceived by madmen\t0.4962\n",
      "106981\tmythicize#1 mythicise#1\tv\tinterpret as a myth or in terms of mythology; mythicize the ancient stories\t0.5038\n",
      "104074\tset#25 dress#16 do#12 coiffure#1 coiffe#1 coif#2 arrange#5\tv\tarrange attractively; dress my hair for the wedding\t0.5039\n",
      "105642\troot#6\tv\tcause to take roots\t0.4961\n",
      "4937\torganic#6 constitutive#1 constitutional#4 constituent#1\ta\tconstitutional in the structure of something (especially your physical makeup)\t0.4961\n",
      "108901\tgrunt#1\tv\tissue a grunting, low, animal-like noise; He grunted his reluctant approval\t0.4960\n",
      "16591\tpsychomotor#1\ta\tof or relating to or characterizing mental events that have motor consequences or vice versa\t0.5041\n",
      "11375\tmaniclike#1\ta\tresembling the mania of manic-depressive illness\t0.4958\n",
      "6157\tinglorious#2\ta\tnot bringing honor and glory; some mute inglorious Milton here may rest\t0.5042\n",
      "11052\tforensic#1\ta\tof, relating to, or used in public debate or argument\t0.4958\n",
      "115737\tventure#1 embark#3\tv\tproceed somewhere despite the risk of possible dangers; We ventured into the world of high-tech and bought a supercomputer\t0.4957\n",
      "116748\tdecolonize#1 decolonise#1\tv\tgrant independence to (a former colony); West Africa was decolonized in the early 1960's\t0.5044\n",
      "108663\twrite_in#2\tv\twrite to an organization; Many listeners wrote in after the controversial radio program\t0.5045\n",
      "16302\tauditory#1 auditive#1 audile#1\ta\tof or relating to the process of hearing; auditory processing; an audile person\t0.4955\n",
      "112069\tget#31 draw#15\tv\tearn or achieve a base by being walked by the pitcher; He drew a base on balls\t0.4955\n",
      "114177\tprostrate#1 bow_down#1\tv\tget into a prostrate position, as in submission\t0.5047\n",
      "106933\trecord#5 memorialize#2 memorialise#2 immortalize#1 immortalise#1 commemorate#3\tv\tbe or provide a memorial to a person or an event; This sculpture commemorates the victims of the concentration camps; We memorialized the Dead\t0.5047\n",
      "106868\tcatch_up#2\tv\tlearn belatedly; find out about something after it happened; I'm trying to catch up with the latest developments in molecular biology\t0.5047\n",
      "12669\tdisyllabic#1\ta\thaving or characterized by or consisting of two syllables\t0.5048\n",
      "13586\tnonvenomous#1\ta\tnot producing venom; nonvenomous snakes\t0.4952\n",
      "771\tclean#16\ta\tnot carrying concealed weapons\t0.4951\n",
      "111181\tinvite#6 ask_in#1\tv\task to enter; We invited the neighbors in for a cup of coffee\t0.4951\n",
      "1003\tpurchasable#2 for_sale#1\ta\tavailable for purchase; purchasable goods; many houses in the area are for sale\t0.5049\n",
      "14087\tweaned#1\ta\tfreed of dependence on something especially (for mammals) mother's milk; the just-weaned calf bawled for its mother\t0.5049\n",
      "104469\tspeciate#1 specialize#5 specialise#5 differentiate#5\tv\tevolve so as to lead to a new species or develop in a way most suited to the environment\t0.5050\n",
      "104847\tblank_out#2\tv\tcut out, as for political reasons; several line in the report were blanked out\t0.4950\n",
      "9025\tchildly#1 childlike#1\ta\tbefitting a young child; childlike charm\t0.4949\n",
      "7304\tintensifying#1\ta\tincreasing in strength or intensity\t0.5051\n",
      "107711\tquest#4\tv\tseek alms, as for religious purposes\t0.5051\n",
      "112114\toverbear#2\tv\tbear too much\t0.5051\n",
      "17486\tburundian#1 burundi#1\ta\tof or relating to or characteristic of Burundi or its people; the Burundi capital\t0.4949\n",
      "9013\tsuperannuated#1 overaged#1 overage#1 over-the-hill#1\ta\ttoo old to be useful; He left the house...for the support of twelve superannuated wool carders- Anthony Trollope\t0.4948\n",
      "15020\tcarunculated#1 carunculate#1\ta\thaving a caruncle\t0.5053\n",
      "8226\tmechanical#1\ta\tusing (or as if using) mechanisms or tools or devices; a mechanical process; his smile was very mechanical; a mechanical toy\t0.5053\n",
      "107650\ttalk_into#1\tv\tpersuade somebody to do something\t0.4947\n",
      "108734\tcorrespond#3\tv\texchange messages; My Russian pen pal and I have been corresponding for several years\t0.5053\n",
      "2531\twalking#1 walk-to#1\ta\tclose enough to be walked to; walking distance; the factory with the big parking lot...is more convenient than the walk-to factory\t0.4947\n",
      "112557\tovercultivate#1 overcrop#1\tv\tto exhaust by excessive cultivation; the farmers overcropped the land\t0.5054\n",
      "9755\tmind-blowing#1 mind-bending#1\ta\tintensely affecting the mind especially in producing hallucinations\t0.4946\n",
      "9406\trepresented#1 delineated#1 delineate#1\ta\trepresented accurately or precisely\t0.5055\n",
      "114971\ttoss_out#1 toss_away#1 toss#5 throw_out#2 throw_away#1 put_away#2 fling#4 dispose#2 discard#1 chuck_out#1 cast_out#2 cast_away#1 cast_aside#1\tv\tthrow or cast away; Put away your worries\t0.4944\n",
      "115480\tmarket#2\tv\tbuy household supplies; We go marketing every Saturday\t0.5057\n",
      "1009\tup#2 astir#1\ta\tout of bed; are they astir yet?; up by seven each morning\t0.4943\n",
      "104022\tsmirk#1 simper#1\tv\tsmile affectedly or derisively\t0.5057\n",
      "115387\ttax#2 assess#3\tv\tset or determine the amount of (a payment such as a fine)\t0.4942\n",
      "17042\tvolumed#1\ta\t(often used in combination) consisting of or having a given number or kind of volumes; the poet's volumed works; a two-volumed history; multi-volumed encyclopedias; large-volumed editions\t0.4942\n",
      "9487\tother#3 former#4 early#3\ta\tbelonging to the distant past; the early inhabitants of Europe; former generations; in other times\t0.4941\n",
      "13079\tpredisposed#1\ta\tmade susceptible; because of conditions in the mine, miners are predisposed to lung disease\t0.5059\n",
      "11823\twhiskerless#1 beardless#1\ta\thaving no beard\t0.4941\n",
      "12715\tnonstandard#2\ta\tvarying from or not adhering to a standard; nonstandard windows; envelopes of nonstandard sizes; nonstandard lengths of board\t0.5059\n",
      "16563\tdeconstructionist#1\ta\tof or concerned with the philosophical theory of literature known as deconstructionism; deconstructionist criticism\t0.5059\n",
      "105570\troll_around#1 come_around#2\tv\thappen regularly; Christmas rolled around again\t0.4941\n",
      "13148\ttrigonal#1 rhombohedral#1\ta\thaving threefold symmetry\t0.5060\n",
      "932\tpredicative#1\ta\tof adjectives; relating to or occurring within the predicate of a sentence; `red' is a predicative adjective in `the apple is red'\t0.5060\n",
      "112245\ttart_up#1\tv\tdecorate in a cheap and flashy way; the small-town bar was all tarted up\t0.4939\n",
      "1323\televen-sided#1\ta\thaving eleven sides\t0.4938\n",
      "15569\tbiomedical#1\ta\trelating to the activities and applications of science to clinical medicine; biomedical research laboratory\t0.4937\n",
      "105840\tmacerate#1\tv\tseparate into constituents by soaking\t0.5063\n",
      "3618\tacritical#1\ta\twithout a crisis (as of some diseases)\t0.4937\n",
      "104304\toperate_on#1 operate#7\tv\tperform surgery on; The doctors operated on the patient but failed to save his life\t0.5064\n",
      "16589\tpsychoanalytical#1 psychoanalytic#1\ta\tof or relating to or incorporating the methods and theory of psychiatric treatment originated by Sigmund Freud; Freud's psychoanalytical theories; psychoanalytic treatment\t0.5064\n",
      "112208\tapplique#1\tv\tsew on as a decoration\t0.4936\n",
      "116628\tthrone#1\tv\tsit on the throne as a ruler\t0.4936\n",
      "17305\teurasiatic#1 eurasian#1\ta\trelating to, or coming from, Europe and Asia; His mother was Eurasian, and his father Chinese; the Eurasian landmass is the largest in the world\t0.5067\n",
      "562\twide-cut#1 wide#6 full#8\ta\thaving ample fabric; the current taste for wide trousers; a full skirt\t0.5068\n",
      "107199\tset#20 put#6 place#11\tv\testimate; We put the time of arrival at 8 P.M.\t0.5068\n",
      "14055\tnonwashable#1\ta\tnot washable\t0.4931\n",
      "17039\tcorporatist#1\ta\tof or relating to corporatism\t0.4931\n",
      "575\tstigmatic#3 anastigmatic#2\ta\tnot astigmatic\t0.4930\n",
      "18068\tuniversalistic#2\ta\tof or relating to the whole\t0.5070\n",
      "108547\tcover#13\tv\tmaintain a check on; especially by patrolling; The second officer covered the top floor\t0.4930\n",
      "15138\tcollegiate#1 collegial#2\ta\tof or resembling or typical of a college or college students; collegiate living; collegiate attitudes; collegiate clothes\t0.5071\n",
      "8646\ttranscendental#1 preternatural#2 otherworldly#1 nonnatural#1\ta\texisting outside of or not in accordance with nature; find transcendental motives for sublunary action-Aldous Huxley\t0.4929\n",
      "109032\tget#14\tv\tcommunicate with a place or person; establish communication with, as if by telephone; Bill called this number and he got Mary; The operator couldn't get Kobe because of the earthquake\t0.4928\n",
      "114553\tredound#1\tv\treturn or recoil; Fame redounds to the heroes\t0.5072\n",
      "17279\tstoic#2\ta\tpertaining to Stoicism or its followers\t0.4927\n",
      "2285\tvivid#3 brilliant#4 bright#2\ta\thaving striking color; bright dress; brilliant tapestries; a bird with vivid plumage\t0.5073\n",
      "3265\ticonoclastic#2\ta\tdestructive of images used in religious worship; said of religions, such as Islam, in which the representation of living things is prohibited\t0.5074\n",
      "13606\tuntravelled#1 untraveled#1\ta\tnot traveled over or through; untraveled roads\t0.5074\n",
      "112714\temote#1\tv\tgive expression or emotion to, in a stage or movie role\t0.5075\n",
      "109279\tdrive_in#1\tv\tcause a run or runner to be scored; His line double drove in Jim Lemon with the winning run\t0.4925\n",
      "6165\tgoodish#1\ta\tmoderately good of its kind; a goodish wine\t0.5075\n",
      "111566\tsit_down#2 sit#9 seat#1\tv\tshow to a seat; assign a seat for; The host seated me next to Mrs. Smith\t0.4925\n",
      "8259\tmusical#3\ta\tcharacteristic of or resembling or accompanied by music; a musical speaking voice; a musical comedy\t0.5076\n",
      "8173\tinchoative#1\ta\tbeginning to develop; inchoative stages\t0.4924\n",
      "111536\tspot#3 blemish#2\tv\tmar or impair with a flaw; her face was blemished\t0.5077\n",
      "7918\tnarrowed#2\ta\tmade narrow; limited in breadth; narrowed arteries impair blood circulation; a narrowed view of the world\t0.5078\n",
      "114899\ttake#21\tv\ttake by force; Hitler took the Baltic Republics; The army took the fort on the hill\t0.4922\n",
      "18150\ttittering#1 thoriated#1\ta\tbeing or sounding of nervous or suppressed laughter\t0.4922\n",
      "6548\tsteadying#1\ta\tcausing to become steady; had a steadying effect on her nerves\t0.5078\n",
      "15917\ttechnophilic#1\ta\tof or relating to or showing technophilia\t0.4922\n",
      "18008\tdeictic#1\ta\trelating to or characteristic of a word whose reference depends on the circumstances of its use; deictic pronouns\t0.4921\n",
      "2525\tenveloping#1\ta\tsurrounding and closing in on or hemming in; the army's enveloping maneuver\t0.5079\n",
      "107048\tget#20\tv\treach by calculation; What do you get when you add up these numbers?\t0.5079\n",
      "8601\tcontinental#4\ta\tbeing or concerning or limited to a continent especially the continents of North America or Europe; the continental United States; continental Europe; continental waters\t0.4920\n",
      "10799\tirregular#3\ta\t(used of the military) not belonging to or engaged in by regular army forces; irregular troops; irregular warfare\t0.4920\n",
      "17098\thumanitarian#2\ta\tof or relating to or characteristic of humanitarianism; humanitarian aid\t0.5080\n",
      "108120\trefer#5 look_up#1 consult#2\tv\tseek information from; You should consult the dictionary; refer to your notes\t0.4920\n",
      "10585\tstable#3\ta\tnot taking part readily in chemical change\t0.4919\n",
      "17897\tsotho#1\ta\tof or relating to any of the group of Sotho languages; Sotho noun classifiers\t0.5081\n",
      "112063\tpioneer#2 initiate#2\tv\ttake the lead or initiative in; participate in the development of; This South African surgeon pioneered heart transplants\t0.5083\n",
      "14011\tsheltered#1\ta\tprotected from danger or bad weather; a sheltered harbor\t0.5084\n",
      "106598\tdrop#20\tv\tchange from one level to another; She dropped into army jargon\t0.5084\n",
      "14334\tseedy#2 scruffy#1\ta\tshabby and untidy; a surge of ragged scruffy children; he was soiled and seedy and fragrant with gin- Mark Twain\t0.5084\n",
      "6895\tinhuman#2\ta\tbelonging to or resembling something nonhuman; something dark and inhuman in form; a babel of inhuman noises\t0.4915\n",
      "107785\twithdraw#5 unsay#1 take_back#5 swallow#5\tv\ttake back what one has said; He swallowed his words\t0.5085\n",
      "104478\thave#11 experience#5\tv\tundergo; The stocks had a fast run-up\t0.4915\n",
      "5413\tlanky#2 gangly#2 gangling#2\ta\ttall and thin\t0.5085\n",
      "108878\tvisit#6 shoot_the_breeze#1 natter#1 jaw#1 gossip#2 confabulate#2 confab#1 claver#1 chitchat#1 chit-chat#1 chew_the_fat#1 chatter#3 chat#1 chaffer#2\tv\ttalk socially without exchanging too much information; the men were sitting in the cafe and shooting the breeze\t0.4914\n",
      "1837\tcentrical#1 centric#1\ta\thaving or situated at or near a center\t0.5086\n",
      "13565\tthickened#2 calloused#1 callous#2\ta\thaving calluses; having skin made tough and thick through wear; calloused skin; with a workman's callous hands\t0.4914\n",
      "8461\tsoftened#1\ta\ttoned down\t0.4914\n",
      "15023\tkatabolic#1 catabolic#1\ta\trelating to or characterized by catabolism\t0.4914\n",
      "10529\tnoisy#1\ta\tfull of or characterized by loud and nonmusical sounds; a noisy cafeteria; a small noisy dog\t0.5086\n",
      "16497\tecclesiastical#1 ecclesiastic#1\ta\tof or associated with a church (especially a Christian Church); ecclesiastic history\t0.5087\n",
      "106326\turbanize#2 urbanise#1\tv\timpart urban habits, ways of life, or responsibilities upon; Birds are being urbanized by people in outdoor cafes feeding them\t0.4912\n"
     ]
    }
   ],
   "source": [
    "# Filter out already chosen glosses and sort the others by uncertainty from the whole predictions.\n",
    "\n",
    "cand=sentinet_av.loc[(~sentinet_av.is_test)&(~sentinet_av.is_train)].sort_values(by='uncertainty',ascending=True)[:200]\n",
    "\n",
    "for _id,_w,_p,_gloss,_s in zip(cand['id'],cand['SynsetTerms'],cand['POS'],cand['Gloss'],cand['score']):\n",
    "    print('%d\\t%s\\t%s\\t%s\\t%.4f'%(_id,_w,_p,_gloss,_s))"
   ]
  },
  {
   "cell_type": "code",
   "execution_count": null,
   "id": "a49ea21b",
   "metadata": {
    "pycharm": {
     "name": "#%%\n"
    }
   },
   "outputs": [],
   "source": []
  },
  {
   "cell_type": "markdown",
   "id": "320e23e3",
   "metadata": {
    "pycharm": {
     "name": "#%% md\n"
    }
   },
   "source": [
    "## Round6"
   ]
  },
  {
   "cell_type": "code",
   "execution_count": 24,
   "id": "56219c17",
   "metadata": {
    "pycharm": {
     "name": "#%%\n"
    }
   },
   "outputs": [],
   "source": [
    "# -------- SetUp -------- #\n",
    "\n",
    "# Choose training samples from those most uncertain words in round1. Proportion of samples, 1:1\n",
    "# positive: class=1\n",
    "# negative: class=0\n",
    "\n",
    "train_cur=pd.read_csv('Data/train_v1_r6.csv')\n",
    "\n",
    "train_last=pd.read_csv('Data/train_v1_r1tor5.csv')\n",
    "\n",
    "train=pd.concat([train_cur[['id','text','target']],train_last[['id','text','target']]])\n",
    "\n",
    "train_ids=set(train['id'].tolist())\n",
    "\n",
    "sentinet['is_train']=sentinet['id'].apply(lambda x: True if x in train_ids else False)\n",
    "\n",
    "train.to_csv('Data/train_v1_r1tor6.csv')"
   ]
  },
  {
   "cell_type": "code",
   "execution_count": null,
   "id": "f1bc4b9b",
   "metadata": {
    "pycharm": {
     "name": "#%%\n",
     "is_executing": true
    }
   },
   "outputs": [],
   "source": [
    "# -------- Evaluate -------- #\n",
    "\n",
    "# Predict over the whole sentinet. Filter out already chosen glosses and sort the others by uncertainty.\n",
    "\n",
    "# Predicting is done by `train.py`. Remember setting Config.is_predict=True in `train.py`.\n",
    "\n",
    "pred=npy.load('Data/pred.v1.r6.1.npy') # load prediction result\n",
    "assert pred.shape[0]==sentinet_av.shape[0]\n",
    "sentinet_av['score']=pred.flatten()\n",
    "sentinet_av['uncertainty']=sentinet_av['score'].apply(lambda x: abs(x-0.5))\n",
    "\n",
    "\n",
    "\n",
    "# -- adj -- #\n",
    "print('# -- adj -- #')\n",
    "try:\n",
    "    testset_adj=testset_adj.drop(['score'],axis=1)\n",
    "except:\n",
    "    pass\n",
    "testset_adj=testset_adj.merge(sentinet_av[['id','score']],on='id')\n",
    "testset_adj['pred_label']=testset_adj['score'].apply(lambda x: 1 if x>0.5 else 0)\n",
    "testset_adj['target']=testset_adj['class']\n",
    "\n",
    "testset=testset_adj\n",
    "\n",
    "# positive::precision\n",
    "print(\"positive::precision %.3f\"%(testset_adj.loc[(testset_adj.pred_label==1)&(testset_adj.target==1)].shape[0]/testset_adj.loc[(testset_adj.pred_label==1)].shape[0]))\n",
    "print(\"positive::recall %.3f\"%(testset_adj.loc[(testset_adj.pred_label==1)&(testset_adj.target==1)].shape[0]/testset_adj.loc[(testset_adj.target==1)].shape[0]))\n",
    "\n",
    "\n",
    "print(\"negative::precision %.3f\"%(testset_adj.loc[(testset_adj.pred_label==0)&(testset_adj.target==0)].shape[0]/testset_adj.loc[(testset_adj.pred_label==0)].shape[0]))\n",
    "print(\"negative::recall %.3f\"%(testset_adj.loc[(testset_adj.pred_label==0)&(testset_adj.target==0)].shape[0]/testset_adj.loc[(testset_adj.target==0)].shape[0]))\n",
    "\n",
    "pp=testset.loc[(testset.pred_label==1)&(testset.target==1)].shape[0]/testset.loc[(testset.pred_label==1)].shape[0]\n",
    "pr=testset.loc[(testset.pred_label==1)&(testset.target==1)].shape[0]/testset.loc[(testset.target==1)].shape[0]\n",
    "\n",
    "print(\"F1: %.2f\"%(2*pp*pr/(pp+pr)))\n",
    "\n",
    "\n",
    "np=testset.loc[(testset.pred_label==0)&(testset.target==0)].shape[0]/testset.loc[(testset.pred_label==0)].shape[0]\n",
    "nr=testset.loc[(testset.pred_label==0)&(testset.target==0)].shape[0]/testset.loc[(testset.target==0)].shape[0]\n",
    "\n",
    "print(\"N F1: %.2f\"%(2*np*nr/(np+nr)))\n",
    "\n",
    "\n",
    "\n",
    "# -- verb -- #\n",
    "print('# -- verb -- #')\n",
    "try:\n",
    "    testset_v=testset_v.drop(['score'],axis=1)\n",
    "except:\n",
    "    pass\n",
    "\n",
    "testset_v=testset_v.merge(sentinet_av[['id','score']],on='id')\n",
    "testset_v['pred_label']=testset_v['score'].apply(lambda x: 1 if x>0.5 else 0)\n",
    "testset_v['target']=testset_v['class']\n",
    "\n",
    "testset=testset_v\n",
    "\n",
    "# positive::precision\n",
    "print(\"positive::precision %.3f\"%(testset.loc[(testset.pred_label==1)&(testset.target==1)].shape[0]/testset.loc[(testset.pred_label==1)].shape[0]))\n",
    "print(\"positive::recall %.3f\"%(testset.loc[(testset.pred_label==1)&(testset.target==1)].shape[0]/testset.loc[(testset.target==1)].shape[0]))\n",
    "\n",
    "\n",
    "print(\"negative::precision %.3f\"%(testset.loc[(testset.pred_label==0)&(testset.target==0)].shape[0]/testset.loc[(testset.pred_label==0)].shape[0]))\n",
    "print(\"negative::recall %.3f\"%(testset.loc[(testset.pred_label==0)&(testset.target==0)].shape[0]/testset.loc[(testset.target==0)].shape[0]))\n",
    "\n",
    "pp=testset.loc[(testset.pred_label==1)&(testset.target==1)].shape[0]/testset.loc[(testset.pred_label==1)].shape[0]\n",
    "pr=testset.loc[(testset.pred_label==1)&(testset.target==1)].shape[0]/testset.loc[(testset.target==1)].shape[0]\n",
    "\n",
    "print(\"F1: %.2f\"%(2*pp*pr/(pp+pr)))\n",
    "\n",
    "\n",
    "np=testset.loc[(testset.pred_label==0)&(testset.target==0)].shape[0]/testset.loc[(testset.pred_label==0)].shape[0]\n",
    "nr=testset.loc[(testset.pred_label==0)&(testset.target==0)].shape[0]/testset.loc[(testset.target==0)].shape[0]\n",
    "\n",
    "print(\"N F1: %.2f\"%(2*np*nr/(np+nr)))"
   ]
  },
  {
   "cell_type": "code",
   "execution_count": 26,
   "id": "9e40c823",
   "metadata": {
    "pycharm": {
     "name": "#%%\n"
    }
   },
   "outputs": [
    {
     "name": "stdout",
     "output_type": "stream",
     "text": [
      "113485\tmotor#1 drive#2\tv\ttravel or be transported in a vehicle; We drove to the university every morning; They motored to London for the theater\t0.5001\n",
      "109368\tcharm#3\tv\tprotect through supernatural powers or charms\t0.5002\n",
      "116199\tpost#6\tv\tenter on a public list\t0.5004\n",
      "112167\tbrew#1\tv\tprepare by brewing; people have been brewing beer for thousands of years\t0.5007\n",
      "115314\tgive_away#3\tv\tformally hand over to the bridegroom in marriage; of a bride by her father\t0.4993\n",
      "5574\thandicapped#1 disabled#1\ta\tincapable of functioning as a consequence of injury or illness\t0.4990\n",
      "108846\texpress#7\tv\tsend by rapid transport or special messenger service; She expressed the letter to Florida\t0.4989\n",
      "14588\tanacoluthic#1\ta\tof or related to syntactic inconsistencies of the sort known as anacoluthons\t0.4989\n",
      "2892\twhole#1\ta\tincluding all components without exception; being one unit or constituting the full amount or extent or duration; complete; gave his whole attention; a whole wardrobe for the tropics; the whole hog; a whole week; the baby cried the whole trip home; a whole loaf of bread\t0.5012\n",
      "7443\tplaintive#1 mournful#1\ta\texpressing sorrow\t0.5016\n",
      "3120\tstormbound#1\ta\tdelayed or confined or cut off by a storm; the airport was filled with stormbound passengers\t0.5017\n",
      "1196\tbeauteous#1\ta\t(poetic )beautiful, especially to the sight\t0.4982\n",
      "111043\tstop#8 intercept#1\tv\tseize on its way; The fighter plane was ordered to intercept an aircraft that had entered the country's airspace\t0.5018\n",
      "7499\tunmapped#1 uncharted#1 chartless#1\ta\t(of unknown regions) not yet surveyed or investigated; uncharted seas\t0.5019\n",
      "112354\twrite_on#1 write_of#1 write_about#1\tv\twrite about a particular topic; Snow wrote about China\t0.4981\n",
      "17042\tvolumed#1\ta\t(often used in combination) consisting of or having a given number or kind of volumes; the poet's volumed works; a two-volumed history; multi-volumed encyclopedias; large-volumed editions\t0.5022\n",
      "106743\teliminate#7\tv\tremove (an unknown variable) from two or more equations\t0.4976\n",
      "104566\tdrop#21\tv\tfall or sink into a state of exhaustion or death; shop til you drop\t0.5025\n",
      "11676\tvoluptuous#1 toothsome#3 red-hot#1 luscious#1 juicy#2\ta\thaving strong sexual appeal; juicy barmaids; a red-hot mama; a voluptuous woman; a toothsome blonde in a tight dress\t0.4972\n",
      "114530\tstare#1 gaze#1\tv\tlook at with fixed eyes; The students stared at the teacher with amazement\t0.5028\n",
      "2348\tclassified#1\ta\tarranged into classes\t0.5031\n",
      "15848\tsociopathic#1\ta\tof or relating to a sociopathic personality disorder\t0.5034\n",
      "15426\thollywood#1\ta\tof or relating to the film industry in the United States; a Hollywood actor\t0.4964\n",
      "3891\tinflected#2\ta\tshowing alteration in form (especially by the addition of affixes); `boys' and `swam' are inflected English words; German is an inflected language\t0.4962\n",
      "17544\tdjiboutian#1\ta\tof or relating to Djibouti or its people or culture; Djiboutian landscape; Djiboutian merchants; a Djiboutian storyteller\t0.5040\n",
      "16244\tlitigious#1\ta\tof or relating to litigation\t0.5040\n",
      "113996\tovercrowd#1\tv\tcause to crowd together too much; The students overcrowded the cafeteria\t0.4960\n",
      "17869\tsaudi-arabian#1 saudi#1\ta\tof or relating to Saudi Arabia or its people; the Saudi-Arabian desert; the Saudi royal family\t0.4958\n",
      "17547\tdomiciliary#1\ta\tof or relating to or provided in a domicile; domiciliary medical care; domiciliary caves\t0.4954\n",
      "3138\tharmonious#3\ta\tsuitable and fitting; the tailored clothes were harmonious with her military bearing\t0.4952\n",
      "104567\tfall_off#3 fall_away#2\tv\tdiminish in size or intensity\t0.5049\n",
      "114523\tsee#20 examine#2\tv\tobserve, check out, and look over carefully or inspect; The customs agent examined the baggage; I must see your passport before you can enter the country\t0.4951\n",
      "109757\tslake#1 quench#1 assuage#2 allay#2\tv\tsatisfy (thirst); The cold water quenched his thirst\t0.4951\n",
      "1269\timproved#2\ta\tbecome or made better in quality; was proud of his improved grades; an improved viewfinder\t0.4950\n",
      "106701\tsexualize#1 sexualise#1\tv\tmake sexual, endow with sex, attribute sex to; The god was sexualized and married to another god; Some languages sexualize all nouns and do not have a neuter gender\t0.5057\n",
      "7503\tunexplored#1 undiscovered#2\ta\tnot yet discovered; undiscovered islands\t0.5058\n",
      "13039\tassisted#1 aided#1\ta\thaving help; often used as a combining form\t0.4942\n",
      "108850\tnetmail#1 email#1 e-mail#1\tv\tcommunicate electronically on the computer; she e-mailed me the good news\t0.5058\n",
      "113426\tmarch#3\tv\twalk fast, with regular or measured steps; walk with a stride; He marched into the classroom and announced the exam; The soldiers marched across the border\t0.4940\n",
      "113048\tcruise#4\tv\tsail or travel about for pleasure, relaxation, or sightseeing; We were cruising in the Caribbean\t0.4940\n",
      "9668\tuntouchable#3\ta\tforbidden to the touch; in most museums such articles are untouchable\t0.5060\n",
      "12000\tsingular#4\ta\tcomposed of one member, set, or kind\t0.5061\n",
      "116951\tinvolve#5\tv\tcontain as a part; Dinner at Joe's always involves at least six courses\t0.4937\n",
      "514\tmurdered#1\ta\tkilled unlawfully; the murdered woman; lay a wreath on murdered Lincoln's bier\t0.4935\n",
      "117078\tgo#26 fit#2\tv\tbe the right size or shape; fit correctly or as desired; This piece won't fit into the puzzle\t0.4935\n",
      "5934\trich#4 productive#4 fertile#4 fat#5\ta\tmarked by great fruitfulness; fertile farmland; a fat land; a productive vineyard; rich soil\t0.5066\n",
      "49\twolfish#2 voracious#2 ravenous#2 ravening#3 rapacious#3 esurient#3 edacious#1\ta\tdevouring or craving food in great quantities; edacious vultures; a rapacious appetite; ravenous as wolves; voracious sharks\t0.4933\n",
      "112789\tvex#1 rile#1 rag#2 nettle#2 nark#1 irritate#1 gravel#1 get_to#3 get_at#3 devil#1 chafe#3 bother#2 annoy#1\tv\tcause annoyance in; disturb, especially by minor irritations; Mosquitoes buzzing in my ear really bothers me; It irritates me that she never closes the door after she leaves\t0.5068\n",
      "16528\tadministrative#1\ta\tof or relating to or responsible for administration\t0.5068\n",
      "109442\tdrive#21\tv\thunting: search for game; drive the forest\t0.4931\n",
      "8543\tfewest#1\ta\t(superlative of `few' used with count nouns and usually preceded by `the') quantifier meaning the smallest in number; the fewest birds in recent memory\t0.5069\n",
      "108911\tsnort#1\tv\tindicate contempt by breathing noisily and forcefully through the nose; she snorted her disapproval of the proposed bridegroom\t0.4930\n",
      "965\tsceptred#1 sceptered#1 empowered#1\ta\tinvested with legal power or official authority especially as symbolized by having a scepter\t0.4929\n",
      "17441\taspectual#1\ta\tof or belonging to an aspect (as an aspect of the verb); the aspectual system of Greek\t0.4929\n",
      "337\tunmechanical#1 nonmechanical#2\ta\t(of a person) lacking mechanical skills\t0.5073\n",
      "116420\twalk#6\tv\tlive or behave in a specified manner; walk in sadness\t0.5077\n",
      "11516\tminor#8\ta\tof the younger of two boys with the same family name; Jones minor\t0.4922\n",
      "7393\tvitalizing#1 life-giving#1\ta\tgiving or having the power to give life and spirit; returning the life-giving humus to the land- Louis Bromfield; life-giving love and praise; the vitalizing rays of the warming sun\t0.4921\n",
      "9612\tidyllic#1\ta\texcellent and delightful in all respects; an idyllic spot for a picnic\t0.4919\n",
      "107065\tintegrate#4\tv\tcalculate the integral of; calculate by integration\t0.5084\n",
      "115897\tdrive#13\tv\twork as a driver; He drives a bread truck; She drives for the taxi company in Newark\t0.4915\n",
      "104782\tstring_up#2 string#2\tv\tadd as if on a string; string these ideas together; string up these songs and you'll have a musical\t0.5087\n",
      "105175\tparalyze#2 paralyse#2\tv\tcause to be paralyzed and immobile; The poison paralyzed him; Fear paralyzed her\t0.4911\n",
      "117380\tfollow#6 come_after#1\tv\tcome after in time, as a result; A terrible tsunami followed the earthquake\t0.4910\n",
      "5042\ttitillated#1 teased#1\ta\tfeeling mild pleasurable excitement\t0.5093\n",
      "116431\tverify#2 control#5\tv\tcheck or regulate (a scientific experiment) by conducting a parallel experiment or comparing with another standard; Are you controlling for the temperature?\t0.5095\n",
      "7762\tsemiliterate#3\ta\table to read but not to write\t0.5095\n",
      "8287\tintense#1\ta\tpossessing or displaying a distinctive feature to a heightened degree; intense heat; intense anxiety; intense desire; intense emotion; the skunk's intense acrid odor; intense pain; enemy fire was intense\t0.5095\n",
      "12158\tumteenth#1 umptieth#1 umpteenth#1\ta\tlast in an indefinitely numerous series\t0.5096\n",
      "17399\tvoltarian#1 voltarean#1\ta\tin the manner of Voltaire\t0.4903\n",
      "111346\tjuxtapose#1\tv\tplace side by side; The fauvists juxtaposed strong colors\t0.4901\n",
      "6830\tfervid#2 fervent#2\ta\textremely hot; the fervent heat...merely communicated a genial warmth to their half-torpid systems- Nathaniel Hawthorne; set out...when the fervid heat subsides- Frances Trollope\t0.4899\n",
      "17624\ttribal#1\ta\trelating to or characteristic of a tribe; tribal customs\t0.5103\n",
      "108001\tspoof#1 parody#2 burlesque#1\tv\tmake a parody of; The students spoofed the teachers\t0.4896\n",
      "16222\tpolyphonous#1 polyphonic#2\ta\tof or relating to or characterized by polyphony; polyphonic traditions of the baroque\t0.4895\n",
      "114597\tstow_away#1\tv\thide aboard a ship or a plane to get free transportation; The illegal immigrants stowed away on board the freighter\t0.5106\n",
      "9358\tunder-the-table#1 sub-rosa#1 behind-the-scenes#1\ta\tdesigned and carried out secretly or confidentially; a sub-rosa report; has their under-the-table backing\t0.5109\n",
      "2343\thellenic#1 greco-roman#1 graeco-roman#1 classical#5 classic#3\ta\tof or pertaining to or characteristic of the ancient Greek and Roman cultures; classical mythology; classical\t0.5109\n",
      "104045\tglower#1 glare#1\tv\tlook at with a fixed gaze; The girl glared at the man who tried to make a pass at her\t0.5110\n",
      "116849\tcollocate#1\tv\thave a strong tendency to occur side by side; The words 'new' and 'world' collocate\t0.5110\n",
      "10803\tkin#1 consanguineous#1 consanguineal#1 consanguine#1 cognate#3 blood-related#1 akin#2\ta\trelated by blood\t0.5110\n",
      "3760\tmass-produced#1\ta\tproduced in quantity often by assembly-line techniques\t0.4889\n",
      "16633\tcatholic#1\ta\tof or relating to or supporting Catholicism; the Catholic Church\t0.5112\n",
      "105796\tdampen#6\tv\tcheck; keep in check (a fire)\t0.5114\n",
      "528\tlifeless#4\ta\tnot having the capacity to support life; a lifeless planet\t0.4885\n",
      "11607\toverserious#1\ta\texcessively serious\t0.4884\n",
      "10077\tuncultivated#1\ta\t(of land or fields) not prepared for raising crops; uncultivated land\t0.4884\n",
      "111299\tyoke#1\tv\tbecome joined or linked together\t0.4881\n",
      "936\thearable#1 audible#1\ta\theard or perceptible by the ear; he spoke in an audible whisper\t0.4880\n",
      "17420\tablative#1\ta\trelating to the ablative case\t0.5120\n",
      "105753\tmetrify#2 metricize#2 metricise#2 metricate#1\tv\tconvert from a non-metric to the metric system\t0.4879\n",
      "6122\tsure-enough#1 old#6 honest-to-goodness#1 honest-to-god#1\ta\t(used informally especially for emphasis); a real honest-to-god live cowboy; had us a high old time; went upriver to look at a sure-enough fish wheel\t0.4879\n",
      "108708\ttrademark#2\tv\tregister the trademark of; The company trademarked their new gadget\t0.5122\n",
      "107521\triddle#5\tv\tspeak in riddles\t0.4877\n",
      "113896\tpop_off#1\tv\tleave quickly\t0.4876\n",
      "9151\tupset#2 disordered#1 confused#4 broken#8\ta\tthrown into a state of disarray or confusion; troops fleeing in broken ranks; a confused mass of papers on the desk; the small disordered room; with everything so upset\t0.5124\n",
      "14724\tarchiepiscopal#1 archepiscopal#1\ta\tof or associated with an archbishop; an archiepiscopal see\t0.4876\n",
      "112132\ttack_together#1 tack#3 set_up#2 put_together#1 piece#2 assemble#1\tv\tcreate by putting components or members together; She pieced a quilt; He tacked together some verses; They set up a committee\t0.4873\n",
      "109488\tcover#23\tv\tplay a higher card than the one previously played; Smith covered again\t0.4868\n",
      "107609\tpray#1\tv\taddress a deity, a prophet, a saint or an object of worship; say a prayer; pray to the Lord\t0.4867\n",
      "11683\tpornographic#1 adult#2\ta\tdesigned to arouse lust; pornographic films and magazines; adult movies\t0.4867\n",
      "8820\tpestilent#1 pernicious#1 deadly#5 baneful#1\ta\texceedingly harmful\t0.4866\n",
      "13186\tsimilar#4\ta\t(of words) expressing closely related meanings\t0.5134\n",
      "3484\tmaterial#2\ta\tderived from or composed of matter; the material universe\t0.4866\n",
      "108840\tdesignate#1 denominate#1\tv\tassign a name or title to\t0.4864\n",
      "107700\ttake_five#1\tv\ttake a break for five minutes; The musicians took five during the rehearsal\t0.4864\n",
      "15311\texegetical#1 exegetic#1\ta\trelating to exegesis\t0.4862\n",
      "18008\tdeictic#1\ta\trelating to or characteristic of a word whose reference depends on the circumstances of its use; deictic pronouns\t0.5139\n",
      "105750\trepresent#15 map#6\tv\tto establish a mapping (of mathematical elements or sets)\t0.4857\n",
      "1874\tunsure#2 uncertain#1 incertain#1\ta\tlacking or indicating lack of confidence or assurance; uncertain of his convictions; unsure of himself and his future; moving with uncertain (or unsure) steps; an uncertain smile; touched the ornaments with uncertain fingers\t0.4855\n",
      "109250\ttake_the_cake#1\tv\trank first; used often in a negative context; He takes the cake for chutzpah!\t0.4855\n",
      "13615\ttempest-tost#1 tempest-tossed#1 tempest-swept#1 storm-tossed#1 buffeted#1\ta\tpounded or hit repeatedly by storms or adversities\t0.4855\n",
      "5299\tcrazy#4\ta\tbizarre or fantastic; had a crazy dream; wore a crazy hat\t0.5146\n",
      "115149\ttrade#1 merchandise#1\tv\tengage in the trade of; he is merchandising telephone sets\t0.4852\n",
      "17301\tparisian#1\ta\tof or relating to or characteristic of Paris or its inhabitants; Parisian restaurants can be expensive\t0.5149\n",
      "2569\ttogged#1\ta\tdressed especially in smart clothes\t0.4850\n",
      "113984\tsee#22 escort#2\tv\taccompany or escort; I'll see you to the door\t0.5150\n",
      "112002\tcompose#4 compile#2\tv\tput together out of existing material; compile a list\t0.4850\n",
      "6686\thomological#1 homologic#1\ta\tsimilar in evolutionary origin but not in function\t0.5153\n",
      "14756\tassociational#1\ta\tof or relating to associations or associationism\t0.5153\n",
      "106998\tdictate#2\tv\tsay out loud for the purpose of recording; He dictated a report to his secretary\t0.4845\n",
      "109307\tbulldog#1\tv\tattack viciously and ferociously\t0.4844\n",
      "115673\tretrofit#1\tv\tprovide with parts, devices, or equipment not available or in use at the time of the original manufacture; They car companies retrofitted all the old models with new carburetors\t0.4844\n",
      "15465\timmunosuppressed#1\ta\tof persons whose immune response is inadequate\t0.4841\n",
      "111035\tmisdeliver#1\tv\tdeliver to the wrong address\t0.5159\n",
      "7102\tnontransmissible#2 noncontagious#1 noncommunicable#1\ta\t(of disease) not capable of being passed on\t0.4840\n",
      "115280\tstrike#12 light_upon#1 happen_upon#1 fall_upon#1 discover#5 come_upon#1 come_across#1 chance_upon#1 chance_on#1 attain#3\tv\tfind unexpectedly; the archeologists chanced upon an old tomb; she struck a goldmine; The hikers finally struck the main path to the lake\t0.4839\n",
      "15906\tsymptomatic#2\ta\trelating to or according to or affecting a symptom or symptoms; symptomatic relief; symptomatic treatment; a symptomatic classification of diseases\t0.5163\n",
      "17549\tdominican#1\ta\tof or relating to or characteristic of the Dominican Republic or its people; the Dominican population\t0.4837\n",
      "116196\tindex#1\tv\tlist in an index\t0.4837\n",
      "7531\tgalactic#2 astronomical#2 astronomic#2\ta\tinconceivably large\t0.5169\n",
      "8179\tunderdeveloped#2\ta\tnot yet fully developed\t0.4830\n",
      "16802\tsynergistic#2\ta\tof or relating to the theological doctrine of synergism\t0.4830\n",
      "16078\tmoneran#1\ta\tof or relating to the Monera\t0.4826\n",
      "11050\tornate#1 flowery#2\ta\tmarked by elaborate rhetoric and elaborated with decorative details; a flowery speech; ornate rhetoric taught out of the rule of Plato-John Milton\t0.5174\n",
      "5383\tlarghissimo#1\ta\t(of tempo) as slow and broad as possible\t0.5174\n",
      "4795\tzippy#1 spanking#1 snappy#5 rattling#2 merry#3 lively#3 brisk#1 alert#2\ta\tquick and energetic; a brisk walk in the park; a lively gait; a merry chase; traveling at a rattling rate; a snappy pace; a spanking breeze\t0.4823\n",
      "6027\tfurnished#1 equipped#2\ta\tprovided with whatever is necessary for a purpose (as furniture or equipment or authority); a furnished apartment; a completely furnished toolbox\t0.4823\n",
      "12718\tstandard#4 received#1\ta\tconforming to the established language usage of educated native speakers; standard English (American); received standard English is sometimes called the King's English (British)\t0.5179\n",
      "12999\tless#2\ta\t(usually preceded by `no') lower in quality; no less than perfect\t0.4818\n",
      "108696\taccession#1\tv\tmake a record of additions to a collection, such as a library\t0.5182\n",
      "2973\tdiscomposed#1\ta\thaving your composure disturbed; looked about with a wandering and discomposed air\t0.4816\n",
      "10889\tset-aside#1 engaged#3 booked#1\ta\treserved in advance\t0.5192\n",
      "13129\tsuspected#1\ta\tbelieved likely; a suspected thief; a suspected infection\t0.5194\n",
      "116082\tdraw_up#1\tv\tform or arrange in order or formation, as of a body of soldiers\t0.4804\n",
      "6125\tforged#1 bad#13\ta\treproduced fraudulently; like a bad penny...; a forged twenty dollar bill\t0.5197\n",
      "115699\tdelocalize#1\tv\tremove from the proper or usual locality\t0.5198\n",
      "16756\tactuarial#1\ta\tof or relating to the work of an actuary\t0.4802\n",
      "110886\tsingle#1\tv\thit a single; the batter singled to left field\t0.4802\n",
      "113107\tpull#11\tv\trein in to keep from winning a race; pull a horse\t0.4800\n",
      "108731\tscribble#1 scrabble#2\tv\twrite down quickly without much attention to detail\t0.5201\n",
      "3260\tcataclysmic#1 cataclysmal#1\ta\tseverely destructive; cataclysmic nuclear war; a cataclysmic earthquake\t0.4799\n",
      "3259\truinous#2 blasting#1\ta\tcausing injury or blight; especially affecting with sudden violence or plague or ruin; the blasting effects of the intense cold on the budding fruit; the blasting force of the wind blowing sharp needles of sleet in our faces; a ruinous war\t0.5201\n",
      "106999\tread#5\tv\tinterpret the significance of, as of palms, tea leaves, intestines, the sky; also of human behavior; She read the sky and predicted rain; I can't read his strange behavior; The fortune teller read his fate in the crystal ball\t0.4795\n",
      "116308\traid#1 bust#2\tv\tsearch without warning, make a sudden surprise attack on; The police raided the crack house\t0.4795\n",
      "17104\tlogarithmic#1\ta\tof or relating to or using logarithms; logarithmic function\t0.5207\n",
      "108672\tnotate#1\tv\tput into notation, as of music or choreography; Nowadays, you can notate an entire ballet; in the old days, the steps had to be memorized\t0.4792\n",
      "117378\tbelong_to#1 belong#6\tv\tbe a part or adjunct; the uniform looks like it belonged to a museum collection; These pages don't belong\t0.5208\n",
      "9494\tother#2\ta\trecently past; the other evening\t0.5208\n",
      "729\tcollect#1 cod#1\ta\tpayable by the recipient on delivery; a collect call; the letter came collect; a COD parcel\t0.4787\n",
      "5163\tfallow#2\ta\tundeveloped but potentially useful; a fallow gold market\t0.5214\n",
      "8884\tin_use#1 engaged#4 busy#5\ta\t(of facilities such as telephones or lavatories) unavailable for use by anyone else or indicating unavailability; (`engaged' is a British term for a busy telephone line); her line is busy; receptionists' telephones are always engaged; the lavatory is in use; kept getting a busy signal\t0.5214\n",
      "105808\tsharpen#3\tv\tbecome sharp or sharper; The debate sharpened\t0.5214\n",
      "7739\tunlisted#1\ta\tnot on a list; an unlisted telephone number\t0.5215\n",
      "12224\tmillionth#1\ta\tthe ordinal number of one million in counting order\t0.4782\n",
      "107530\traise#22\tv\testablish radio communications with; They managed to raise Hanoi last night\t0.5220\n",
      "15603\tminimalist#1\ta\tof or relating to artistic minimalism\t0.4774\n",
      "113603\tdivert#2\tv\tsend on a course or in a direction different from the planned or intended one\t0.5227\n",
      "240\tmaladjustive#1\ta\tpoorly adjusted\t0.4770\n",
      "6496\tweighty#1\ta\thaving relatively great weight; heavy; a weighty load; a weighty package\t0.4770\n",
      "117047\tquarter#1 canton#1 billet#1\tv\tprovide housing for (military personnel)\t0.5231\n",
      "15855\tspecialistic#1\ta\tof or related to or characteristic of specialists\t0.5232\n",
      "8676\tpsychoneurotic#1 neurotic#2\ta\taffected with emotional disorder\t0.5234\n",
      "14665\tantitypical#1 antitypic#1\ta\tof or relating to an antitype\t0.5234\n",
      "12254\ttriune#1\ta\tbeing three in one; used especially of the Christian Trinity; a triune God\t0.4764\n",
      "108216\tturn_to#1 address#1\tv\tspeak to; He addressed the crowd outside the window\t0.4763\n",
      "106652\tsettle#8\tv\tbecome resolved, fixed, established, or quiet; The roar settled to a thunder; The wind settled in the West; it is settling to rain; A cough settled in her chest; Her mood settled into lethargy\t0.5237\n",
      "113899\tleave#1 go_forth#1 go_away#2\tv\tgo away from a place; At what time does your train leave?; She didn't leave until midnight; The ship leaves at midnight\t0.5239\n",
      "162\tsporty#3\ta\tappropriate for sport or engagement in a sport\t0.5240\n",
      "103907\tinspire#6 inhale#2 breathe_in#1\tv\tdraw in (air); Inhale deeply; inhale the fresh mountain air; The patient has trouble inspiring; The lung cancer patient cannot inspire air very well\t0.4759\n",
      "113960\tmake#37\tv\treach in time; We barely made the plane\t0.4758\n",
      "109585\tfuddle#2 drink#2 booze#1\tv\tconsume alcohol; We were up drinking all night\t0.5243\n",
      "105964\tcome_along#1 appear#5\tv\tcome into being or existence, or appear on the scene; Then the computer came along and changed our lives; Homo sapiens appeared millions of years ago\t0.4756\n",
      "17746\tornithological#1\ta\tof or relating to ornithology; her ornithological interests\t0.4756\n",
      "2358\tsensitive#5\ta\tof or pertaining to classified information or matters affecting national security\t0.5244\n",
      "117540\tbe#5\tv\thappen, occur, take place; I lost my wallet; this was during the visit to my parents' house; There were two hundred people at his funeral; There was a lot of noise in the kitchen\t0.4755\n",
      "108688\tvisa#1\tv\tprovide (a passport) with a visa\t0.5247\n",
      "113825\tset_ahead#1 advance#11\tv\tmove forward; we have to advance clocks and watches when we travel eastward\t0.5248\n",
      "108048\tensky#1\tv\texalt to the skies; lift to the skies or to heaven with praise\t0.5248\n",
      "10327\tvatical#1 vatic#1 sibylline#1 sibyllic#1 mantic#1 divinatory#1\ta\tresembling or characteristic of a prophet or prophecy; the high priest's divinatory pronouncement; mantic powers; a kind of sibylline book with ready and infallible answers to questions\t0.4751\n",
      "117497\tride#7 drive#12\tv\thave certain properties when driven; This car rides smoothly; My new truck drives well\t0.5249\n",
      "4211\tthrough#2\ta\t(of a route or journey etc.) continuing without requiring stops or changes; a through street; a through bus; through traffic\t0.4751\n",
      "107730\texamine#4\tv\tquestion closely\t0.4749\n",
      "117507\tloom#3 hover#5 bulk_large#1 brood#2\tv\thang over, as of something threatening, dark, or menacing; The terrible vision brooded over her all day long\t0.4749\n",
      "112438\tgive#32\tv\tperform for an audience; Pollini is giving another concert in New York\t0.4747\n",
      "2865\tunmixable#1 non-miscible#1 immiscible#1\ta\t(chemistry, physics) incapable of mixing\t0.5253\n",
      "7162\tpolygenic#1\ta\tof or relating to an inheritable character that is controlled by several genes at once; of or related to or determined by polygenes\t0.4746\n",
      "112528\tduplicate#3\tv\tmake a duplicate or duplicates of; Could you please duplicate this letter for me?\t0.4745\n",
      "5088\tliving#5\ta\tstill in active use; a living language\t0.4745\n",
      "8842\tpersonal#2\ta\tparticular to a given individual\t0.4744\n"
     ]
    }
   ],
   "source": [
    "# Filter out already chosen glosses and sort the others by uncertainty from the whole predictions.\n",
    "\n",
    "cand=sentinet_av.loc[(~sentinet_av.is_test)&(~sentinet_av.is_train)].sort_values(by='uncertainty',ascending=True)[:200]\n",
    "\n",
    "for _id,_w,_p,_gloss,_s in zip(cand['id'],cand['SynsetTerms'],cand['POS'],cand['Gloss'],cand['score']):\n",
    "    print('%d\\t%s\\t%s\\t%s\\t%.4f'%(_id,_w,_p,_gloss,_s))"
   ]
  },
  {
   "cell_type": "markdown",
   "id": "232bbe0c",
   "metadata": {
    "pycharm": {
     "name": "#%% md\n"
    }
   },
   "source": [
    "## Round7"
   ]
  },
  {
   "cell_type": "code",
   "execution_count": 27,
   "id": "57e01fd1",
   "metadata": {
    "pycharm": {
     "name": "#%%\n"
    }
   },
   "outputs": [],
   "source": [
    "# -------- SetUp -------- #\n",
    "\n",
    "# Choose training samples from those most uncertain words in round1. Proportion of samples, 1:1\n",
    "# positive: class=1\n",
    "# negative: class=0\n",
    "\n",
    "train_cur=pd.read_csv('Data/train_v1_r7.csv')\n",
    "\n",
    "train_last=pd.read_csv('Data/train_v1_r1tor6.csv')\n",
    "\n",
    "train=pd.concat([train_cur[['id','text','target']],train_last[['id','text','target']]])\n",
    "\n",
    "train_ids=set(train['id'].tolist())\n",
    "\n",
    "sentinet['is_train']=sentinet['id'].apply(lambda x: True if x in train_ids else False)\n",
    "\n",
    "train.to_csv('Data/train_v1_r1tor7.csv')"
   ]
  },
  {
   "cell_type": "code",
   "execution_count": null,
   "id": "60b07e72",
   "metadata": {
    "pycharm": {
     "name": "#%%\n",
     "is_executing": true
    }
   },
   "outputs": [],
   "source": [
    "# -------- Evaluate -------- #\n",
    "\n",
    "# Predict over the whole sentinet. Filter out already chosen glosses and sort the others by uncertainty.\n",
    "\n",
    "# Predicting is done by `train.py`. Remember setting Config.is_predict=True in `train.py`.\n",
    "\n",
    "pred=npy.load('Data/pred.v1.r7.1.npy') # load prediction result\n",
    "assert pred.shape[0]==sentinet_av.shape[0]\n",
    "sentinet_av['score']=pred.flatten()\n",
    "sentinet_av['uncertainty']=sentinet_av['score'].apply(lambda x: abs(x-0.5))\n",
    "\n",
    "\n",
    "\n",
    "# -- adj -- #\n",
    "print('# -- adj -- #')\n",
    "try:\n",
    "    testset_adj=testset_adj.drop(['score'],axis=1)\n",
    "except:\n",
    "    pass\n",
    "testset_adj=testset_adj.merge(sentinet_av[['id','score']],on='id')\n",
    "testset_adj['pred_label']=testset_adj['score'].apply(lambda x: 1 if x>0.5 else 0)\n",
    "testset_adj['target']=testset_adj['class']\n",
    "\n",
    "testset=testset_adj\n",
    "\n",
    "# positive::precision\n",
    "print(\"positive::precision %.3f\"%(testset_adj.loc[(testset_adj.pred_label==1)&(testset_adj.target==1)].shape[0]/testset_adj.loc[(testset_adj.pred_label==1)].shape[0]))\n",
    "print(\"positive::recall %.3f\"%(testset_adj.loc[(testset_adj.pred_label==1)&(testset_adj.target==1)].shape[0]/testset_adj.loc[(testset_adj.target==1)].shape[0]))\n",
    "\n",
    "\n",
    "print(\"negative::precision %.3f\"%(testset_adj.loc[(testset_adj.pred_label==0)&(testset_adj.target==0)].shape[0]/testset_adj.loc[(testset_adj.pred_label==0)].shape[0]))\n",
    "print(\"negative::recall %.3f\"%(testset_adj.loc[(testset_adj.pred_label==0)&(testset_adj.target==0)].shape[0]/testset_adj.loc[(testset_adj.target==0)].shape[0]))\n",
    "\n",
    "pp=testset.loc[(testset.pred_label==1)&(testset.target==1)].shape[0]/testset.loc[(testset.pred_label==1)].shape[0]\n",
    "pr=testset.loc[(testset.pred_label==1)&(testset.target==1)].shape[0]/testset.loc[(testset.target==1)].shape[0]\n",
    "\n",
    "print(\"F1: %.2f\"%(2*pp*pr/(pp+pr)))\n",
    "\n",
    "\n",
    "np=testset.loc[(testset.pred_label==0)&(testset.target==0)].shape[0]/testset.loc[(testset.pred_label==0)].shape[0]\n",
    "nr=testset.loc[(testset.pred_label==0)&(testset.target==0)].shape[0]/testset.loc[(testset.target==0)].shape[0]\n",
    "\n",
    "print(\"N F1: %.2f\"%(2*np*nr/(np+nr)))\n",
    "\n",
    "\n",
    "\n",
    "# -- verb -- #\n",
    "print('# -- verb -- #')\n",
    "try:\n",
    "    testset_v=testset_v.drop(['score'],axis=1)\n",
    "except:\n",
    "    pass\n",
    "\n",
    "testset_v=testset_v.merge(sentinet_av[['id','score']],on='id')\n",
    "testset_v['pred_label']=testset_v['score'].apply(lambda x: 1 if x>0.5 else 0)\n",
    "testset_v['target']=testset_v['class']\n",
    "\n",
    "testset=testset_v\n",
    "\n",
    "# positive::precision\n",
    "print(\"positive::precision %.3f\"%(testset.loc[(testset.pred_label==1)&(testset.target==1)].shape[0]/testset.loc[(testset.pred_label==1)].shape[0]))\n",
    "print(\"positive::recall %.3f\"%(testset.loc[(testset.pred_label==1)&(testset.target==1)].shape[0]/testset.loc[(testset.target==1)].shape[0]))\n",
    "\n",
    "\n",
    "print(\"negative::precision %.3f\"%(testset.loc[(testset.pred_label==0)&(testset.target==0)].shape[0]/testset.loc[(testset.pred_label==0)].shape[0]))\n",
    "print(\"negative::recall %.3f\"%(testset.loc[(testset.pred_label==0)&(testset.target==0)].shape[0]/testset.loc[(testset.target==0)].shape[0]))\n",
    "\n",
    "pp=testset.loc[(testset.pred_label==1)&(testset.target==1)].shape[0]/testset.loc[(testset.pred_label==1)].shape[0]\n",
    "pr=testset.loc[(testset.pred_label==1)&(testset.target==1)].shape[0]/testset.loc[(testset.target==1)].shape[0]\n",
    "\n",
    "print(\"F1: %.2f\"%(2*pp*pr/(pp+pr)))\n",
    "\n",
    "\n",
    "np=testset.loc[(testset.pred_label==0)&(testset.target==0)].shape[0]/testset.loc[(testset.pred_label==0)].shape[0]\n",
    "nr=testset.loc[(testset.pred_label==0)&(testset.target==0)].shape[0]/testset.loc[(testset.target==0)].shape[0]\n",
    "\n",
    "print(\"N F1: %.2f\"%(2*np*nr/(np+nr)))"
   ]
  },
  {
   "cell_type": "markdown",
   "id": "2d86a5e9",
   "metadata": {
    "pycharm": {
     "name": "#%% md\n"
    }
   },
   "source": [
    "## Round7.2"
   ]
  },
  {
   "cell_type": "code",
   "execution_count": 29,
   "id": "51eae74b",
   "metadata": {
    "pycharm": {
     "name": "#%%\n"
    }
   },
   "outputs": [],
   "source": [
    "# -------- SetUp -------- #\n",
    "\n",
    "# Choose training samples from those most uncertain words in round1. Proportion of samples, 1:1\n",
    "# positive: class=1\n",
    "# negative: class=0\n",
    "\n",
    "train_cur=pd.read_csv('Data/train_v1_r7_2.csv')\n",
    "\n",
    "train_last=pd.read_csv('Data/train_v1_r1tor6.csv')\n",
    "\n",
    "train=pd.concat([train_cur[['id','text','target']],train_last[['id','text','target']]])\n",
    "\n",
    "train_ids=set(train['id'].tolist())\n",
    "\n",
    "sentinet['is_train']=sentinet['id'].apply(lambda x: True if x in train_ids else False)\n",
    "\n",
    "train.to_csv('Data/train_v1_r1tor7_2.csv')"
   ]
  },
  {
   "cell_type": "markdown",
   "id": "fabc3d29",
   "metadata": {
    "pycharm": {
     "name": "#%% md\n"
    }
   },
   "source": [
    "    R7.2 evaluation is exactly the same as R7.1. R7.1 is worse, so we choose R6 as final."
   ]
  },
  {
   "cell_type": "markdown",
   "id": "3267abfd",
   "metadata": {
    "pycharm": {
     "name": "#%% md\n"
    }
   },
   "source": [
    "# Release"
   ]
  },
  {
   "cell_type": "code",
   "execution_count": 102,
   "id": "712a4bbe",
   "metadata": {
    "pycharm": {
     "name": "#%%\n"
    }
   },
   "outputs": [
    {
     "data": {
      "text/html": [
       "<div>\n",
       "<style scoped>\n",
       "    .dataframe tbody tr th:only-of-type {\n",
       "        vertical-align: middle;\n",
       "    }\n",
       "\n",
       "    .dataframe tbody tr th {\n",
       "        vertical-align: top;\n",
       "    }\n",
       "\n",
       "    .dataframe thead th {\n",
       "        text-align: right;\n",
       "    }\n",
       "</style>\n",
       "<table border=\"1\" class=\"dataframe\">\n",
       "  <thead>\n",
       "    <tr style=\"text-align: right;\">\n",
       "      <th></th>\n",
       "      <th>Unnamed: 0</th>\n",
       "      <th>POS</th>\n",
       "      <th>SynsetTerms</th>\n",
       "      <th>Gloss</th>\n",
       "      <th>id</th>\n",
       "      <th>is_test</th>\n",
       "      <th>text</th>\n",
       "      <th>target</th>\n",
       "      <th>is_train</th>\n",
       "      <th>score</th>\n",
       "      <th>uncertainty</th>\n",
       "    </tr>\n",
       "  </thead>\n",
       "  <tbody>\n",
       "    <tr>\n",
       "      <th>0</th>\n",
       "      <td>0</td>\n",
       "      <td>a</td>\n",
       "      <td>able#1</td>\n",
       "      <td>(usually followed by `to') having the necessar...</td>\n",
       "      <td>0</td>\n",
       "      <td>False</td>\n",
       "      <td>(usually followed by `to') having the necessar...</td>\n",
       "      <td>-1</td>\n",
       "      <td>False</td>\n",
       "      <td>0.634957</td>\n",
       "      <td>0.134957</td>\n",
       "    </tr>\n",
       "    <tr>\n",
       "      <th>1</th>\n",
       "      <td>1</td>\n",
       "      <td>a</td>\n",
       "      <td>unable#1</td>\n",
       "      <td>(usually followed by `to') not having the nece...</td>\n",
       "      <td>1</td>\n",
       "      <td>False</td>\n",
       "      <td>(usually followed by `to') not having the nece...</td>\n",
       "      <td>-1</td>\n",
       "      <td>False</td>\n",
       "      <td>0.744525</td>\n",
       "      <td>0.244525</td>\n",
       "    </tr>\n",
       "    <tr>\n",
       "      <th>2</th>\n",
       "      <td>2</td>\n",
       "      <td>a</td>\n",
       "      <td>dorsal#2 abaxial#1</td>\n",
       "      <td>facing away from the axis of an organ or organ...</td>\n",
       "      <td>2</td>\n",
       "      <td>False</td>\n",
       "      <td>facing away from the axis of an organ or organ...</td>\n",
       "      <td>-1</td>\n",
       "      <td>False</td>\n",
       "      <td>0.518400</td>\n",
       "      <td>0.018400</td>\n",
       "    </tr>\n",
       "    <tr>\n",
       "      <th>3</th>\n",
       "      <td>3</td>\n",
       "      <td>a</td>\n",
       "      <td>ventral#2 adaxial#1</td>\n",
       "      <td>nearest to or facing toward the axis of an org...</td>\n",
       "      <td>3</td>\n",
       "      <td>False</td>\n",
       "      <td>nearest to or facing toward the axis of an org...</td>\n",
       "      <td>-1</td>\n",
       "      <td>False</td>\n",
       "      <td>0.552861</td>\n",
       "      <td>0.052861</td>\n",
       "    </tr>\n",
       "    <tr>\n",
       "      <th>4</th>\n",
       "      <td>4</td>\n",
       "      <td>a</td>\n",
       "      <td>acroscopic#1</td>\n",
       "      <td>facing or on the side toward the apex</td>\n",
       "      <td>4</td>\n",
       "      <td>False</td>\n",
       "      <td>facing or on the side toward the apex</td>\n",
       "      <td>-1</td>\n",
       "      <td>False</td>\n",
       "      <td>0.378825</td>\n",
       "      <td>0.121175</td>\n",
       "    </tr>\n",
       "  </tbody>\n",
       "</table>\n",
       "</div>"
      ],
      "text/plain": [
       "   Unnamed: 0 POS          SynsetTerms  \\\n",
       "0           0   a               able#1   \n",
       "1           1   a             unable#1   \n",
       "2           2   a   dorsal#2 abaxial#1   \n",
       "3           3   a  ventral#2 adaxial#1   \n",
       "4           4   a         acroscopic#1   \n",
       "\n",
       "                                               Gloss  id  is_test  \\\n",
       "0  (usually followed by `to') having the necessar...   0    False   \n",
       "1  (usually followed by `to') not having the nece...   1    False   \n",
       "2  facing away from the axis of an organ or organ...   2    False   \n",
       "3  nearest to or facing toward the axis of an org...   3    False   \n",
       "4              facing or on the side toward the apex   4    False   \n",
       "\n",
       "                                                text  target  is_train  \\\n",
       "0  (usually followed by `to') having the necessar...      -1     False   \n",
       "1  (usually followed by `to') not having the nece...      -1     False   \n",
       "2  facing away from the axis of an organ or organ...      -1     False   \n",
       "3  nearest to or facing toward the axis of an org...      -1     False   \n",
       "4              facing or on the side toward the apex      -1     False   \n",
       "\n",
       "      score  uncertainty  \n",
       "0  0.634957     0.134957  \n",
       "1  0.744525     0.244525  \n",
       "2  0.518400     0.018400  \n",
       "3  0.552861     0.052861  \n",
       "4  0.378825     0.121175  "
      ]
     },
     "execution_count": 102,
     "metadata": {},
     "output_type": "execute_result"
    }
   ],
   "source": [
    "sentinet_av.head()"
   ]
  },
  {
   "cell_type": "code",
   "execution_count": null,
   "id": "77387ba0",
   "metadata": {
    "pycharm": {
     "name": "#%%\n"
    }
   },
   "outputs": [],
   "source": [
    "# Release result as a dataframe\n",
    "# --------------------\n",
    "# POS\n",
    "# SynsetTerms\n",
    "# Gloss\n",
    "# ID\n",
    "# Class: \"physical\" or \"mental\" or \"unavailable\". Class is \"unavailable\" if score = -1, \"physical\" if score < 0.5\n",
    "#     \"mental\" if score >= 0.5.\n",
    "# Score: [0,1] or -1. For POS in (n,r), score is -1. For POS in (adj,v), score belongs to [0,1]. \n",
    "#     More close to 1, more confident that it's \"mental\". \n",
    "#     Similarly, more close to 1, more confident that it's \"physical\".\n",
    "\n"
   ]
  },
  {
   "cell_type": "code",
   "execution_count": null,
   "id": "40f17aa0",
   "metadata": {
    "pycharm": {
     "name": "#%%\n",
     "is_executing": true
    }
   },
   "outputs": [],
   "source": [
    "adv['Score']=-1\n",
    "adv['Class']=\"unavailable\"\n",
    "adv['ID']=adv['id']\n",
    "\n",
    "noun['Score']=-1\n",
    "noun['Class']=\"unavailable\"\n",
    "noun['ID']=noun['id']\n",
    "\n",
    "sentinet_av['Score']=sentinet_av['score']\n",
    "sentinet_av['Class']=sentinet_av['Score'].apply(lambda x: 'physical' if x<0.5 else 'mental')\n",
    "sentinet_av['ID']=sentinet_av['id']\n",
    "\n",
    "cols=['ID','POS','SynsetTerms','Gloss','Class','Score']\n",
    "ment_phy_net=pd.concat([sentinet_av[cols],adv[cols],noun[cols]])\n",
    "\n",
    "ment_phy_net.to_csv('Data/ment_phy_net_v2.csv')"
   ]
  }
 ],
 "metadata": {
  "kernelspec": {
   "display_name": "py36",
   "language": "python",
   "name": "py36"
  },
  "language_info": {
   "codemirror_mode": {
    "name": "ipython",
    "version": 3
   },
   "file_extension": ".py",
   "mimetype": "text/x-python",
   "name": "python",
   "nbconvert_exporter": "python",
   "pygments_lexer": "ipython3",
   "version": "3.6.15"
  },
  "toc": {
   "base_numbering": 1,
   "nav_menu": {},
   "number_sections": true,
   "sideBar": true,
   "skip_h1_title": false,
   "title_cell": "Table of Contents",
   "title_sidebar": "Contents",
   "toc_cell": false,
   "toc_position": {
    "height": "calc(100% - 180px)",
    "left": "10px",
    "top": "150px",
    "width": "235px"
   },
   "toc_section_display": true,
   "toc_window_display": true
  }
 },
 "nbformat": 4,
 "nbformat_minor": 5
}